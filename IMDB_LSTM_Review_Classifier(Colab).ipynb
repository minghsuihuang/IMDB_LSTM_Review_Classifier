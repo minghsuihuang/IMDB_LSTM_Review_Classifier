{
  "nbformat": 4,
  "nbformat_minor": 0,
  "metadata": {
    "colab": {
      "provenance": [],
      "gpuType": "T4"
    },
    "kernelspec": {
      "name": "python3",
      "display_name": "Python 3"
    },
    "language_info": {
      "name": "python"
    },
    "accelerator": "GPU"
  },
  "cells": [
    {
      "cell_type": "code",
      "execution_count": 1,
      "metadata": {
        "colab": {
          "base_uri": "https://localhost:8080/"
        },
        "id": "lV9E8vKW5xSd",
        "outputId": "9c557e07-bab5-49a6-b738-a3dc3ccb6d77"
      },
      "outputs": [
        {
          "output_type": "stream",
          "name": "stdout",
          "text": [
            "Mounted at /content/drive\n"
          ]
        }
      ],
      "source": [
        "from google.colab import drive\n",
        "drive.mount('/content/drive')\n"
      ]
    },
    {
      "cell_type": "code",
      "source": [
        "!gdown --id 1FJ02rEvYdXqWEOx4td6iEyIwVS6dBw1J"
      ],
      "metadata": {
        "colab": {
          "base_uri": "https://localhost:8080/"
        },
        "id": "_4FRU7nq51nI",
        "outputId": "bce775b6-07ba-44c3-a0d6-3d77ea4dee23"
      },
      "execution_count": 2,
      "outputs": [
        {
          "output_type": "stream",
          "name": "stdout",
          "text": [
            "/usr/local/lib/python3.10/dist-packages/gdown/cli.py:121: FutureWarning: Option `--id` was deprecated in version 4.3.1 and will be removed in 5.0. You don't need to pass it anymore to use a file ID.\n",
            "  warnings.warn(\n",
            "Downloading...\n",
            "From: https://drive.google.com/uc?id=1FJ02rEvYdXqWEOx4td6iEyIwVS6dBw1J\n",
            "To: /content/IMDB Dataset.csv\n",
            "100% 66.2M/66.2M [00:02<00:00, 25.0MB/s]\n"
          ]
        }
      ]
    },
    {
      "cell_type": "code",
      "source": [
        "import torch\n",
        "import torch.nn as nn\n",
        "import torch.optim as opt\n",
        "import torch.nn.functional as F\n",
        "from torch.utils.data import Dataset, DataLoader\n",
        "import os\n",
        "import re\n",
        "import numpy as np\n",
        "from tqdm import tqdm\n",
        "import torch.utils.data as data\n",
        "import pandas as pd\n",
        "import matplotlib.pyplot as plt\n",
        "import pickle\n",
        "from torch.optim.lr_scheduler import StepLR\n",
        "\n",
        "# 檢查是否有可用的GPU，如果沒有，就用CPU\n",
        "device = torch.device(\"cuda\" if torch.cuda.is_available() else \"cpu\")\n",
        "\n",
        "# 定義一個數據集類，用於IMDB影評數據\n",
        "class IMDB(Dataset):\n",
        "    def __init__(self, data, max_len=500):\n",
        "        self.data = []\n",
        "        reviews = data['review'].tolist()\n",
        "        sentiments = data['sentiment'].tolist()\n",
        "\n",
        "        # 處理文本數據，將其轉換為數字表示\n",
        "        reviews, max_len, self.token_to_num = self.get_token2num_maxlen(reviews)\n",
        "        max_len = 500\n",
        "\n",
        "        # 對每條評論進行填充或截斷，使其長度一致\n",
        "        for review, sentiment in zip(reviews, sentiments):\n",
        "            if max_len > len(review):\n",
        "                padding_cnt = max_len - len(review)\n",
        "                review += padding_cnt * [0]\n",
        "            else:\n",
        "                review = review[:max_len]\n",
        "\n",
        "            # 將情感標籤轉換為數字\n",
        "            if sentiment == 'positive':\n",
        "                label = 1\n",
        "            else:\n",
        "                label = 0\n",
        "\n",
        "            self.data.append([review, label])\n",
        "\n",
        "    def __getitem__(self, index):\n",
        "        # 獲取單個數據樣本\n",
        "        datas = torch.tensor(self.data[index][0])\n",
        "        labels = torch.tensor(self.data[index][1])\n",
        "        return datas, labels\n",
        "\n",
        "    def __len__(self):\n",
        "        # 數據集的長度\n",
        "        return len(self.data)\n",
        "\n",
        "    # 文本預處理函數\n",
        "    def preprocess_text(self, sentence):\n",
        "        sentence = re.sub(r'<[^>]+>', ' ', sentence) # 移除HTML標籤\n",
        "        sentence = re.sub('[^a-zA-Z]', ' ', sentence) # 保留字母\n",
        "        sentence = re.sub(r\"\\s+[a-zA-Z]\\s+\", ' ', sentence) # 移除單個字母\n",
        "        sentence = re.sub(r'\\s+', ' ', sentence) # 移除多餘空格\n",
        "        return sentence.lower() # 轉換為小寫\n",
        "\n",
        "    # 將文本轉換為數字表示\n",
        "    def get_token2num_maxlen(self, reviews, enable=True):\n",
        "        token = []\n",
        "        for review in reviews:\n",
        "            review = self.preprocess_text(review)\n",
        "            token += review.split(' ')\n",
        "\n",
        "        token_to_num = {data: cnt for cnt, data in enumerate(list(set(token)), 1)}\n",
        "        num = []\n",
        "        max_len = 0\n",
        "        for review in reviews:\n",
        "            review = self.preprocess_text(review)\n",
        "            tmp = []\n",
        "            for token in review.split(' '):\n",
        "                tmp.append(token_to_num[token])\n",
        "\n",
        "            if len(tmp) > max_len:\n",
        "                max_len = len(tmp)\n",
        "            num.append(tmp)\n",
        "\n",
        "        return num, max_len, token_to_num\n",
        "\n",
        "# 定義模型類，這是一個基於LSTM的模型\n",
        "class Model(nn.Module):\n",
        "    def __init__(self, embedding_dim, hidden_size, num_layer, token_to_num):\n",
        "        super().__init__()\n",
        "        self.embedding_dim = embedding_dim\n",
        "        self.hidden_size = hidden_size\n",
        "        self.num_layer = num_layer\n",
        "        self.token_to_num = token_to_num\n",
        "\n",
        "        # 定義模型的各個層\n",
        "        self.embedding = nn.Embedding(127561, self.embedding_dim)\n",
        "        self.lstm = nn.LSTM(self.embedding_dim, self.hidden_size, self.num_layer, bidirectional=True)\n",
        "        self.fc = nn.Linear(hidden_size * 4, 20)\n",
        "        self.fc1 = nn.Linear(20, 2)\n",
        "\n",
        "    # 文本預處理函數，與IMDB類中的相同\n",
        "    def preprocess_text(self, sentence):\n",
        "        sentence = re.sub(r'<[^>]+>', ' ', sentence)\n",
        "        sentence = re.sub('[^a-zA-Z]', ' ', sentence)\n",
        "        sentence = re.sub(r\"\\s+[a-zA-Z]\\s+\", ' ', sentence)\n",
        "        sentence = re.sub(r'\\s+', ' ', sentence)\n",
        "        return sentence.lower()\n",
        "\n",
        "    # 定義模型的前向傳播過程\n",
        "    def forward(self, x):\n",
        "        x = self.embedding(x)\n",
        "        states, hidden = self.lstm(x.permute([1,0,2]), None)\n",
        "        x = torch.cat((states[0], states[-1]), 1)\n",
        "        x = F.relu(self.fc(x))\n",
        "        x = F.relu(self.fc1(x))\n",
        "        x = torch.sigmoid(x)\n",
        "        return x\n",
        "\n",
        "    # 定義預測函數，用於對單條評論進行情感預測\n",
        "    def predict(self, review, max_len=500):\n",
        "        processed_review = self.preprocess_text(review)\n",
        "        num_review = [self.token_to_num.get(word, 0) for word in processed_review.split()]\n",
        "        if len(num_review) < max_len:\n",
        "            num_review += [0] * (max_len - len(num_review))\n",
        "        else:\n",
        "            num_review = num_review[:max_len]\n",
        "\n",
        "        with torch.no_grad():\n",
        "            data = torch.tensor([num_review]).to(device)\n",
        "            output = self(data)\n",
        "            prediction = torch.argmax(output, dim=1)\n",
        "        return prediction.item()\n",
        "\n",
        "# 定義訓練函數\n",
        "def train(train_loader, test_loader, model, optimizer, criterion, model_save_path):#, scheduler):\n",
        "    epochs = 200\n",
        "    train_losses, train_accs, test_accs = [], [], []\n",
        "    best_acc = 0.0\n",
        "\n",
        "    for epoch in range(epochs):\n",
        "        train_loss = 0\n",
        "        train_acc = 0\n",
        "        train_iter = tqdm(train_loader, desc=f'Epoch {epoch+1}/{epochs} [Train]')\n",
        "\n",
        "        model.train()\n",
        "        for cnt, (data, label) in enumerate(train_iter, 1):\n",
        "            data, label = data.to(device), label.to(device)\n",
        "            outputs = model(data)\n",
        "            loss = criterion(outputs, label)\n",
        "            _, predict_label = torch.max(outputs, 1)\n",
        "\n",
        "            optimizer.zero_grad()\n",
        "            loss.backward()\n",
        "            optimizer.step()\n",
        "\n",
        "            train_loss += loss.item()\n",
        "            train_acc += (predict_label == label).sum().item()\n",
        "\n",
        "            train_iter.set_postfix(loss=train_loss / cnt, acc=train_acc / (cnt * data.size(0)))\n",
        "\n",
        "        avg_train_loss = train_loss / len(train_loader)\n",
        "        avg_train_acc = train_acc / len(train_loader.dataset)\n",
        "        train_losses.append(avg_train_loss)\n",
        "        train_accs.append(avg_train_acc)\n",
        "\n",
        "        # 更新學習率\n",
        "        #scheduler.step()\n",
        "\n",
        "        # 開始測試階段\n",
        "        test_loss = 0\n",
        "        test_acc = 0\n",
        "        test_iter = tqdm(test_loader, desc=f'Epoch {epoch+1}/{epochs} [Test]')\n",
        "        model.eval()\n",
        "        with torch.no_grad():\n",
        "            for cnt, (data, label) in enumerate(test_iter, 1):\n",
        "                data, label = data.to(device), label.to(device)\n",
        "                outputs = model(data)\n",
        "                loss = criterion(outputs, label)\n",
        "                _, predict_label = torch.max(outputs, 1)\n",
        "                test_loss += loss.item()\n",
        "                test_acc += (predict_label == label).sum().item()\n",
        "\n",
        "                test_iter.set_postfix(loss=test_loss / cnt, acc=test_acc / (cnt * data.size(0)))\n",
        "\n",
        "        avg_test_acc = test_acc / len(test_loader.dataset)\n",
        "        test_accs.append(avg_test_acc)\n",
        "\n",
        "        # 打印訓練結果\n",
        "        print(f'Epoch {epoch+1}/{epochs} - Train Loss: {avg_train_loss:.4f}, Train Acc: {avg_train_acc:.4f}, Test Acc: {avg_test_acc:.4f}')\n",
        "\n",
        "        # 保存最好的模型\n",
        "        if avg_test_acc > best_acc:\n",
        "            best_acc = avg_test_acc\n",
        "            torch.save(model.state_dict(), model_save_path)\n",
        "            print(f'Model saved with accuracy: {best_acc:.4f}')\n",
        "\n",
        "    return train_losses, train_accs, test_accs\n",
        "\n",
        "# 讀取IMDB數據集\n",
        "df = pd.read_csv('/content/IMDB_Dataset.csv')\n",
        "\n",
        "# 數據處理\n",
        "dataset = IMDB(df)\n",
        "_, _, token_to_num = dataset.get_token2num_maxlen(df['review'].tolist())\n",
        "# 將token到數字的映射保存到文件，方便之後使用\n",
        "with open('token_to_num.pkl', 'wb') as f:\n",
        "    pickle.dump(token_to_num, f)\n",
        "\n",
        "# 切分數據集為訓練集和測試集\n",
        "train_set_size = int(len(dataset) * 0.8)  # 80%作為訓練集\n",
        "test_set_size = len(dataset) - train_set_size  # 剩下的作為測試集\n",
        "train_set, test_set = data.random_split(dataset, [train_set_size, test_set_size])\n",
        "\n",
        "# 創建DataLoader來加載數據集，方便批量處理\n",
        "train_loader = DataLoader(train_set, batch_size=128, shuffle=True, num_workers=0)\n",
        "test_loader = DataLoader(test_set, batch_size=128, shuffle=True, num_workers=0)\n",
        "\n",
        "# 從文件加載token到數字的映射\n",
        "with open('token_to_num.pkl', 'rb') as f:\n",
        "    token_to_num = pickle.load(f)\n",
        "\n",
        "# 初始化模型、優化器、學習率調度器和損失函數\n",
        "model = Model(embedding_dim=256, hidden_size=64, num_layer=2, token_to_num=token_to_num).to(device)\n",
        "optimizer = opt.Adam(model.parameters(), lr=0.001)\n",
        "#scheduler = StepLR(optimizer, step_size=50, gamma=0.1)  # 每50個epoch調整學習率\n",
        "criterion = nn.CrossEntropyLoss()\n",
        "\n",
        "# 訓練模型並保存最佳模型\n",
        "model_save_path = '/content/drive/MyDrive/best_model.pt'\n",
        "train_losses, train_accs, test_accs = train(train_loader, test_loader, model, optimizer, criterion, model_save_path)#, scheduler)\n",
        "\n",
        "# 繪製訓練和測試過程中的損失和準確率\n",
        "plt.figure(figsize=(12, 6))\n",
        "plt.subplot(1, 2, 1)\n",
        "plt.plot(train_losses, label='Train Loss')\n",
        "plt.title('Training Loss')\n",
        "plt.xlabel('Epoch')\n",
        "plt.ylabel('Loss')\n",
        "plt.legend()\n",
        "\n",
        "plt.subplot(1, 2, 2)\n",
        "plt.plot(train_accs, label='Train Accuracy')\n",
        "plt.plot(test_accs, label='Test Accuracy')\n",
        "plt.title('Accuracy')\n",
        "plt.xlabel('Epoch')\n",
        "plt.ylabel('Accuracy')\n",
        "plt.legend()\n",
        "\n",
        "plt.show()\n",
        "\n",
        "# 保存最終模型\n",
        "model_save_path = '/content/drive/MyDrive/final_model.pt'\n",
        "torch.save(model.state_dict(), model_save_path)\n"
      ],
      "metadata": {
        "colab": {
          "base_uri": "https://localhost:8080/",
          "height": 1000
        },
        "id": "96Y_M0W956qx",
        "outputId": "e0b5e323-50d1-4dd8-d5f2-1e7f9c7c8067"
      },
      "execution_count": 8,
      "outputs": [
        {
          "metadata": {
            "tags": null
          },
          "name": "stderr",
          "output_type": "stream",
          "text": [
            "Epoch 1/200 [Train]: 100%|██████████| 313/313 [00:21<00:00, 14.63it/s, acc=1.12, loss=0.68]\n",
            "Epoch 1/200 [Test]: 100%|██████████| 79/79 [00:02<00:00, 34.19it/s, acc=4.52, loss=0.667]\n"
          ]
        },
        {
          "metadata": {
            "tags": null
          },
          "name": "stdout",
          "output_type": "stream",
          "text": [
            "Epoch 1/200 - Train Loss: 0.6801, Train Acc: 0.5607, Test Acc: 0.5711\n",
            "Model saved with accuracy: 0.5711\n"
          ]
        },
        {
          "metadata": {
            "tags": null
          },
          "name": "stderr",
          "output_type": "stream",
          "text": [
            "Epoch 2/200 [Train]: 100%|██████████| 313/313 [00:22<00:00, 14.20it/s, acc=1.37, loss=0.628]\n",
            "Epoch 2/200 [Test]: 100%|██████████| 79/79 [00:03<00:00, 23.41it/s, acc=4.62, loss=0.671]\n"
          ]
        },
        {
          "metadata": {
            "tags": null
          },
          "name": "stdout",
          "output_type": "stream",
          "text": [
            "Epoch 2/200 - Train Loss: 0.6281, Train Acc: 0.6852, Test Acc: 0.5843\n",
            "Model saved with accuracy: 0.5843\n"
          ]
        },
        {
          "metadata": {
            "tags": null
          },
          "name": "stderr",
          "output_type": "stream",
          "text": [
            "Epoch 3/200 [Train]: 100%|██████████| 313/313 [00:21<00:00, 14.87it/s, acc=1.38, loss=0.627]\n",
            "Epoch 3/200 [Test]: 100%|██████████| 79/79 [00:02<00:00, 34.62it/s, acc=5.81, loss=0.604]\n"
          ]
        },
        {
          "metadata": {
            "tags": null
          },
          "name": "stdout",
          "output_type": "stream",
          "text": [
            "Epoch 3/200 - Train Loss: 0.6268, Train Acc: 0.6893, Test Acc: 0.7343\n",
            "Model saved with accuracy: 0.7343\n"
          ]
        },
        {
          "metadata": {
            "tags": null
          },
          "name": "stderr",
          "output_type": "stream",
          "text": [
            "Epoch 4/200 [Train]: 100%|██████████| 313/313 [00:21<00:00, 14.54it/s, acc=1.19, loss=0.66]\n",
            "Epoch 4/200 [Test]: 100%|██████████| 79/79 [00:02<00:00, 34.07it/s, acc=5.94, loss=0.601]\n"
          ]
        },
        {
          "metadata": {
            "tags": null
          },
          "name": "stdout",
          "output_type": "stream",
          "text": [
            "Epoch 4/200 - Train Loss: 0.6604, Train Acc: 0.5942, Test Acc: 0.7509\n",
            "Model saved with accuracy: 0.7509\n"
          ]
        },
        {
          "metadata": {
            "tags": null
          },
          "name": "stderr",
          "output_type": "stream",
          "text": [
            "Epoch 5/200 [Train]: 100%|██████████| 313/313 [00:21<00:00, 14.87it/s, acc=1.53, loss=0.589]\n",
            "Epoch 5/200 [Test]: 100%|██████████| 79/79 [00:03<00:00, 23.71it/s, acc=5.24, loss=0.639]\n"
          ]
        },
        {
          "metadata": {
            "tags": null
          },
          "name": "stdout",
          "output_type": "stream",
          "text": [
            "Epoch 5/200 - Train Loss: 0.5887, Train Acc: 0.7686, Test Acc: 0.6619\n"
          ]
        },
        {
          "metadata": {
            "tags": null
          },
          "name": "stderr",
          "output_type": "stream",
          "text": [
            "Epoch 6/200 [Train]: 100%|██████████| 313/313 [00:21<00:00, 14.82it/s, acc=1.57, loss=0.581]\n",
            "Epoch 6/200 [Test]: 100%|██████████| 79/79 [00:02<00:00, 33.53it/s, acc=6.59, loss=0.557]\n"
          ]
        },
        {
          "metadata": {
            "tags": null
          },
          "name": "stdout",
          "output_type": "stream",
          "text": [
            "Epoch 6/200 - Train Loss: 0.5806, Train Acc: 0.7875, Test Acc: 0.8333\n",
            "Model saved with accuracy: 0.8333\n"
          ]
        },
        {
          "metadata": {
            "tags": null
          },
          "name": "stderr",
          "output_type": "stream",
          "text": [
            "Epoch 7/200 [Train]: 100%|██████████| 313/313 [00:21<00:00, 14.56it/s, acc=1.71, loss=0.546]\n",
            "Epoch 7/200 [Test]: 100%|██████████| 79/79 [00:02<00:00, 26.47it/s, acc=6.77, loss=0.546]\n"
          ]
        },
        {
          "metadata": {
            "tags": null
          },
          "name": "stdout",
          "output_type": "stream",
          "text": [
            "Epoch 7/200 - Train Loss: 0.5462, Train Acc: 0.8558, Test Acc: 0.8552\n",
            "Model saved with accuracy: 0.8552\n"
          ]
        },
        {
          "metadata": {
            "tags": null
          },
          "name": "stderr",
          "output_type": "stream",
          "text": [
            "Epoch 8/200 [Train]: 100%|██████████| 313/313 [00:21<00:00, 14.50it/s, acc=1.76, loss=0.533]\n",
            "Epoch 8/200 [Test]: 100%|██████████| 79/79 [00:03<00:00, 23.84it/s, acc=6.62, loss=0.555]\n"
          ]
        },
        {
          "metadata": {
            "tags": null
          },
          "name": "stdout",
          "output_type": "stream",
          "text": [
            "Epoch 8/200 - Train Loss: 0.5332, Train Acc: 0.8821, Test Acc: 0.8362\n"
          ]
        },
        {
          "metadata": {
            "tags": null
          },
          "name": "stderr",
          "output_type": "stream",
          "text": [
            "Epoch 9/200 [Train]: 100%|██████████| 313/313 [00:20<00:00, 14.93it/s, acc=1.82, loss=0.517]\n",
            "Epoch 9/200 [Test]: 100%|██████████| 79/79 [00:02<00:00, 28.85it/s, acc=6.9, loss=0.538]\n"
          ]
        },
        {
          "metadata": {
            "tags": null
          },
          "name": "stdout",
          "output_type": "stream",
          "text": [
            "Epoch 9/200 - Train Loss: 0.5175, Train Acc: 0.9134, Test Acc: 0.8721\n",
            "Model saved with accuracy: 0.8721\n"
          ]
        },
        {
          "metadata": {
            "tags": null
          },
          "name": "stderr",
          "output_type": "stream",
          "text": [
            "Epoch 10/200 [Train]: 100%|██████████| 313/313 [00:21<00:00, 14.51it/s, acc=1.86, loss=0.509]\n",
            "Epoch 10/200 [Test]: 100%|██████████| 79/79 [00:02<00:00, 34.23it/s, acc=6.92, loss=0.537]\n"
          ]
        },
        {
          "metadata": {
            "tags": null
          },
          "name": "stdout",
          "output_type": "stream",
          "text": [
            "Epoch 10/200 - Train Loss: 0.5094, Train Acc: 0.9303, Test Acc: 0.8741\n",
            "Model saved with accuracy: 0.8741\n"
          ]
        },
        {
          "metadata": {
            "tags": null
          },
          "name": "stderr",
          "output_type": "stream",
          "text": [
            "Epoch 11/200 [Train]: 100%|██████████| 313/313 [00:21<00:00, 14.90it/s, acc=1.87, loss=0.505]\n",
            "Epoch 11/200 [Test]: 100%|██████████| 79/79 [00:03<00:00, 24.39it/s, acc=6.9, loss=0.538]\n"
          ]
        },
        {
          "metadata": {
            "tags": null
          },
          "name": "stdout",
          "output_type": "stream",
          "text": [
            "Epoch 11/200 - Train Loss: 0.5050, Train Acc: 0.9386, Test Acc: 0.8720\n"
          ]
        },
        {
          "metadata": {
            "tags": null
          },
          "name": "stderr",
          "output_type": "stream",
          "text": [
            "Epoch 12/200 [Train]: 100%|██████████| 313/313 [00:21<00:00, 14.86it/s, acc=1.89, loss=0.501]\n",
            "Epoch 12/200 [Test]: 100%|██████████| 79/79 [00:02<00:00, 34.41it/s, acc=6.97, loss=0.532]\n"
          ]
        },
        {
          "metadata": {
            "tags": null
          },
          "name": "stdout",
          "output_type": "stream",
          "text": [
            "Epoch 12/200 - Train Loss: 0.5010, Train Acc: 0.9462, Test Acc: 0.8809\n",
            "Model saved with accuracy: 0.8809\n"
          ]
        },
        {
          "metadata": {
            "tags": null
          },
          "name": "stderr",
          "output_type": "stream",
          "text": [
            "Epoch 13/200 [Train]: 100%|██████████| 313/313 [00:21<00:00, 14.53it/s, acc=1.9, loss=0.498]\n",
            "Epoch 13/200 [Test]: 100%|██████████| 79/79 [00:02<00:00, 32.80it/s, acc=6.99, loss=0.532]\n"
          ]
        },
        {
          "metadata": {
            "tags": null
          },
          "name": "stdout",
          "output_type": "stream",
          "text": [
            "Epoch 13/200 - Train Loss: 0.4981, Train Acc: 0.9524, Test Acc: 0.8840\n",
            "Model saved with accuracy: 0.8840\n"
          ]
        },
        {
          "metadata": {
            "tags": null
          },
          "name": "stderr",
          "output_type": "stream",
          "text": [
            "Epoch 14/200 [Train]: 100%|██████████| 313/313 [00:21<00:00, 14.89it/s, acc=1.91, loss=0.497]\n",
            "Epoch 14/200 [Test]: 100%|██████████| 79/79 [00:02<00:00, 30.00it/s, acc=6.99, loss=0.531]\n"
          ]
        },
        {
          "metadata": {
            "tags": null
          },
          "name": "stdout",
          "output_type": "stream",
          "text": [
            "Epoch 14/200 - Train Loss: 0.4967, Train Acc: 0.9551, Test Acc: 0.8840\n"
          ]
        },
        {
          "metadata": {
            "tags": null
          },
          "name": "stderr",
          "output_type": "stream",
          "text": [
            "Epoch 15/200 [Train]: 100%|██████████| 313/313 [00:21<00:00, 14.74it/s, acc=1.92, loss=0.495]\n",
            "Epoch 15/200 [Test]: 100%|██████████| 79/79 [00:02<00:00, 34.51it/s, acc=6.97, loss=0.534]\n"
          ]
        },
        {
          "metadata": {
            "tags": null
          },
          "name": "stdout",
          "output_type": "stream",
          "text": [
            "Epoch 15/200 - Train Loss: 0.4946, Train Acc: 0.9591, Test Acc: 0.8804\n"
          ]
        },
        {
          "metadata": {
            "tags": null
          },
          "name": "stderr",
          "output_type": "stream",
          "text": [
            "Epoch 16/200 [Train]: 100%|██████████| 313/313 [00:21<00:00, 14.80it/s, acc=1.91, loss=0.496]\n",
            "Epoch 16/200 [Test]: 100%|██████████| 79/79 [00:03<00:00, 23.21it/s, acc=6.96, loss=0.533]\n"
          ]
        },
        {
          "metadata": {
            "tags": null
          },
          "name": "stdout",
          "output_type": "stream",
          "text": [
            "Epoch 16/200 - Train Loss: 0.4958, Train Acc: 0.9566, Test Acc: 0.8796\n"
          ]
        },
        {
          "metadata": {
            "tags": null
          },
          "name": "stderr",
          "output_type": "stream",
          "text": [
            "Epoch 17/200 [Train]: 100%|██████████| 313/313 [00:20<00:00, 15.12it/s, acc=1.92, loss=0.494]\n",
            "Epoch 17/200 [Test]: 100%|██████████| 79/79 [00:02<00:00, 34.65it/s, acc=7.03, loss=0.529]\n"
          ]
        },
        {
          "metadata": {
            "tags": null
          },
          "name": "stdout",
          "output_type": "stream",
          "text": [
            "Epoch 17/200 - Train Loss: 0.4943, Train Acc: 0.9596, Test Acc: 0.8880\n",
            "Model saved with accuracy: 0.8880\n"
          ]
        },
        {
          "metadata": {
            "tags": null
          },
          "name": "stderr",
          "output_type": "stream",
          "text": [
            "Epoch 18/200 [Train]: 100%|██████████| 313/313 [00:21<00:00, 14.51it/s, acc=1.92, loss=0.492]\n",
            "Epoch 18/200 [Test]: 100%|██████████| 79/79 [00:02<00:00, 34.04it/s, acc=6.95, loss=0.535]\n"
          ]
        },
        {
          "metadata": {
            "tags": null
          },
          "name": "stdout",
          "output_type": "stream",
          "text": [
            "Epoch 18/200 - Train Loss: 0.4923, Train Acc: 0.9638, Test Acc: 0.8788\n"
          ]
        },
        {
          "metadata": {
            "tags": null
          },
          "name": "stderr",
          "output_type": "stream",
          "text": [
            "Epoch 19/200 [Train]: 100%|██████████| 313/313 [00:20<00:00, 15.02it/s, acc=1.89, loss=0.5]\n",
            "Epoch 19/200 [Test]: 100%|██████████| 79/79 [00:02<00:00, 27.03it/s, acc=6.78, loss=0.545]\n"
          ]
        },
        {
          "metadata": {
            "tags": null
          },
          "name": "stdout",
          "output_type": "stream",
          "text": [
            "Epoch 19/200 - Train Loss: 0.5001, Train Acc: 0.9482, Test Acc: 0.8574\n"
          ]
        },
        {
          "metadata": {
            "tags": null
          },
          "name": "stderr",
          "output_type": "stream",
          "text": [
            "Epoch 20/200 [Train]: 100%|██████████| 313/313 [00:21<00:00, 14.83it/s, acc=1.89, loss=0.5]\n",
            "Epoch 20/200 [Test]: 100%|██████████| 79/79 [00:02<00:00, 34.45it/s, acc=6.99, loss=0.532]\n"
          ]
        },
        {
          "metadata": {
            "tags": null
          },
          "name": "stdout",
          "output_type": "stream",
          "text": [
            "Epoch 20/200 - Train Loss: 0.5005, Train Acc: 0.9466, Test Acc: 0.8836\n"
          ]
        },
        {
          "metadata": {
            "tags": null
          },
          "name": "stderr",
          "output_type": "stream",
          "text": [
            "Epoch 21/200 [Train]: 100%|██████████| 313/313 [00:21<00:00, 14.44it/s, acc=1.91, loss=0.497]\n",
            "Epoch 21/200 [Test]: 100%|██████████| 79/79 [00:03<00:00, 23.30it/s, acc=6.93, loss=0.536]\n"
          ]
        },
        {
          "metadata": {
            "tags": null
          },
          "name": "stdout",
          "output_type": "stream",
          "text": [
            "Epoch 21/200 - Train Loss: 0.4968, Train Acc: 0.9540, Test Acc: 0.8760\n"
          ]
        },
        {
          "metadata": {
            "tags": null
          },
          "name": "stderr",
          "output_type": "stream",
          "text": [
            "Epoch 22/200 [Train]: 100%|██████████| 313/313 [00:20<00:00, 14.91it/s, acc=1.92, loss=0.494]\n",
            "Epoch 22/200 [Test]: 100%|██████████| 79/79 [00:02<00:00, 35.31it/s, acc=6.97, loss=0.534]\n"
          ]
        },
        {
          "metadata": {
            "tags": null
          },
          "name": "stdout",
          "output_type": "stream",
          "text": [
            "Epoch 22/200 - Train Loss: 0.4937, Train Acc: 0.9609, Test Acc: 0.8808\n"
          ]
        },
        {
          "metadata": {
            "tags": null
          },
          "name": "stderr",
          "output_type": "stream",
          "text": [
            "Epoch 23/200 [Train]: 100%|██████████| 313/313 [00:21<00:00, 14.75it/s, acc=1.92, loss=0.494]\n",
            "Epoch 23/200 [Test]: 100%|██████████| 79/79 [00:02<00:00, 31.81it/s, acc=7.04, loss=0.529]\n"
          ]
        },
        {
          "metadata": {
            "tags": null
          },
          "name": "stdout",
          "output_type": "stream",
          "text": [
            "Epoch 23/200 - Train Loss: 0.4936, Train Acc: 0.9608, Test Acc: 0.8898\n",
            "Model saved with accuracy: 0.8898\n"
          ]
        },
        {
          "metadata": {
            "tags": null
          },
          "name": "stderr",
          "output_type": "stream",
          "text": [
            "Epoch 24/200 [Train]: 100%|██████████| 313/313 [00:20<00:00, 14.95it/s, acc=1.92, loss=0.492]\n",
            "Epoch 24/200 [Test]: 100%|██████████| 79/79 [00:02<00:00, 29.66it/s, acc=7.05, loss=0.528]\n"
          ]
        },
        {
          "metadata": {
            "tags": null
          },
          "name": "stdout",
          "output_type": "stream",
          "text": [
            "Epoch 24/200 - Train Loss: 0.4922, Train Acc: 0.9637, Test Acc: 0.8915\n",
            "Model saved with accuracy: 0.8915\n"
          ]
        },
        {
          "metadata": {
            "tags": null
          },
          "name": "stderr",
          "output_type": "stream",
          "text": [
            "Epoch 25/200 [Train]: 100%|██████████| 313/313 [00:21<00:00, 14.74it/s, acc=1.93, loss=0.491]\n",
            "Epoch 25/200 [Test]: 100%|██████████| 79/79 [00:02<00:00, 33.71it/s, acc=6.96, loss=0.534]\n"
          ]
        },
        {
          "metadata": {
            "tags": null
          },
          "name": "stdout",
          "output_type": "stream",
          "text": [
            "Epoch 25/200 - Train Loss: 0.4908, Train Acc: 0.9666, Test Acc: 0.8795\n"
          ]
        },
        {
          "metadata": {
            "tags": null
          },
          "name": "stderr",
          "output_type": "stream",
          "text": [
            "Epoch 26/200 [Train]: 100%|██████████| 313/313 [00:20<00:00, 14.99it/s, acc=1.93, loss=0.491]\n",
            "Epoch 26/200 [Test]: 100%|██████████| 79/79 [00:03<00:00, 24.75it/s, acc=7.03, loss=0.53]\n"
          ]
        },
        {
          "metadata": {
            "tags": null
          },
          "name": "stdout",
          "output_type": "stream",
          "text": [
            "Epoch 26/200 - Train Loss: 0.4912, Train Acc: 0.9656, Test Acc: 0.8892\n"
          ]
        },
        {
          "metadata": {
            "tags": null
          },
          "name": "stderr",
          "output_type": "stream",
          "text": [
            "Epoch 27/200 [Train]: 100%|██████████| 313/313 [00:20<00:00, 15.12it/s, acc=1.93, loss=0.49]\n",
            "Epoch 27/200 [Test]: 100%|██████████| 79/79 [00:02<00:00, 34.58it/s, acc=7.02, loss=0.53]\n"
          ]
        },
        {
          "metadata": {
            "tags": null
          },
          "name": "stdout",
          "output_type": "stream",
          "text": [
            "Epoch 27/200 - Train Loss: 0.4905, Train Acc: 0.9670, Test Acc: 0.8875\n"
          ]
        },
        {
          "metadata": {
            "tags": null
          },
          "name": "stderr",
          "output_type": "stream",
          "text": [
            "Epoch 28/200 [Train]: 100%|██████████| 313/313 [00:21<00:00, 14.53it/s, acc=1.93, loss=0.49]\n",
            "Epoch 28/200 [Test]: 100%|██████████| 79/79 [00:02<00:00, 34.01it/s, acc=7.05, loss=0.53]\n"
          ]
        },
        {
          "metadata": {
            "tags": null
          },
          "name": "stdout",
          "output_type": "stream",
          "text": [
            "Epoch 28/200 - Train Loss: 0.4896, Train Acc: 0.9689, Test Acc: 0.8909\n"
          ]
        },
        {
          "metadata": {
            "tags": null
          },
          "name": "stderr",
          "output_type": "stream",
          "text": [
            "Epoch 29/200 [Train]: 100%|██████████| 313/313 [00:20<00:00, 15.18it/s, acc=1.94, loss=0.489]\n",
            "Epoch 29/200 [Test]: 100%|██████████| 79/79 [00:02<00:00, 31.08it/s, acc=7.05, loss=0.527]\n"
          ]
        },
        {
          "metadata": {
            "tags": null
          },
          "name": "stdout",
          "output_type": "stream",
          "text": [
            "Epoch 29/200 - Train Loss: 0.4891, Train Acc: 0.9701, Test Acc: 0.8917\n",
            "Model saved with accuracy: 0.8917\n"
          ]
        },
        {
          "metadata": {
            "tags": null
          },
          "name": "stderr",
          "output_type": "stream",
          "text": [
            "Epoch 30/200 [Train]: 100%|██████████| 313/313 [00:21<00:00, 14.74it/s, acc=1.94, loss=0.489]\n",
            "Epoch 30/200 [Test]: 100%|██████████| 79/79 [00:02<00:00, 34.54it/s, acc=7.02, loss=0.53]\n"
          ]
        },
        {
          "metadata": {
            "tags": null
          },
          "name": "stdout",
          "output_type": "stream",
          "text": [
            "Epoch 30/200 - Train Loss: 0.4887, Train Acc: 0.9708, Test Acc: 0.8872\n"
          ]
        },
        {
          "metadata": {
            "tags": null
          },
          "name": "stderr",
          "output_type": "stream",
          "text": [
            "Epoch 31/200 [Train]: 100%|██████████| 313/313 [00:20<00:00, 14.94it/s, acc=1.94, loss=0.488]\n",
            "Epoch 31/200 [Test]: 100%|██████████| 79/79 [00:03<00:00, 24.98it/s, acc=7.04, loss=0.529]\n"
          ]
        },
        {
          "metadata": {
            "tags": null
          },
          "name": "stdout",
          "output_type": "stream",
          "text": [
            "Epoch 31/200 - Train Loss: 0.4885, Train Acc: 0.9712, Test Acc: 0.8897\n"
          ]
        },
        {
          "metadata": {
            "tags": null
          },
          "name": "stderr",
          "output_type": "stream",
          "text": [
            "Epoch 32/200 [Train]: 100%|██████████| 313/313 [00:20<00:00, 14.96it/s, acc=1.94, loss=0.488]\n",
            "Epoch 32/200 [Test]: 100%|██████████| 79/79 [00:02<00:00, 34.64it/s, acc=6.97, loss=0.533]\n"
          ]
        },
        {
          "metadata": {
            "tags": null
          },
          "name": "stdout",
          "output_type": "stream",
          "text": [
            "Epoch 32/200 - Train Loss: 0.4876, Train Acc: 0.9728, Test Acc: 0.8816\n"
          ]
        },
        {
          "metadata": {
            "tags": null
          },
          "name": "stderr",
          "output_type": "stream",
          "text": [
            "Epoch 33/200 [Train]: 100%|██████████| 313/313 [00:21<00:00, 14.71it/s, acc=1.94, loss=0.487]\n",
            "Epoch 33/200 [Test]: 100%|██████████| 79/79 [00:02<00:00, 34.13it/s, acc=7.04, loss=0.529]\n"
          ]
        },
        {
          "metadata": {
            "tags": null
          },
          "name": "stdout",
          "output_type": "stream",
          "text": [
            "Epoch 33/200 - Train Loss: 0.4870, Train Acc: 0.9740, Test Acc: 0.8893\n"
          ]
        },
        {
          "metadata": {
            "tags": null
          },
          "name": "stderr",
          "output_type": "stream",
          "text": [
            "Epoch 34/200 [Train]: 100%|██████████| 313/313 [00:21<00:00, 14.44it/s, acc=1.95, loss=0.487]\n",
            "Epoch 34/200 [Test]: 100%|██████████| 79/79 [00:02<00:00, 33.00it/s, acc=7.03, loss=0.529]\n"
          ]
        },
        {
          "metadata": {
            "tags": null
          },
          "name": "stdout",
          "output_type": "stream",
          "text": [
            "Epoch 34/200 - Train Loss: 0.4869, Train Acc: 0.9745, Test Acc: 0.8884\n"
          ]
        },
        {
          "metadata": {
            "tags": null
          },
          "name": "stderr",
          "output_type": "stream",
          "text": [
            "Epoch 35/200 [Train]: 100%|██████████| 313/313 [00:21<00:00, 14.57it/s, acc=1.95, loss=0.487]\n",
            "Epoch 35/200 [Test]: 100%|██████████| 79/79 [00:02<00:00, 33.86it/s, acc=7.01, loss=0.53]\n"
          ]
        },
        {
          "metadata": {
            "tags": null
          },
          "name": "stdout",
          "output_type": "stream",
          "text": [
            "Epoch 35/200 - Train Loss: 0.4869, Train Acc: 0.9742, Test Acc: 0.8865\n"
          ]
        },
        {
          "metadata": {
            "tags": null
          },
          "name": "stderr",
          "output_type": "stream",
          "text": [
            "Epoch 36/200 [Train]: 100%|██████████| 313/313 [00:20<00:00, 15.29it/s, acc=1.95, loss=0.486]\n",
            "Epoch 36/200 [Test]: 100%|██████████| 79/79 [00:02<00:00, 30.70it/s, acc=7.04, loss=0.528]\n"
          ]
        },
        {
          "metadata": {
            "tags": null
          },
          "name": "stdout",
          "output_type": "stream",
          "text": [
            "Epoch 36/200 - Train Loss: 0.4862, Train Acc: 0.9758, Test Acc: 0.8898\n"
          ]
        },
        {
          "metadata": {
            "tags": null
          },
          "name": "stderr",
          "output_type": "stream",
          "text": [
            "Epoch 37/200 [Train]: 100%|██████████| 313/313 [00:21<00:00, 14.83it/s, acc=1.94, loss=0.487]\n",
            "Epoch 37/200 [Test]: 100%|██████████| 79/79 [00:02<00:00, 33.55it/s, acc=7.06, loss=0.527]\n"
          ]
        },
        {
          "metadata": {
            "tags": null
          },
          "name": "stdout",
          "output_type": "stream",
          "text": [
            "Epoch 37/200 - Train Loss: 0.4873, Train Acc: 0.9734, Test Acc: 0.8929\n",
            "Model saved with accuracy: 0.8929\n"
          ]
        },
        {
          "metadata": {
            "tags": null
          },
          "name": "stderr",
          "output_type": "stream",
          "text": [
            "Epoch 38/200 [Train]: 100%|██████████| 313/313 [00:20<00:00, 14.95it/s, acc=1.95, loss=0.487]\n",
            "Epoch 38/200 [Test]: 100%|██████████| 79/79 [00:03<00:00, 23.70it/s, acc=7.03, loss=0.529]\n"
          ]
        },
        {
          "metadata": {
            "tags": null
          },
          "name": "stdout",
          "output_type": "stream",
          "text": [
            "Epoch 38/200 - Train Loss: 0.4869, Train Acc: 0.9744, Test Acc: 0.8891\n"
          ]
        },
        {
          "metadata": {
            "tags": null
          },
          "name": "stderr",
          "output_type": "stream",
          "text": [
            "Epoch 39/200 [Train]: 100%|██████████| 313/313 [00:20<00:00, 15.19it/s, acc=1.95, loss=0.486]\n",
            "Epoch 39/200 [Test]: 100%|██████████| 79/79 [00:02<00:00, 35.21it/s, acc=7.01, loss=0.531]\n"
          ]
        },
        {
          "metadata": {
            "tags": null
          },
          "name": "stdout",
          "output_type": "stream",
          "text": [
            "Epoch 39/200 - Train Loss: 0.4861, Train Acc: 0.9761, Test Acc: 0.8865\n"
          ]
        },
        {
          "metadata": {
            "tags": null
          },
          "name": "stderr",
          "output_type": "stream",
          "text": [
            "Epoch 40/200 [Train]: 100%|██████████| 313/313 [00:21<00:00, 14.77it/s, acc=1.95, loss=0.486]\n",
            "Epoch 40/200 [Test]: 100%|██████████| 79/79 [00:02<00:00, 33.25it/s, acc=7.05, loss=0.529]\n"
          ]
        },
        {
          "metadata": {
            "tags": null
          },
          "name": "stdout",
          "output_type": "stream",
          "text": [
            "Epoch 40/200 - Train Loss: 0.4855, Train Acc: 0.9771, Test Acc: 0.8907\n"
          ]
        },
        {
          "metadata": {
            "tags": null
          },
          "name": "stderr",
          "output_type": "stream",
          "text": [
            "Epoch 41/200 [Train]: 100%|██████████| 313/313 [00:20<00:00, 14.96it/s, acc=1.95, loss=0.485]\n",
            "Epoch 41/200 [Test]: 100%|██████████| 79/79 [00:02<00:00, 34.31it/s, acc=7.06, loss=0.528]\n"
          ]
        },
        {
          "metadata": {
            "tags": null
          },
          "name": "stdout",
          "output_type": "stream",
          "text": [
            "Epoch 41/200 - Train Loss: 0.4853, Train Acc: 0.9774, Test Acc: 0.8923\n"
          ]
        },
        {
          "metadata": {
            "tags": null
          },
          "name": "stderr",
          "output_type": "stream",
          "text": [
            "Epoch 42/200 [Train]: 100%|██████████| 313/313 [00:21<00:00, 14.69it/s, acc=1.95, loss=0.486]\n",
            "Epoch 42/200 [Test]: 100%|██████████| 79/79 [00:02<00:00, 34.35it/s, acc=7.04, loss=0.528]\n"
          ]
        },
        {
          "metadata": {
            "tags": null
          },
          "name": "stdout",
          "output_type": "stream",
          "text": [
            "Epoch 42/200 - Train Loss: 0.4855, Train Acc: 0.9771, Test Acc: 0.8904\n"
          ]
        },
        {
          "metadata": {
            "tags": null
          },
          "name": "stderr",
          "output_type": "stream",
          "text": [
            "Epoch 43/200 [Train]: 100%|██████████| 313/313 [00:20<00:00, 15.25it/s, acc=1.95, loss=0.486]\n",
            "Epoch 43/200 [Test]: 100%|██████████| 79/79 [00:02<00:00, 26.66it/s, acc=7.05, loss=0.528]\n"
          ]
        },
        {
          "metadata": {
            "tags": null
          },
          "name": "stdout",
          "output_type": "stream",
          "text": [
            "Epoch 43/200 - Train Loss: 0.4859, Train Acc: 0.9762, Test Acc: 0.8908\n"
          ]
        },
        {
          "metadata": {
            "tags": null
          },
          "name": "stderr",
          "output_type": "stream",
          "text": [
            "Epoch 44/200 [Train]: 100%|██████████| 313/313 [00:20<00:00, 14.93it/s, acc=1.95, loss=0.485]\n",
            "Epoch 44/200 [Test]: 100%|██████████| 79/79 [00:02<00:00, 34.33it/s, acc=7.06, loss=0.528]\n"
          ]
        },
        {
          "metadata": {
            "tags": null
          },
          "name": "stdout",
          "output_type": "stream",
          "text": [
            "Epoch 44/200 - Train Loss: 0.4853, Train Acc: 0.9776, Test Acc: 0.8928\n"
          ]
        },
        {
          "metadata": {
            "tags": null
          },
          "name": "stderr",
          "output_type": "stream",
          "text": [
            "Epoch 45/200 [Train]: 100%|██████████| 313/313 [00:21<00:00, 14.67it/s, acc=1.95, loss=0.485]\n",
            "Epoch 45/200 [Test]: 100%|██████████| 79/79 [00:02<00:00, 26.92it/s, acc=7.06, loss=0.528]\n"
          ]
        },
        {
          "metadata": {
            "tags": null
          },
          "name": "stdout",
          "output_type": "stream",
          "text": [
            "Epoch 45/200 - Train Loss: 0.4854, Train Acc: 0.9774, Test Acc: 0.8928\n"
          ]
        },
        {
          "metadata": {
            "tags": null
          },
          "name": "stderr",
          "output_type": "stream",
          "text": [
            "Epoch 46/200 [Train]: 100%|██████████| 313/313 [00:20<00:00, 15.17it/s, acc=1.95, loss=0.485]\n",
            "Epoch 46/200 [Test]: 100%|██████████| 79/79 [00:02<00:00, 34.75it/s, acc=7.05, loss=0.528]\n"
          ]
        },
        {
          "metadata": {
            "tags": null
          },
          "name": "stdout",
          "output_type": "stream",
          "text": [
            "Epoch 46/200 - Train Loss: 0.4851, Train Acc: 0.9780, Test Acc: 0.8905\n"
          ]
        },
        {
          "metadata": {
            "tags": null
          },
          "name": "stderr",
          "output_type": "stream",
          "text": [
            "Epoch 47/200 [Train]: 100%|██████████| 313/313 [00:21<00:00, 14.40it/s, acc=1.95, loss=0.485]\n",
            "Epoch 47/200 [Test]: 100%|██████████| 79/79 [00:02<00:00, 30.69it/s, acc=7.04, loss=0.529]\n"
          ]
        },
        {
          "metadata": {
            "tags": null
          },
          "name": "stdout",
          "output_type": "stream",
          "text": [
            "Epoch 47/200 - Train Loss: 0.4845, Train Acc: 0.9789, Test Acc: 0.8899\n"
          ]
        },
        {
          "metadata": {
            "tags": null
          },
          "name": "stderr",
          "output_type": "stream",
          "text": [
            "Epoch 48/200 [Train]: 100%|██████████| 313/313 [00:21<00:00, 14.67it/s, acc=1.95, loss=0.485]\n",
            "Epoch 48/200 [Test]: 100%|██████████| 79/79 [00:03<00:00, 24.74it/s, acc=7.05, loss=0.528]\n"
          ]
        },
        {
          "metadata": {
            "tags": null
          },
          "name": "stdout",
          "output_type": "stream",
          "text": [
            "Epoch 48/200 - Train Loss: 0.4851, Train Acc: 0.9780, Test Acc: 0.8911\n"
          ]
        },
        {
          "metadata": {
            "tags": null
          },
          "name": "stderr",
          "output_type": "stream",
          "text": [
            "Epoch 49/200 [Train]: 100%|██████████| 313/313 [00:21<00:00, 14.87it/s, acc=1.95, loss=0.485]\n",
            "Epoch 49/200 [Test]: 100%|██████████| 79/79 [00:02<00:00, 34.61it/s, acc=7.05, loss=0.527]\n"
          ]
        },
        {
          "metadata": {
            "tags": null
          },
          "name": "stdout",
          "output_type": "stream",
          "text": [
            "Epoch 49/200 - Train Loss: 0.4848, Train Acc: 0.9785, Test Acc: 0.8913\n"
          ]
        },
        {
          "metadata": {
            "tags": null
          },
          "name": "stderr",
          "output_type": "stream",
          "text": [
            "Epoch 50/200 [Train]: 100%|██████████| 313/313 [00:21<00:00, 14.81it/s, acc=1.95, loss=0.485]\n",
            "Epoch 50/200 [Test]: 100%|██████████| 79/79 [00:02<00:00, 26.34it/s, acc=7.04, loss=0.529]\n"
          ]
        },
        {
          "metadata": {
            "tags": null
          },
          "name": "stdout",
          "output_type": "stream",
          "text": [
            "Epoch 50/200 - Train Loss: 0.4848, Train Acc: 0.9786, Test Acc: 0.8893\n"
          ]
        },
        {
          "metadata": {
            "tags": null
          },
          "name": "stderr",
          "output_type": "stream",
          "text": [
            "Epoch 51/200 [Train]: 100%|██████████| 313/313 [00:20<00:00, 15.17it/s, acc=1.95, loss=0.485]\n",
            "Epoch 51/200 [Test]: 100%|██████████| 79/79 [00:02<00:00, 34.22it/s, acc=7.05, loss=0.529]\n"
          ]
        },
        {
          "metadata": {
            "tags": null
          },
          "name": "stdout",
          "output_type": "stream",
          "text": [
            "Epoch 51/200 - Train Loss: 0.4847, Train Acc: 0.9786, Test Acc: 0.8908\n"
          ]
        },
        {
          "metadata": {
            "tags": null
          },
          "name": "stderr",
          "output_type": "stream",
          "text": [
            "Epoch 52/200 [Train]: 100%|██████████| 313/313 [00:21<00:00, 14.67it/s, acc=1.96, loss=0.484]\n",
            "Epoch 52/200 [Test]: 100%|██████████| 79/79 [00:02<00:00, 34.16it/s, acc=7.07, loss=0.528]\n"
          ]
        },
        {
          "metadata": {
            "tags": null
          },
          "name": "stdout",
          "output_type": "stream",
          "text": [
            "Epoch 52/200 - Train Loss: 0.4840, Train Acc: 0.9801, Test Acc: 0.8932\n",
            "Model saved with accuracy: 0.8932\n"
          ]
        },
        {
          "metadata": {
            "tags": null
          },
          "name": "stderr",
          "output_type": "stream",
          "text": [
            "Epoch 53/200 [Train]: 100%|██████████| 313/313 [00:20<00:00, 15.04it/s, acc=1.96, loss=0.484]\n",
            "Epoch 53/200 [Test]: 100%|██████████| 79/79 [00:02<00:00, 27.29it/s, acc=7.06, loss=0.528]\n"
          ]
        },
        {
          "metadata": {
            "tags": null
          },
          "name": "stdout",
          "output_type": "stream",
          "text": [
            "Epoch 53/200 - Train Loss: 0.4841, Train Acc: 0.9799, Test Acc: 0.8918\n"
          ]
        },
        {
          "metadata": {
            "tags": null
          },
          "name": "stderr",
          "output_type": "stream",
          "text": [
            "Epoch 54/200 [Train]: 100%|██████████| 313/313 [00:21<00:00, 14.68it/s, acc=1.96, loss=0.484]\n",
            "Epoch 54/200 [Test]: 100%|██████████| 79/79 [00:02<00:00, 34.76it/s, acc=7.06, loss=0.527]\n"
          ]
        },
        {
          "metadata": {
            "tags": null
          },
          "name": "stdout",
          "output_type": "stream",
          "text": [
            "Epoch 54/200 - Train Loss: 0.4839, Train Acc: 0.9804, Test Acc: 0.8926\n"
          ]
        },
        {
          "metadata": {
            "tags": null
          },
          "name": "stderr",
          "output_type": "stream",
          "text": [
            "Epoch 55/200 [Train]: 100%|██████████| 313/313 [00:20<00:00, 15.02it/s, acc=1.96, loss=0.483]\n",
            "Epoch 55/200 [Test]: 100%|██████████| 79/79 [00:03<00:00, 24.43it/s, acc=7.08, loss=0.527]\n"
          ]
        },
        {
          "metadata": {
            "tags": null
          },
          "name": "stdout",
          "output_type": "stream",
          "text": [
            "Epoch 55/200 - Train Loss: 0.4832, Train Acc: 0.9818, Test Acc: 0.8945\n",
            "Model saved with accuracy: 0.8945\n"
          ]
        },
        {
          "metadata": {
            "tags": null
          },
          "name": "stderr",
          "output_type": "stream",
          "text": [
            "Epoch 56/200 [Train]: 100%|██████████| 313/313 [00:20<00:00, 15.00it/s, acc=1.96, loss=0.484]\n",
            "Epoch 56/200 [Test]: 100%|██████████| 79/79 [00:02<00:00, 34.81it/s, acc=7.09, loss=0.525]\n"
          ]
        },
        {
          "metadata": {
            "tags": null
          },
          "name": "stdout",
          "output_type": "stream",
          "text": [
            "Epoch 56/200 - Train Loss: 0.4841, Train Acc: 0.9800, Test Acc: 0.8960\n",
            "Model saved with accuracy: 0.8960\n"
          ]
        },
        {
          "metadata": {
            "tags": null
          },
          "name": "stderr",
          "output_type": "stream",
          "text": [
            "Epoch 57/200 [Train]: 100%|██████████| 313/313 [00:21<00:00, 14.58it/s, acc=1.96, loss=0.484]\n",
            "Epoch 57/200 [Test]: 100%|██████████| 79/79 [00:02<00:00, 34.44it/s, acc=7.04, loss=0.529]\n"
          ]
        },
        {
          "metadata": {
            "tags": null
          },
          "name": "stdout",
          "output_type": "stream",
          "text": [
            "Epoch 57/200 - Train Loss: 0.4837, Train Acc: 0.9808, Test Acc: 0.8896\n"
          ]
        },
        {
          "metadata": {
            "tags": null
          },
          "name": "stderr",
          "output_type": "stream",
          "text": [
            "Epoch 58/200 [Train]: 100%|██████████| 313/313 [00:20<00:00, 15.10it/s, acc=1.96, loss=0.483]\n",
            "Epoch 58/200 [Test]: 100%|██████████| 79/79 [00:02<00:00, 31.47it/s, acc=7.08, loss=0.526]\n"
          ]
        },
        {
          "metadata": {
            "tags": null
          },
          "name": "stdout",
          "output_type": "stream",
          "text": [
            "Epoch 58/200 - Train Loss: 0.4835, Train Acc: 0.9811, Test Acc: 0.8950\n"
          ]
        },
        {
          "metadata": {
            "tags": null
          },
          "name": "stderr",
          "output_type": "stream",
          "text": [
            "Epoch 59/200 [Train]: 100%|██████████| 313/313 [00:21<00:00, 14.76it/s, acc=1.96, loss=0.483]\n",
            "Epoch 59/200 [Test]: 100%|██████████| 79/79 [00:02<00:00, 34.26it/s, acc=7.09, loss=0.527]\n"
          ]
        },
        {
          "metadata": {
            "tags": null
          },
          "name": "stdout",
          "output_type": "stream",
          "text": [
            "Epoch 59/200 - Train Loss: 0.4833, Train Acc: 0.9816, Test Acc: 0.8956\n"
          ]
        },
        {
          "metadata": {
            "tags": null
          },
          "name": "stderr",
          "output_type": "stream",
          "text": [
            "Epoch 60/200 [Train]: 100%|██████████| 313/313 [00:20<00:00, 14.96it/s, acc=1.96, loss=0.483]\n",
            "Epoch 60/200 [Test]: 100%|██████████| 79/79 [00:03<00:00, 25.38it/s, acc=7.09, loss=0.526]\n"
          ]
        },
        {
          "metadata": {
            "tags": null
          },
          "name": "stdout",
          "output_type": "stream",
          "text": [
            "Epoch 60/200 - Train Loss: 0.4834, Train Acc: 0.9814, Test Acc: 0.8958\n"
          ]
        },
        {
          "metadata": {
            "tags": null
          },
          "name": "stderr",
          "output_type": "stream",
          "text": [
            "Epoch 61/200 [Train]: 100%|██████████| 313/313 [00:21<00:00, 14.30it/s, acc=1.96, loss=0.484]\n",
            "Epoch 61/200 [Test]: 100%|██████████| 79/79 [00:02<00:00, 33.82it/s, acc=7.09, loss=0.526]\n"
          ]
        },
        {
          "metadata": {
            "tags": null
          },
          "name": "stdout",
          "output_type": "stream",
          "text": [
            "Epoch 61/200 - Train Loss: 0.4845, Train Acc: 0.9792, Test Acc: 0.8957\n"
          ]
        },
        {
          "metadata": {
            "tags": null
          },
          "name": "stderr",
          "output_type": "stream",
          "text": [
            "Epoch 62/200 [Train]: 100%|██████████| 313/313 [00:20<00:00, 15.26it/s, acc=1.96, loss=0.483]\n",
            "Epoch 62/200 [Test]: 100%|██████████| 79/79 [00:03<00:00, 25.05it/s, acc=7.06, loss=0.527]\n"
          ]
        },
        {
          "metadata": {
            "tags": null
          },
          "name": "stdout",
          "output_type": "stream",
          "text": [
            "Epoch 62/200 - Train Loss: 0.4833, Train Acc: 0.9816, Test Acc: 0.8927\n"
          ]
        },
        {
          "metadata": {
            "tags": null
          },
          "name": "stderr",
          "output_type": "stream",
          "text": [
            "Epoch 63/200 [Train]: 100%|██████████| 313/313 [00:20<00:00, 15.03it/s, acc=1.96, loss=0.483]\n",
            "Epoch 63/200 [Test]: 100%|██████████| 79/79 [00:02<00:00, 35.14it/s, acc=7.06, loss=0.528]\n"
          ]
        },
        {
          "metadata": {
            "tags": null
          },
          "name": "stdout",
          "output_type": "stream",
          "text": [
            "Epoch 63/200 - Train Loss: 0.4834, Train Acc: 0.9815, Test Acc: 0.8925\n"
          ]
        },
        {
          "metadata": {
            "tags": null
          },
          "name": "stderr",
          "output_type": "stream",
          "text": [
            "Epoch 64/200 [Train]: 100%|██████████| 313/313 [00:21<00:00, 14.88it/s, acc=1.96, loss=0.483]\n",
            "Epoch 64/200 [Test]: 100%|██████████| 79/79 [00:03<00:00, 26.17it/s, acc=7.09, loss=0.526]\n"
          ]
        },
        {
          "metadata": {
            "tags": null
          },
          "name": "stdout",
          "output_type": "stream",
          "text": [
            "Epoch 64/200 - Train Loss: 0.4834, Train Acc: 0.9813, Test Acc: 0.8962\n",
            "Model saved with accuracy: 0.8962\n"
          ]
        },
        {
          "metadata": {
            "tags": null
          },
          "name": "stderr",
          "output_type": "stream",
          "text": [
            "Epoch 65/200 [Train]: 100%|██████████| 313/313 [00:20<00:00, 15.01it/s, acc=1.96, loss=0.483]\n",
            "Epoch 65/200 [Test]: 100%|██████████| 79/79 [00:02<00:00, 33.85it/s, acc=7.07, loss=0.527]\n"
          ]
        },
        {
          "metadata": {
            "tags": null
          },
          "name": "stdout",
          "output_type": "stream",
          "text": [
            "Epoch 65/200 - Train Loss: 0.4833, Train Acc: 0.9815, Test Acc: 0.8942\n"
          ]
        },
        {
          "metadata": {
            "tags": null
          },
          "name": "stderr",
          "output_type": "stream",
          "text": [
            "Epoch 66/200 [Train]: 100%|██████████| 313/313 [00:21<00:00, 14.51it/s, acc=1.96, loss=0.483]\n",
            "Epoch 66/200 [Test]: 100%|██████████| 79/79 [00:02<00:00, 33.17it/s, acc=7.07, loss=0.528]\n"
          ]
        },
        {
          "metadata": {
            "tags": null
          },
          "name": "stdout",
          "output_type": "stream",
          "text": [
            "Epoch 66/200 - Train Loss: 0.4831, Train Acc: 0.9819, Test Acc: 0.8931\n"
          ]
        },
        {
          "metadata": {
            "tags": null
          },
          "name": "stderr",
          "output_type": "stream",
          "text": [
            "Epoch 67/200 [Train]: 100%|██████████| 313/313 [00:20<00:00, 15.19it/s, acc=1.96, loss=0.483]\n",
            "Epoch 67/200 [Test]: 100%|██████████| 79/79 [00:03<00:00, 24.64it/s, acc=7.01, loss=0.531]\n"
          ]
        },
        {
          "metadata": {
            "tags": null
          },
          "name": "stdout",
          "output_type": "stream",
          "text": [
            "Epoch 67/200 - Train Loss: 0.4831, Train Acc: 0.9819, Test Acc: 0.8862\n"
          ]
        },
        {
          "metadata": {
            "tags": null
          },
          "name": "stderr",
          "output_type": "stream",
          "text": [
            "Epoch 68/200 [Train]: 100%|██████████| 313/313 [00:20<00:00, 14.99it/s, acc=1.96, loss=0.484]\n",
            "Epoch 68/200 [Test]: 100%|██████████| 79/79 [00:02<00:00, 34.03it/s, acc=7.05, loss=0.529]\n"
          ]
        },
        {
          "metadata": {
            "tags": null
          },
          "name": "stdout",
          "output_type": "stream",
          "text": [
            "Epoch 68/200 - Train Loss: 0.4844, Train Acc: 0.9793, Test Acc: 0.8916\n"
          ]
        },
        {
          "metadata": {
            "tags": null
          },
          "name": "stderr",
          "output_type": "stream",
          "text": [
            "Epoch 69/200 [Train]: 100%|██████████| 313/313 [00:21<00:00, 14.86it/s, acc=1.96, loss=0.483]\n",
            "Epoch 69/200 [Test]: 100%|██████████| 79/79 [00:02<00:00, 27.03it/s, acc=7.07, loss=0.527]\n"
          ]
        },
        {
          "metadata": {
            "tags": null
          },
          "name": "stdout",
          "output_type": "stream",
          "text": [
            "Epoch 69/200 - Train Loss: 0.4830, Train Acc: 0.9821, Test Acc: 0.8936\n"
          ]
        },
        {
          "metadata": {
            "tags": null
          },
          "name": "stderr",
          "output_type": "stream",
          "text": [
            "Epoch 70/200 [Train]: 100%|██████████| 313/313 [00:20<00:00, 15.26it/s, acc=1.96, loss=0.483]\n",
            "Epoch 70/200 [Test]: 100%|██████████| 79/79 [00:02<00:00, 35.07it/s, acc=7.08, loss=0.526]\n"
          ]
        },
        {
          "metadata": {
            "tags": null
          },
          "name": "stdout",
          "output_type": "stream",
          "text": [
            "Epoch 70/200 - Train Loss: 0.4830, Train Acc: 0.9822, Test Acc: 0.8947\n"
          ]
        },
        {
          "metadata": {
            "tags": null
          },
          "name": "stderr",
          "output_type": "stream",
          "text": [
            "Epoch 71/200 [Train]: 100%|██████████| 313/313 [00:21<00:00, 14.56it/s, acc=1.96, loss=0.483]\n",
            "Epoch 71/200 [Test]: 100%|██████████| 79/79 [00:02<00:00, 32.48it/s, acc=6.99, loss=0.531]\n"
          ]
        },
        {
          "metadata": {
            "tags": null
          },
          "name": "stdout",
          "output_type": "stream",
          "text": [
            "Epoch 71/200 - Train Loss: 0.4829, Train Acc: 0.9824, Test Acc: 0.8839\n"
          ]
        },
        {
          "metadata": {
            "tags": null
          },
          "name": "stderr",
          "output_type": "stream",
          "text": [
            "Epoch 72/200 [Train]: 100%|██████████| 313/313 [00:20<00:00, 15.01it/s, acc=1.96, loss=0.483]\n",
            "Epoch 72/200 [Test]: 100%|██████████| 79/79 [00:03<00:00, 24.86it/s, acc=7.04, loss=0.529]\n"
          ]
        },
        {
          "metadata": {
            "tags": null
          },
          "name": "stdout",
          "output_type": "stream",
          "text": [
            "Epoch 72/200 - Train Loss: 0.4828, Train Acc: 0.9824, Test Acc: 0.8898\n"
          ]
        },
        {
          "metadata": {
            "tags": null
          },
          "name": "stderr",
          "output_type": "stream",
          "text": [
            "Epoch 73/200 [Train]: 100%|██████████| 313/313 [00:21<00:00, 14.87it/s, acc=1.96, loss=0.484]\n",
            "Epoch 73/200 [Test]: 100%|██████████| 79/79 [00:02<00:00, 34.10it/s, acc=7.01, loss=0.531]\n"
          ]
        },
        {
          "metadata": {
            "tags": null
          },
          "name": "stdout",
          "output_type": "stream",
          "text": [
            "Epoch 73/200 - Train Loss: 0.4842, Train Acc: 0.9797, Test Acc: 0.8855\n"
          ]
        },
        {
          "metadata": {
            "tags": null
          },
          "name": "stderr",
          "output_type": "stream",
          "text": [
            "Epoch 74/200 [Train]: 100%|██████████| 313/313 [00:20<00:00, 15.01it/s, acc=1.96, loss=0.483]\n",
            "Epoch 74/200 [Test]: 100%|██████████| 79/79 [00:03<00:00, 23.24it/s, acc=7.04, loss=0.529]\n"
          ]
        },
        {
          "metadata": {
            "tags": null
          },
          "name": "stdout",
          "output_type": "stream",
          "text": [
            "Epoch 74/200 - Train Loss: 0.4829, Train Acc: 0.9824, Test Acc: 0.8900\n"
          ]
        },
        {
          "metadata": {
            "tags": null
          },
          "name": "stderr",
          "output_type": "stream",
          "text": [
            "Epoch 75/200 [Train]: 100%|██████████| 313/313 [00:21<00:00, 14.55it/s, acc=1.96, loss=0.482]\n",
            "Epoch 75/200 [Test]: 100%|██████████| 79/79 [00:02<00:00, 34.05it/s, acc=7.04, loss=0.528]\n"
          ]
        },
        {
          "metadata": {
            "tags": null
          },
          "name": "stdout",
          "output_type": "stream",
          "text": [
            "Epoch 75/200 - Train Loss: 0.4824, Train Acc: 0.9834, Test Acc: 0.8902\n"
          ]
        },
        {
          "metadata": {
            "tags": null
          },
          "name": "stderr",
          "output_type": "stream",
          "text": [
            "Epoch 76/200 [Train]: 100%|██████████| 313/313 [00:21<00:00, 14.78it/s, acc=1.96, loss=0.482]\n",
            "Epoch 76/200 [Test]: 100%|██████████| 79/79 [00:02<00:00, 34.33it/s, acc=7.04, loss=0.529]\n"
          ]
        },
        {
          "metadata": {
            "tags": null
          },
          "name": "stdout",
          "output_type": "stream",
          "text": [
            "Epoch 76/200 - Train Loss: 0.4825, Train Acc: 0.9832, Test Acc: 0.8896\n"
          ]
        },
        {
          "metadata": {
            "tags": null
          },
          "name": "stderr",
          "output_type": "stream",
          "text": [
            "Epoch 77/200 [Train]: 100%|██████████| 313/313 [00:20<00:00, 15.18it/s, acc=1.97, loss=0.482]\n",
            "Epoch 77/200 [Test]: 100%|██████████| 79/79 [00:02<00:00, 30.28it/s, acc=7.05, loss=0.528]\n"
          ]
        },
        {
          "metadata": {
            "tags": null
          },
          "name": "stdout",
          "output_type": "stream",
          "text": [
            "Epoch 77/200 - Train Loss: 0.4820, Train Acc: 0.9842, Test Acc: 0.8908\n"
          ]
        },
        {
          "metadata": {
            "tags": null
          },
          "name": "stderr",
          "output_type": "stream",
          "text": [
            "Epoch 78/200 [Train]: 100%|██████████| 313/313 [00:21<00:00, 14.75it/s, acc=1.96, loss=0.482]\n",
            "Epoch 78/200 [Test]: 100%|██████████| 79/79 [00:02<00:00, 33.77it/s, acc=7.05, loss=0.528]\n"
          ]
        },
        {
          "metadata": {
            "tags": null
          },
          "name": "stdout",
          "output_type": "stream",
          "text": [
            "Epoch 78/200 - Train Loss: 0.4821, Train Acc: 0.9839, Test Acc: 0.8915\n"
          ]
        },
        {
          "metadata": {
            "tags": null
          },
          "name": "stderr",
          "output_type": "stream",
          "text": [
            "Epoch 79/200 [Train]: 100%|██████████| 313/313 [00:20<00:00, 14.92it/s, acc=1.97, loss=0.482]\n",
            "Epoch 79/200 [Test]: 100%|██████████| 79/79 [00:03<00:00, 23.75it/s, acc=7.04, loss=0.528]\n"
          ]
        },
        {
          "metadata": {
            "tags": null
          },
          "name": "stdout",
          "output_type": "stream",
          "text": [
            "Epoch 79/200 - Train Loss: 0.4816, Train Acc: 0.9849, Test Acc: 0.8903\n"
          ]
        },
        {
          "metadata": {
            "tags": null
          },
          "name": "stderr",
          "output_type": "stream",
          "text": [
            "Epoch 80/200 [Train]: 100%|██████████| 313/313 [00:20<00:00, 15.02it/s, acc=1.97, loss=0.482]\n",
            "Epoch 80/200 [Test]: 100%|██████████| 79/79 [00:02<00:00, 34.25it/s, acc=7.04, loss=0.529]\n"
          ]
        },
        {
          "metadata": {
            "tags": null
          },
          "name": "stdout",
          "output_type": "stream",
          "text": [
            "Epoch 80/200 - Train Loss: 0.4816, Train Acc: 0.9850, Test Acc: 0.8897\n"
          ]
        },
        {
          "metadata": {
            "tags": null
          },
          "name": "stderr",
          "output_type": "stream",
          "text": [
            "Epoch 81/200 [Train]: 100%|██████████| 313/313 [00:21<00:00, 14.81it/s, acc=1.97, loss=0.482]\n",
            "Epoch 81/200 [Test]: 100%|██████████| 79/79 [00:02<00:00, 27.41it/s, acc=7.05, loss=0.528]\n"
          ]
        },
        {
          "metadata": {
            "tags": null
          },
          "name": "stdout",
          "output_type": "stream",
          "text": [
            "Epoch 81/200 - Train Loss: 0.4815, Train Acc: 0.9851, Test Acc: 0.8911\n"
          ]
        },
        {
          "metadata": {
            "tags": null
          },
          "name": "stderr",
          "output_type": "stream",
          "text": [
            "Epoch 82/200 [Train]: 100%|██████████| 313/313 [00:20<00:00, 15.19it/s, acc=1.97, loss=0.482]\n",
            "Epoch 82/200 [Test]: 100%|██████████| 79/79 [00:02<00:00, 33.82it/s, acc=6.97, loss=0.534]\n"
          ]
        },
        {
          "metadata": {
            "tags": null
          },
          "name": "stdout",
          "output_type": "stream",
          "text": [
            "Epoch 82/200 - Train Loss: 0.4816, Train Acc: 0.9849, Test Acc: 0.8815\n"
          ]
        },
        {
          "metadata": {
            "tags": null
          },
          "name": "stderr",
          "output_type": "stream",
          "text": [
            "Epoch 83/200 [Train]: 100%|██████████| 313/313 [00:21<00:00, 14.51it/s, acc=1.96, loss=0.482]\n",
            "Epoch 83/200 [Test]: 100%|██████████| 79/79 [00:02<00:00, 32.47it/s, acc=6.97, loss=0.534]\n"
          ]
        },
        {
          "metadata": {
            "tags": null
          },
          "name": "stdout",
          "output_type": "stream",
          "text": [
            "Epoch 83/200 - Train Loss: 0.4823, Train Acc: 0.9836, Test Acc: 0.8815\n"
          ]
        },
        {
          "metadata": {
            "tags": null
          },
          "name": "stderr",
          "output_type": "stream",
          "text": [
            "Epoch 84/200 [Train]: 100%|██████████| 313/313 [00:20<00:00, 15.00it/s, acc=1.96, loss=0.483]\n",
            "Epoch 84/200 [Test]: 100%|██████████| 79/79 [00:02<00:00, 26.72it/s, acc=7.06, loss=0.527]\n"
          ]
        },
        {
          "metadata": {
            "tags": null
          },
          "name": "stdout",
          "output_type": "stream",
          "text": [
            "Epoch 84/200 - Train Loss: 0.4831, Train Acc: 0.9819, Test Acc: 0.8919\n"
          ]
        },
        {
          "metadata": {
            "tags": null
          },
          "name": "stderr",
          "output_type": "stream",
          "text": [
            "Epoch 85/200 [Train]: 100%|██████████| 313/313 [00:21<00:00, 14.51it/s, acc=1.96, loss=0.482]\n",
            "Epoch 85/200 [Test]: 100%|██████████| 79/79 [00:02<00:00, 33.63it/s, acc=7.04, loss=0.53]\n"
          ]
        },
        {
          "metadata": {
            "tags": null
          },
          "name": "stdout",
          "output_type": "stream",
          "text": [
            "Epoch 85/200 - Train Loss: 0.4821, Train Acc: 0.9840, Test Acc: 0.8901\n"
          ]
        },
        {
          "metadata": {
            "tags": null
          },
          "name": "stderr",
          "output_type": "stream",
          "text": [
            "Epoch 86/200 [Train]: 100%|██████████| 313/313 [00:20<00:00, 15.09it/s, acc=1.96, loss=0.482]\n",
            "Epoch 86/200 [Test]: 100%|██████████| 79/79 [00:03<00:00, 23.86it/s, acc=7.06, loss=0.528]\n"
          ]
        },
        {
          "metadata": {
            "tags": null
          },
          "name": "stdout",
          "output_type": "stream",
          "text": [
            "Epoch 86/200 - Train Loss: 0.4820, Train Acc: 0.9840, Test Acc: 0.8922\n"
          ]
        },
        {
          "metadata": {
            "tags": null
          },
          "name": "stderr",
          "output_type": "stream",
          "text": [
            "Epoch 87/200 [Train]: 100%|██████████| 313/313 [00:20<00:00, 14.98it/s, acc=1.96, loss=0.482]\n",
            "Epoch 87/200 [Test]: 100%|██████████| 79/79 [00:02<00:00, 34.44it/s, acc=7.06, loss=0.528]\n"
          ]
        },
        {
          "metadata": {
            "tags": null
          },
          "name": "stdout",
          "output_type": "stream",
          "text": [
            "Epoch 87/200 - Train Loss: 0.4821, Train Acc: 0.9840, Test Acc: 0.8925\n"
          ]
        },
        {
          "metadata": {
            "tags": null
          },
          "name": "stderr",
          "output_type": "stream",
          "text": [
            "Epoch 88/200 [Train]: 100%|██████████| 313/313 [00:21<00:00, 14.37it/s, acc=1.97, loss=0.482]\n",
            "Epoch 88/200 [Test]: 100%|██████████| 79/79 [00:02<00:00, 26.48it/s, acc=7.04, loss=0.528]\n"
          ]
        },
        {
          "metadata": {
            "tags": null
          },
          "name": "stdout",
          "output_type": "stream",
          "text": [
            "Epoch 88/200 - Train Loss: 0.4818, Train Acc: 0.9846, Test Acc: 0.8896\n"
          ]
        },
        {
          "metadata": {
            "tags": null
          },
          "name": "stderr",
          "output_type": "stream",
          "text": [
            "Epoch 89/200 [Train]: 100%|██████████| 313/313 [00:20<00:00, 15.19it/s, acc=1.96, loss=0.482]\n",
            "Epoch 89/200 [Test]: 100%|██████████| 79/79 [00:02<00:00, 34.13it/s, acc=7.03, loss=0.529]\n"
          ]
        },
        {
          "metadata": {
            "tags": null
          },
          "name": "stdout",
          "output_type": "stream",
          "text": [
            "Epoch 89/200 - Train Loss: 0.4825, Train Acc: 0.9831, Test Acc: 0.8884\n"
          ]
        },
        {
          "metadata": {
            "tags": null
          },
          "name": "stderr",
          "output_type": "stream",
          "text": [
            "Epoch 90/200 [Train]: 100%|██████████| 313/313 [00:21<00:00, 14.76it/s, acc=1.97, loss=0.482]\n",
            "Epoch 90/200 [Test]: 100%|██████████| 79/79 [00:02<00:00, 33.92it/s, acc=7.05, loss=0.528]\n"
          ]
        },
        {
          "metadata": {
            "tags": null
          },
          "name": "stdout",
          "output_type": "stream",
          "text": [
            "Epoch 90/200 - Train Loss: 0.4817, Train Acc: 0.9847, Test Acc: 0.8914\n"
          ]
        },
        {
          "metadata": {
            "tags": null
          },
          "name": "stderr",
          "output_type": "stream",
          "text": [
            "Epoch 91/200 [Train]: 100%|██████████| 313/313 [00:20<00:00, 15.23it/s, acc=1.96, loss=0.482]\n",
            "Epoch 91/200 [Test]: 100%|██████████| 79/79 [00:02<00:00, 30.10it/s, acc=7.03, loss=0.529]\n"
          ]
        },
        {
          "metadata": {
            "tags": null
          },
          "name": "stdout",
          "output_type": "stream",
          "text": [
            "Epoch 91/200 - Train Loss: 0.4822, Train Acc: 0.9837, Test Acc: 0.8892\n"
          ]
        },
        {
          "metadata": {
            "tags": null
          },
          "name": "stderr",
          "output_type": "stream",
          "text": [
            "Epoch 92/200 [Train]: 100%|██████████| 313/313 [00:21<00:00, 14.58it/s, acc=1.96, loss=0.482]\n",
            "Epoch 92/200 [Test]: 100%|██████████| 79/79 [00:02<00:00, 33.63it/s, acc=7.04, loss=0.529]\n"
          ]
        },
        {
          "metadata": {
            "tags": null
          },
          "name": "stdout",
          "output_type": "stream",
          "text": [
            "Epoch 92/200 - Train Loss: 0.4825, Train Acc: 0.9831, Test Acc: 0.8894\n"
          ]
        },
        {
          "metadata": {
            "tags": null
          },
          "name": "stderr",
          "output_type": "stream",
          "text": [
            "Epoch 93/200 [Train]: 100%|██████████| 313/313 [00:20<00:00, 15.15it/s, acc=1.97, loss=0.482]\n",
            "Epoch 93/200 [Test]: 100%|██████████| 79/79 [00:03<00:00, 23.47it/s, acc=7.04, loss=0.529]\n"
          ]
        },
        {
          "metadata": {
            "tags": null
          },
          "name": "stdout",
          "output_type": "stream",
          "text": [
            "Epoch 93/200 - Train Loss: 0.4817, Train Acc: 0.9848, Test Acc: 0.8901\n"
          ]
        },
        {
          "metadata": {
            "tags": null
          },
          "name": "stderr",
          "output_type": "stream",
          "text": [
            "Epoch 94/200 [Train]: 100%|██████████| 313/313 [00:20<00:00, 14.92it/s, acc=1.97, loss=0.481]\n",
            "Epoch 94/200 [Test]: 100%|██████████| 79/79 [00:02<00:00, 33.16it/s, acc=7.03, loss=0.53]\n"
          ]
        },
        {
          "metadata": {
            "tags": null
          },
          "name": "stdout",
          "output_type": "stream",
          "text": [
            "Epoch 94/200 - Train Loss: 0.4815, Train Acc: 0.9852, Test Acc: 0.8885\n"
          ]
        },
        {
          "metadata": {
            "tags": null
          },
          "name": "stderr",
          "output_type": "stream",
          "text": [
            "Epoch 95/200 [Train]: 100%|██████████| 313/313 [00:21<00:00, 14.83it/s, acc=1.97, loss=0.482]\n",
            "Epoch 95/200 [Test]: 100%|██████████| 79/79 [00:03<00:00, 26.25it/s, acc=7.01, loss=0.531]\n"
          ]
        },
        {
          "metadata": {
            "tags": null
          },
          "name": "stdout",
          "output_type": "stream",
          "text": [
            "Epoch 95/200 - Train Loss: 0.4817, Train Acc: 0.9847, Test Acc: 0.8865\n"
          ]
        },
        {
          "metadata": {
            "tags": null
          },
          "name": "stderr",
          "output_type": "stream",
          "text": [
            "Epoch 96/200 [Train]: 100%|██████████| 313/313 [00:20<00:00, 15.03it/s, acc=1.97, loss=0.481]\n",
            "Epoch 96/200 [Test]: 100%|██████████| 79/79 [00:02<00:00, 33.17it/s, acc=7.07, loss=0.527]\n"
          ]
        },
        {
          "metadata": {
            "tags": null
          },
          "name": "stdout",
          "output_type": "stream",
          "text": [
            "Epoch 96/200 - Train Loss: 0.4814, Train Acc: 0.9853, Test Acc: 0.8936\n"
          ]
        },
        {
          "metadata": {
            "tags": null
          },
          "name": "stderr",
          "output_type": "stream",
          "text": [
            "Epoch 97/200 [Train]: 100%|██████████| 313/313 [00:21<00:00, 14.64it/s, acc=1.96, loss=0.482]\n",
            "Epoch 97/200 [Test]: 100%|██████████| 79/79 [00:02<00:00, 31.82it/s, acc=7.05, loss=0.528]\n"
          ]
        },
        {
          "metadata": {
            "tags": null
          },
          "name": "stdout",
          "output_type": "stream",
          "text": [
            "Epoch 97/200 - Train Loss: 0.4823, Train Acc: 0.9836, Test Acc: 0.8905\n"
          ]
        },
        {
          "metadata": {
            "tags": null
          },
          "name": "stderr",
          "output_type": "stream",
          "text": [
            "Epoch 98/200 [Train]: 100%|██████████| 313/313 [00:21<00:00, 14.78it/s, acc=1.97, loss=0.482]\n",
            "Epoch 98/200 [Test]: 100%|██████████| 79/79 [00:02<00:00, 27.16it/s, acc=7.03, loss=0.53]\n"
          ]
        },
        {
          "metadata": {
            "tags": null
          },
          "name": "stdout",
          "output_type": "stream",
          "text": [
            "Epoch 98/200 - Train Loss: 0.4817, Train Acc: 0.9847, Test Acc: 0.8884\n"
          ]
        },
        {
          "metadata": {
            "tags": null
          },
          "name": "stderr",
          "output_type": "stream",
          "text": [
            "Epoch 99/200 [Train]: 100%|██████████| 313/313 [00:21<00:00, 14.80it/s, acc=1.97, loss=0.482]\n",
            "Epoch 99/200 [Test]: 100%|██████████| 79/79 [00:02<00:00, 33.84it/s, acc=7.05, loss=0.529]\n"
          ]
        },
        {
          "metadata": {
            "tags": null
          },
          "name": "stdout",
          "output_type": "stream",
          "text": [
            "Epoch 99/200 - Train Loss: 0.4819, Train Acc: 0.9845, Test Acc: 0.8917\n"
          ]
        },
        {
          "metadata": {
            "tags": null
          },
          "name": "stderr",
          "output_type": "stream",
          "text": [
            "Epoch 100/200 [Train]: 100%|██████████| 313/313 [00:20<00:00, 15.03it/s, acc=1.97, loss=0.481]\n",
            "Epoch 100/200 [Test]: 100%|██████████| 79/79 [00:03<00:00, 24.41it/s, acc=7.03, loss=0.53]\n"
          ]
        },
        {
          "metadata": {
            "tags": null
          },
          "name": "stdout",
          "output_type": "stream",
          "text": [
            "Epoch 100/200 - Train Loss: 0.4814, Train Acc: 0.9853, Test Acc: 0.8885\n"
          ]
        },
        {
          "metadata": {
            "tags": null
          },
          "name": "stderr",
          "output_type": "stream",
          "text": [
            "Epoch 101/200 [Train]: 100%|██████████| 313/313 [00:20<00:00, 15.06it/s, acc=1.96, loss=0.482]\n",
            "Epoch 101/200 [Test]: 100%|██████████| 79/79 [00:02<00:00, 33.70it/s, acc=7.02, loss=0.529]\n"
          ]
        },
        {
          "metadata": {
            "tags": null
          },
          "name": "stdout",
          "output_type": "stream",
          "text": [
            "Epoch 101/200 - Train Loss: 0.4823, Train Acc: 0.9836, Test Acc: 0.8872\n"
          ]
        },
        {
          "metadata": {
            "tags": null
          },
          "name": "stderr",
          "output_type": "stream",
          "text": [
            "Epoch 102/200 [Train]: 100%|██████████| 313/313 [00:22<00:00, 14.13it/s, acc=1.97, loss=0.482]\n",
            "Epoch 102/200 [Test]: 100%|██████████| 79/79 [00:02<00:00, 33.07it/s, acc=7.08, loss=0.526]\n"
          ]
        },
        {
          "metadata": {
            "tags": null
          },
          "name": "stdout",
          "output_type": "stream",
          "text": [
            "Epoch 102/200 - Train Loss: 0.4818, Train Acc: 0.9846, Test Acc: 0.8948\n"
          ]
        },
        {
          "metadata": {
            "tags": null
          },
          "name": "stderr",
          "output_type": "stream",
          "text": [
            "Epoch 103/200 [Train]: 100%|██████████| 313/313 [00:20<00:00, 15.15it/s, acc=1.96, loss=0.482]\n",
            "Epoch 103/200 [Test]: 100%|██████████| 79/79 [00:02<00:00, 28.96it/s, acc=7.06, loss=0.528]\n"
          ]
        },
        {
          "metadata": {
            "tags": null
          },
          "name": "stdout",
          "output_type": "stream",
          "text": [
            "Epoch 103/200 - Train Loss: 0.4822, Train Acc: 0.9838, Test Acc: 0.8927\n"
          ]
        },
        {
          "metadata": {
            "tags": null
          },
          "name": "stderr",
          "output_type": "stream",
          "text": [
            "Epoch 104/200 [Train]: 100%|██████████| 313/313 [00:21<00:00, 14.56it/s, acc=1.97, loss=0.481]\n",
            "Epoch 104/200 [Test]: 100%|██████████| 79/79 [00:02<00:00, 34.35it/s, acc=7.04, loss=0.528]\n"
          ]
        },
        {
          "metadata": {
            "tags": null
          },
          "name": "stdout",
          "output_type": "stream",
          "text": [
            "Epoch 104/200 - Train Loss: 0.4815, Train Acc: 0.9852, Test Acc: 0.8898\n"
          ]
        },
        {
          "metadata": {
            "tags": null
          },
          "name": "stderr",
          "output_type": "stream",
          "text": [
            "Epoch 105/200 [Train]: 100%|██████████| 313/313 [00:20<00:00, 15.18it/s, acc=1.97, loss=0.481]\n",
            "Epoch 105/200 [Test]: 100%|██████████| 79/79 [00:03<00:00, 24.01it/s, acc=7.07, loss=0.527]\n"
          ]
        },
        {
          "metadata": {
            "tags": null
          },
          "name": "stdout",
          "output_type": "stream",
          "text": [
            "Epoch 105/200 - Train Loss: 0.4812, Train Acc: 0.9859, Test Acc: 0.8932\n"
          ]
        },
        {
          "metadata": {
            "tags": null
          },
          "name": "stderr",
          "output_type": "stream",
          "text": [
            "Epoch 106/200 [Train]: 100%|██████████| 313/313 [00:20<00:00, 14.96it/s, acc=1.97, loss=0.481]\n",
            "Epoch 106/200 [Test]: 100%|██████████| 79/79 [00:02<00:00, 33.59it/s, acc=7.08, loss=0.526]\n"
          ]
        },
        {
          "metadata": {
            "tags": null
          },
          "name": "stdout",
          "output_type": "stream",
          "text": [
            "Epoch 106/200 - Train Loss: 0.4811, Train Acc: 0.9861, Test Acc: 0.8954\n"
          ]
        },
        {
          "metadata": {
            "tags": null
          },
          "name": "stderr",
          "output_type": "stream",
          "text": [
            "Epoch 107/200 [Train]: 100%|██████████| 313/313 [00:21<00:00, 14.89it/s, acc=1.97, loss=0.481]\n",
            "Epoch 107/200 [Test]: 100%|██████████| 79/79 [00:02<00:00, 26.72it/s, acc=7.01, loss=0.531]\n"
          ]
        },
        {
          "metadata": {
            "tags": null
          },
          "name": "stdout",
          "output_type": "stream",
          "text": [
            "Epoch 107/200 - Train Loss: 0.4812, Train Acc: 0.9858, Test Acc: 0.8860\n"
          ]
        },
        {
          "metadata": {
            "tags": null
          },
          "name": "stderr",
          "output_type": "stream",
          "text": [
            "Epoch 108/200 [Train]: 100%|██████████| 313/313 [00:20<00:00, 15.26it/s, acc=1.97, loss=0.481]\n",
            "Epoch 108/200 [Test]: 100%|██████████| 79/79 [00:02<00:00, 34.17it/s, acc=7.05, loss=0.529]\n"
          ]
        },
        {
          "metadata": {
            "tags": null
          },
          "name": "stdout",
          "output_type": "stream",
          "text": [
            "Epoch 108/200 - Train Loss: 0.4812, Train Acc: 0.9858, Test Acc: 0.8915\n"
          ]
        },
        {
          "metadata": {
            "tags": null
          },
          "name": "stderr",
          "output_type": "stream",
          "text": [
            "Epoch 109/200 [Train]: 100%|██████████| 313/313 [00:20<00:00, 14.94it/s, acc=1.97, loss=0.481]\n",
            "Epoch 109/200 [Test]: 100%|██████████| 79/79 [00:02<00:00, 33.98it/s, acc=7.07, loss=0.528]\n"
          ]
        },
        {
          "metadata": {
            "tags": null
          },
          "name": "stdout",
          "output_type": "stream",
          "text": [
            "Epoch 109/200 - Train Loss: 0.4812, Train Acc: 0.9858, Test Acc: 0.8936\n"
          ]
        },
        {
          "metadata": {
            "tags": null
          },
          "name": "stderr",
          "output_type": "stream",
          "text": [
            "Epoch 110/200 [Train]: 100%|██████████| 313/313 [00:20<00:00, 15.18it/s, acc=1.97, loss=0.481]\n",
            "Epoch 110/200 [Test]: 100%|██████████| 79/79 [00:03<00:00, 26.30it/s, acc=7.03, loss=0.53]\n"
          ]
        },
        {
          "metadata": {
            "tags": null
          },
          "name": "stdout",
          "output_type": "stream",
          "text": [
            "Epoch 110/200 - Train Loss: 0.4807, Train Acc: 0.9868, Test Acc: 0.8886\n"
          ]
        },
        {
          "metadata": {
            "tags": null
          },
          "name": "stderr",
          "output_type": "stream",
          "text": [
            "Epoch 111/200 [Train]: 100%|██████████| 313/313 [00:20<00:00, 15.19it/s, acc=1.97, loss=0.481]\n",
            "Epoch 111/200 [Test]: 100%|██████████| 79/79 [00:02<00:00, 31.84it/s, acc=7.08, loss=0.527]\n"
          ]
        },
        {
          "metadata": {
            "tags": null
          },
          "name": "stdout",
          "output_type": "stream",
          "text": [
            "Epoch 111/200 - Train Loss: 0.4809, Train Acc: 0.9864, Test Acc: 0.8951\n"
          ]
        },
        {
          "metadata": {
            "tags": null
          },
          "name": "stderr",
          "output_type": "stream",
          "text": [
            "Epoch 112/200 [Train]: 100%|██████████| 313/313 [00:20<00:00, 15.06it/s, acc=1.97, loss=0.482]\n",
            "Epoch 112/200 [Test]: 100%|██████████| 79/79 [00:02<00:00, 33.86it/s, acc=7.09, loss=0.525]\n"
          ]
        },
        {
          "metadata": {
            "tags": null
          },
          "name": "stdout",
          "output_type": "stream",
          "text": [
            "Epoch 112/200 - Train Loss: 0.4816, Train Acc: 0.9850, Test Acc: 0.8962\n"
          ]
        },
        {
          "metadata": {
            "tags": null
          },
          "name": "stderr",
          "output_type": "stream",
          "text": [
            "Epoch 113/200 [Train]: 100%|██████████| 313/313 [00:20<00:00, 15.03it/s, acc=1.97, loss=0.482]\n",
            "Epoch 113/200 [Test]: 100%|██████████| 79/79 [00:02<00:00, 33.61it/s, acc=7.06, loss=0.527]\n"
          ]
        },
        {
          "metadata": {
            "tags": null
          },
          "name": "stdout",
          "output_type": "stream",
          "text": [
            "Epoch 113/200 - Train Loss: 0.4817, Train Acc: 0.9848, Test Acc: 0.8927\n"
          ]
        },
        {
          "metadata": {
            "tags": null
          },
          "name": "stderr",
          "output_type": "stream",
          "text": [
            "Epoch 114/200 [Train]: 100%|██████████| 313/313 [00:20<00:00, 15.40it/s, acc=1.97, loss=0.481]\n",
            "Epoch 114/200 [Test]: 100%|██████████| 79/79 [00:02<00:00, 29.05it/s, acc=7.09, loss=0.526]\n"
          ]
        },
        {
          "metadata": {
            "tags": null
          },
          "name": "stdout",
          "output_type": "stream",
          "text": [
            "Epoch 114/200 - Train Loss: 0.4812, Train Acc: 0.9856, Test Acc: 0.8960\n"
          ]
        },
        {
          "metadata": {
            "tags": null
          },
          "name": "stderr",
          "output_type": "stream",
          "text": [
            "Epoch 115/200 [Train]: 100%|██████████| 313/313 [00:20<00:00, 15.26it/s, acc=1.97, loss=0.481]\n",
            "Epoch 115/200 [Test]: 100%|██████████| 79/79 [00:02<00:00, 32.83it/s, acc=7.08, loss=0.526]\n"
          ]
        },
        {
          "metadata": {
            "tags": null
          },
          "name": "stdout",
          "output_type": "stream",
          "text": [
            "Epoch 115/200 - Train Loss: 0.4812, Train Acc: 0.9859, Test Acc: 0.8947\n"
          ]
        },
        {
          "metadata": {
            "tags": null
          },
          "name": "stderr",
          "output_type": "stream",
          "text": [
            "Epoch 116/200 [Train]: 100%|██████████| 313/313 [00:21<00:00, 14.57it/s, acc=1.97, loss=0.481]\n",
            "Epoch 116/200 [Test]: 100%|██████████| 79/79 [00:02<00:00, 31.13it/s, acc=7.05, loss=0.528]\n"
          ]
        },
        {
          "metadata": {
            "tags": null
          },
          "name": "stdout",
          "output_type": "stream",
          "text": [
            "Epoch 116/200 - Train Loss: 0.4812, Train Acc: 0.9859, Test Acc: 0.8915\n"
          ]
        },
        {
          "metadata": {
            "tags": null
          },
          "name": "stderr",
          "output_type": "stream",
          "text": [
            "Epoch 117/200 [Train]: 100%|██████████| 313/313 [00:20<00:00, 15.41it/s, acc=1.97, loss=0.482]\n",
            "Epoch 117/200 [Test]: 100%|██████████| 79/79 [00:03<00:00, 25.15it/s, acc=7.08, loss=0.527]\n"
          ]
        },
        {
          "metadata": {
            "tags": null
          },
          "name": "stdout",
          "output_type": "stream",
          "text": [
            "Epoch 117/200 - Train Loss: 0.4819, Train Acc: 0.9843, Test Acc: 0.8944\n"
          ]
        },
        {
          "metadata": {
            "tags": null
          },
          "name": "stderr",
          "output_type": "stream",
          "text": [
            "Epoch 118/200 [Train]: 100%|██████████| 313/313 [00:20<00:00, 15.18it/s, acc=1.97, loss=0.481]\n",
            "Epoch 118/200 [Test]: 100%|██████████| 79/79 [00:02<00:00, 34.01it/s, acc=7.08, loss=0.526]\n"
          ]
        },
        {
          "metadata": {
            "tags": null
          },
          "name": "stdout",
          "output_type": "stream",
          "text": [
            "Epoch 118/200 - Train Loss: 0.4808, Train Acc: 0.9866, Test Acc: 0.8954\n"
          ]
        },
        {
          "metadata": {
            "tags": null
          },
          "name": "stderr",
          "output_type": "stream",
          "text": [
            "Epoch 119/200 [Train]: 100%|██████████| 313/313 [00:20<00:00, 15.01it/s, acc=1.97, loss=0.481]\n",
            "Epoch 119/200 [Test]: 100%|██████████| 79/79 [00:02<00:00, 34.00it/s, acc=7.08, loss=0.527]\n"
          ]
        },
        {
          "metadata": {
            "tags": null
          },
          "name": "stdout",
          "output_type": "stream",
          "text": [
            "Epoch 119/200 - Train Loss: 0.4806, Train Acc: 0.9870, Test Acc: 0.8949\n"
          ]
        },
        {
          "metadata": {
            "tags": null
          },
          "name": "stderr",
          "output_type": "stream",
          "text": [
            "Epoch 120/200 [Train]: 100%|██████████| 313/313 [00:20<00:00, 15.34it/s, acc=1.97, loss=0.481]\n",
            "Epoch 120/200 [Test]: 100%|██████████| 79/79 [00:03<00:00, 25.88it/s, acc=7.08, loss=0.527]\n"
          ]
        },
        {
          "metadata": {
            "tags": null
          },
          "name": "stdout",
          "output_type": "stream",
          "text": [
            "Epoch 120/200 - Train Loss: 0.4805, Train Acc: 0.9871, Test Acc: 0.8949\n"
          ]
        },
        {
          "metadata": {
            "tags": null
          },
          "name": "stderr",
          "output_type": "stream",
          "text": [
            "Epoch 121/200 [Train]: 100%|██████████| 313/313 [00:20<00:00, 15.19it/s, acc=1.97, loss=0.48]\n",
            "Epoch 121/200 [Test]: 100%|██████████| 79/79 [00:02<00:00, 33.28it/s, acc=7.08, loss=0.526]\n"
          ]
        },
        {
          "metadata": {
            "tags": null
          },
          "name": "stdout",
          "output_type": "stream",
          "text": [
            "Epoch 121/200 - Train Loss: 0.4805, Train Acc: 0.9871, Test Acc: 0.8951\n"
          ]
        },
        {
          "metadata": {
            "tags": null
          },
          "name": "stderr",
          "output_type": "stream",
          "text": [
            "Epoch 122/200 [Train]: 100%|██████████| 313/313 [00:20<00:00, 15.02it/s, acc=1.97, loss=0.481]\n",
            "Epoch 122/200 [Test]: 100%|██████████| 79/79 [00:02<00:00, 34.85it/s, acc=7.07, loss=0.527]\n"
          ]
        },
        {
          "metadata": {
            "tags": null
          },
          "name": "stdout",
          "output_type": "stream",
          "text": [
            "Epoch 122/200 - Train Loss: 0.4807, Train Acc: 0.9868, Test Acc: 0.8939\n"
          ]
        },
        {
          "metadata": {
            "tags": null
          },
          "name": "stderr",
          "output_type": "stream",
          "text": [
            "Epoch 123/200 [Train]: 100%|██████████| 313/313 [00:20<00:00, 15.34it/s, acc=1.97, loss=0.481]\n",
            "Epoch 123/200 [Test]: 100%|██████████| 79/79 [00:03<00:00, 23.19it/s, acc=7.08, loss=0.527]\n"
          ]
        },
        {
          "metadata": {
            "tags": null
          },
          "name": "stdout",
          "output_type": "stream",
          "text": [
            "Epoch 123/200 - Train Loss: 0.4805, Train Acc: 0.9871, Test Acc: 0.8952\n"
          ]
        },
        {
          "metadata": {
            "tags": null
          },
          "name": "stderr",
          "output_type": "stream",
          "text": [
            "Epoch 124/200 [Train]: 100%|██████████| 313/313 [00:20<00:00, 15.01it/s, acc=1.97, loss=0.48]\n",
            "Epoch 124/200 [Test]: 100%|██████████| 79/79 [00:02<00:00, 32.57it/s, acc=7.08, loss=0.527]\n"
          ]
        },
        {
          "metadata": {
            "tags": null
          },
          "name": "stdout",
          "output_type": "stream",
          "text": [
            "Epoch 124/200 - Train Loss: 0.4805, Train Acc: 0.9872, Test Acc: 0.8952\n"
          ]
        },
        {
          "metadata": {
            "tags": null
          },
          "name": "stderr",
          "output_type": "stream",
          "text": [
            "Epoch 125/200 [Train]: 100%|██████████| 313/313 [00:20<00:00, 15.03it/s, acc=1.97, loss=0.48]\n",
            "Epoch 125/200 [Test]: 100%|██████████| 79/79 [00:02<00:00, 33.54it/s, acc=7.08, loss=0.526]\n"
          ]
        },
        {
          "metadata": {
            "tags": null
          },
          "name": "stdout",
          "output_type": "stream",
          "text": [
            "Epoch 125/200 - Train Loss: 0.4805, Train Acc: 0.9872, Test Acc: 0.8952\n"
          ]
        },
        {
          "metadata": {
            "tags": null
          },
          "name": "stderr",
          "output_type": "stream",
          "text": [
            "Epoch 126/200 [Train]: 100%|██████████| 313/313 [00:20<00:00, 15.25it/s, acc=1.97, loss=0.48]\n",
            "Epoch 126/200 [Test]: 100%|██████████| 79/79 [00:03<00:00, 25.21it/s, acc=7.08, loss=0.527]\n"
          ]
        },
        {
          "metadata": {
            "tags": null
          },
          "name": "stdout",
          "output_type": "stream",
          "text": [
            "Epoch 126/200 - Train Loss: 0.4805, Train Acc: 0.9872, Test Acc: 0.8948\n"
          ]
        },
        {
          "metadata": {
            "tags": null
          },
          "name": "stderr",
          "output_type": "stream",
          "text": [
            "Epoch 127/200 [Train]: 100%|██████████| 313/313 [00:20<00:00, 15.30it/s, acc=1.97, loss=0.48]\n",
            "Epoch 127/200 [Test]: 100%|██████████| 79/79 [00:02<00:00, 34.40it/s, acc=7.07, loss=0.527]\n"
          ]
        },
        {
          "metadata": {
            "tags": null
          },
          "name": "stdout",
          "output_type": "stream",
          "text": [
            "Epoch 127/200 - Train Loss: 0.4805, Train Acc: 0.9872, Test Acc: 0.8942\n"
          ]
        },
        {
          "metadata": {
            "tags": null
          },
          "name": "stderr",
          "output_type": "stream",
          "text": [
            "Epoch 128/200 [Train]: 100%|██████████| 313/313 [00:20<00:00, 15.03it/s, acc=1.97, loss=0.48]\n",
            "Epoch 128/200 [Test]: 100%|██████████| 79/79 [00:02<00:00, 32.71it/s, acc=7.07, loss=0.527]\n"
          ]
        },
        {
          "metadata": {
            "tags": null
          },
          "name": "stdout",
          "output_type": "stream",
          "text": [
            "Epoch 128/200 - Train Loss: 0.4804, Train Acc: 0.9873, Test Acc: 0.8942\n"
          ]
        },
        {
          "metadata": {
            "tags": null
          },
          "name": "stderr",
          "output_type": "stream",
          "text": [
            "Epoch 129/200 [Train]: 100%|██████████| 313/313 [00:20<00:00, 14.93it/s, acc=1.97, loss=0.48]\n",
            "Epoch 129/200 [Test]: 100%|██████████| 79/79 [00:03<00:00, 23.29it/s, acc=7.08, loss=0.527]\n"
          ]
        },
        {
          "metadata": {
            "tags": null
          },
          "name": "stdout",
          "output_type": "stream",
          "text": [
            "Epoch 129/200 - Train Loss: 0.4804, Train Acc: 0.9873, Test Acc: 0.8943\n"
          ]
        },
        {
          "metadata": {
            "tags": null
          },
          "name": "stderr",
          "output_type": "stream",
          "text": [
            "Epoch 130/200 [Train]: 100%|██████████| 313/313 [00:20<00:00, 15.38it/s, acc=1.97, loss=0.48]\n",
            "Epoch 130/200 [Test]: 100%|██████████| 79/79 [00:02<00:00, 34.05it/s, acc=7.08, loss=0.527]\n"
          ]
        },
        {
          "metadata": {
            "tags": null
          },
          "name": "stdout",
          "output_type": "stream",
          "text": [
            "Epoch 130/200 - Train Loss: 0.4805, Train Acc: 0.9873, Test Acc: 0.8943\n"
          ]
        },
        {
          "metadata": {
            "tags": null
          },
          "name": "stderr",
          "output_type": "stream",
          "text": [
            "Epoch 131/200 [Train]: 100%|██████████| 313/313 [00:21<00:00, 14.83it/s, acc=1.97, loss=0.481]\n",
            "Epoch 131/200 [Test]: 100%|██████████| 79/79 [00:02<00:00, 34.08it/s, acc=6.95, loss=0.535]\n"
          ]
        },
        {
          "metadata": {
            "tags": null
          },
          "name": "stdout",
          "output_type": "stream",
          "text": [
            "Epoch 131/200 - Train Loss: 0.4812, Train Acc: 0.9858, Test Acc: 0.8780\n"
          ]
        },
        {
          "metadata": {
            "tags": null
          },
          "name": "stderr",
          "output_type": "stream",
          "text": [
            "Epoch 132/200 [Train]: 100%|██████████| 313/313 [00:20<00:00, 15.26it/s, acc=1.97, loss=0.482]\n",
            "Epoch 132/200 [Test]: 100%|██████████| 79/79 [00:02<00:00, 27.77it/s, acc=7.04, loss=0.528]\n"
          ]
        },
        {
          "metadata": {
            "tags": null
          },
          "name": "stdout",
          "output_type": "stream",
          "text": [
            "Epoch 132/200 - Train Loss: 0.4820, Train Acc: 0.9841, Test Acc: 0.8902\n"
          ]
        },
        {
          "metadata": {
            "tags": null
          },
          "name": "stderr",
          "output_type": "stream",
          "text": [
            "Epoch 133/200 [Train]: 100%|██████████| 313/313 [00:20<00:00, 15.39it/s, acc=1.97, loss=0.482]\n",
            "Epoch 133/200 [Test]: 100%|██████████| 79/79 [00:02<00:00, 33.49it/s, acc=7.05, loss=0.528]\n"
          ]
        },
        {
          "metadata": {
            "tags": null
          },
          "name": "stdout",
          "output_type": "stream",
          "text": [
            "Epoch 133/200 - Train Loss: 0.4818, Train Acc: 0.9846, Test Acc: 0.8916\n"
          ]
        },
        {
          "metadata": {
            "tags": null
          },
          "name": "stderr",
          "output_type": "stream",
          "text": [
            "Epoch 134/200 [Train]: 100%|██████████| 313/313 [00:20<00:00, 14.98it/s, acc=1.97, loss=0.481]\n",
            "Epoch 134/200 [Test]: 100%|██████████| 79/79 [00:02<00:00, 34.33it/s, acc=7.03, loss=0.529]\n"
          ]
        },
        {
          "metadata": {
            "tags": null
          },
          "name": "stdout",
          "output_type": "stream",
          "text": [
            "Epoch 134/200 - Train Loss: 0.4812, Train Acc: 0.9858, Test Acc: 0.8892\n"
          ]
        },
        {
          "metadata": {
            "tags": null
          },
          "name": "stderr",
          "output_type": "stream",
          "text": [
            "Epoch 135/200 [Train]: 100%|██████████| 313/313 [00:20<00:00, 15.13it/s, acc=1.97, loss=0.481]\n",
            "Epoch 135/200 [Test]: 100%|██████████| 79/79 [00:02<00:00, 30.07it/s, acc=7.04, loss=0.529]\n"
          ]
        },
        {
          "metadata": {
            "tags": null
          },
          "name": "stdout",
          "output_type": "stream",
          "text": [
            "Epoch 135/200 - Train Loss: 0.4812, Train Acc: 0.9857, Test Acc: 0.8897\n"
          ]
        },
        {
          "metadata": {
            "tags": null
          },
          "name": "stderr",
          "output_type": "stream",
          "text": [
            "Epoch 136/200 [Train]: 100%|██████████| 313/313 [00:20<00:00, 15.30it/s, acc=1.97, loss=0.482]\n",
            "Epoch 136/200 [Test]: 100%|██████████| 79/79 [00:02<00:00, 29.67it/s, acc=7.05, loss=0.529]\n"
          ]
        },
        {
          "metadata": {
            "tags": null
          },
          "name": "stdout",
          "output_type": "stream",
          "text": [
            "Epoch 136/200 - Train Loss: 0.4818, Train Acc: 0.9846, Test Acc: 0.8912\n"
          ]
        },
        {
          "metadata": {
            "tags": null
          },
          "name": "stderr",
          "output_type": "stream",
          "text": [
            "Epoch 137/200 [Train]: 100%|██████████| 313/313 [00:21<00:00, 14.81it/s, acc=1.97, loss=0.481]\n",
            "Epoch 137/200 [Test]: 100%|██████████| 79/79 [00:02<00:00, 31.73it/s, acc=7.05, loss=0.528]\n"
          ]
        },
        {
          "metadata": {
            "tags": null
          },
          "name": "stdout",
          "output_type": "stream",
          "text": [
            "Epoch 137/200 - Train Loss: 0.4813, Train Acc: 0.9856, Test Acc: 0.8909\n"
          ]
        },
        {
          "metadata": {
            "tags": null
          },
          "name": "stderr",
          "output_type": "stream",
          "text": [
            "Epoch 138/200 [Train]: 100%|██████████| 313/313 [00:21<00:00, 14.63it/s, acc=1.97, loss=0.481]\n",
            "Epoch 138/200 [Test]: 100%|██████████| 79/79 [00:02<00:00, 32.18it/s, acc=7.06, loss=0.527]\n"
          ]
        },
        {
          "metadata": {
            "tags": null
          },
          "name": "stdout",
          "output_type": "stream",
          "text": [
            "Epoch 138/200 - Train Loss: 0.4809, Train Acc: 0.9864, Test Acc: 0.8920\n"
          ]
        },
        {
          "metadata": {
            "tags": null
          },
          "name": "stderr",
          "output_type": "stream",
          "text": [
            "Epoch 139/200 [Train]: 100%|██████████| 313/313 [00:20<00:00, 15.11it/s, acc=1.97, loss=0.481]\n",
            "Epoch 139/200 [Test]: 100%|██████████| 79/79 [00:03<00:00, 25.45it/s, acc=7.05, loss=0.529]\n"
          ]
        },
        {
          "metadata": {
            "tags": null
          },
          "name": "stdout",
          "output_type": "stream",
          "text": [
            "Epoch 139/200 - Train Loss: 0.4811, Train Acc: 0.9860, Test Acc: 0.8912\n"
          ]
        },
        {
          "metadata": {
            "tags": null
          },
          "name": "stderr",
          "output_type": "stream",
          "text": [
            "Epoch 140/200 [Train]: 100%|██████████| 313/313 [00:20<00:00, 14.93it/s, acc=1.97, loss=0.481]\n",
            "Epoch 140/200 [Test]: 100%|██████████| 79/79 [00:02<00:00, 31.90it/s, acc=7.07, loss=0.527]\n"
          ]
        },
        {
          "metadata": {
            "tags": null
          },
          "name": "stdout",
          "output_type": "stream",
          "text": [
            "Epoch 140/200 - Train Loss: 0.4806, Train Acc: 0.9869, Test Acc: 0.8931\n"
          ]
        },
        {
          "metadata": {
            "tags": null
          },
          "name": "stderr",
          "output_type": "stream",
          "text": [
            "Epoch 141/200 [Train]: 100%|██████████| 313/313 [00:21<00:00, 14.77it/s, acc=1.97, loss=0.48]\n",
            "Epoch 141/200 [Test]: 100%|██████████| 79/79 [00:02<00:00, 30.97it/s, acc=7.07, loss=0.527]\n"
          ]
        },
        {
          "metadata": {
            "tags": null
          },
          "name": "stdout",
          "output_type": "stream",
          "text": [
            "Epoch 141/200 - Train Loss: 0.4804, Train Acc: 0.9873, Test Acc: 0.8932\n"
          ]
        },
        {
          "metadata": {
            "tags": null
          },
          "name": "stderr",
          "output_type": "stream",
          "text": [
            "Epoch 142/200 [Train]: 100%|██████████| 313/313 [00:20<00:00, 15.07it/s, acc=1.97, loss=0.48]\n",
            "Epoch 142/200 [Test]: 100%|██████████| 79/79 [00:03<00:00, 23.87it/s, acc=7.06, loss=0.527]\n"
          ]
        },
        {
          "metadata": {
            "tags": null
          },
          "name": "stdout",
          "output_type": "stream",
          "text": [
            "Epoch 142/200 - Train Loss: 0.4804, Train Acc: 0.9874, Test Acc: 0.8924\n"
          ]
        },
        {
          "metadata": {
            "tags": null
          },
          "name": "stderr",
          "output_type": "stream",
          "text": [
            "Epoch 143/200 [Train]: 100%|██████████| 313/313 [00:21<00:00, 14.45it/s, acc=1.97, loss=0.48]\n",
            "Epoch 143/200 [Test]: 100%|██████████| 79/79 [00:02<00:00, 32.23it/s, acc=7.06, loss=0.527]\n"
          ]
        },
        {
          "metadata": {
            "tags": null
          },
          "name": "stdout",
          "output_type": "stream",
          "text": [
            "Epoch 143/200 - Train Loss: 0.4804, Train Acc: 0.9874, Test Acc: 0.8927\n"
          ]
        },
        {
          "metadata": {
            "tags": null
          },
          "name": "stderr",
          "output_type": "stream",
          "text": [
            "Epoch 144/200 [Train]: 100%|██████████| 313/313 [00:21<00:00, 14.83it/s, acc=1.97, loss=0.48]\n",
            "Epoch 144/200 [Test]: 100%|██████████| 79/79 [00:02<00:00, 28.76it/s, acc=7.06, loss=0.528]\n"
          ]
        },
        {
          "metadata": {
            "tags": null
          },
          "name": "stdout",
          "output_type": "stream",
          "text": [
            "Epoch 144/200 - Train Loss: 0.4804, Train Acc: 0.9874, Test Acc: 0.8928\n"
          ]
        },
        {
          "metadata": {
            "tags": null
          },
          "name": "stderr",
          "output_type": "stream",
          "text": [
            "Epoch 145/200 [Train]: 100%|██████████| 313/313 [00:20<00:00, 14.98it/s, acc=1.97, loss=0.48]\n",
            "Epoch 145/200 [Test]: 100%|██████████| 79/79 [00:02<00:00, 28.46it/s, acc=7.06, loss=0.528]\n"
          ]
        },
        {
          "metadata": {
            "tags": null
          },
          "name": "stdout",
          "output_type": "stream",
          "text": [
            "Epoch 145/200 - Train Loss: 0.4803, Train Acc: 0.9875, Test Acc: 0.8928\n"
          ]
        },
        {
          "metadata": {
            "tags": null
          },
          "name": "stderr",
          "output_type": "stream",
          "text": [
            "Epoch 146/200 [Train]: 100%|██████████| 313/313 [00:21<00:00, 14.79it/s, acc=1.97, loss=0.48]\n",
            "Epoch 146/200 [Test]: 100%|██████████| 79/79 [00:02<00:00, 32.22it/s, acc=7.06, loss=0.527]\n"
          ]
        },
        {
          "metadata": {
            "tags": null
          },
          "name": "stdout",
          "output_type": "stream",
          "text": [
            "Epoch 146/200 - Train Loss: 0.4803, Train Acc: 0.9875, Test Acc: 0.8928\n"
          ]
        },
        {
          "metadata": {
            "tags": null
          },
          "name": "stderr",
          "output_type": "stream",
          "text": [
            "Epoch 147/200 [Train]: 100%|██████████| 313/313 [00:21<00:00, 14.65it/s, acc=1.97, loss=0.48]\n",
            "Epoch 147/200 [Test]: 100%|██████████| 79/79 [00:02<00:00, 32.03it/s, acc=7.06, loss=0.528]\n"
          ]
        },
        {
          "metadata": {
            "tags": null
          },
          "name": "stdout",
          "output_type": "stream",
          "text": [
            "Epoch 147/200 - Train Loss: 0.4803, Train Acc: 0.9875, Test Acc: 0.8928\n"
          ]
        },
        {
          "metadata": {
            "tags": null
          },
          "name": "stderr",
          "output_type": "stream",
          "text": [
            "Epoch 148/200 [Train]: 100%|██████████| 313/313 [00:20<00:00, 15.05it/s, acc=1.97, loss=0.48]\n",
            "Epoch 148/200 [Test]: 100%|██████████| 79/79 [00:02<00:00, 26.56it/s, acc=7.06, loss=0.527]\n"
          ]
        },
        {
          "metadata": {
            "tags": null
          },
          "name": "stdout",
          "output_type": "stream",
          "text": [
            "Epoch 148/200 - Train Loss: 0.4803, Train Acc: 0.9875, Test Acc: 0.8928\n"
          ]
        },
        {
          "metadata": {
            "tags": null
          },
          "name": "stderr",
          "output_type": "stream",
          "text": [
            "Epoch 149/200 [Train]: 100%|██████████| 313/313 [00:21<00:00, 14.85it/s, acc=1.97, loss=0.48]\n",
            "Epoch 149/200 [Test]: 100%|██████████| 79/79 [00:02<00:00, 32.69it/s, acc=7.06, loss=0.527]\n"
          ]
        },
        {
          "metadata": {
            "tags": null
          },
          "name": "stdout",
          "output_type": "stream",
          "text": [
            "Epoch 149/200 - Train Loss: 0.4803, Train Acc: 0.9875, Test Acc: 0.8928\n"
          ]
        },
        {
          "metadata": {
            "tags": null
          },
          "name": "stderr",
          "output_type": "stream",
          "text": [
            "Epoch 150/200 [Train]: 100%|██████████| 313/313 [00:21<00:00, 14.69it/s, acc=1.97, loss=0.48]\n",
            "Epoch 150/200 [Test]: 100%|██████████| 79/79 [00:02<00:00, 30.96it/s, acc=7.06, loss=0.528]\n"
          ]
        },
        {
          "metadata": {
            "tags": null
          },
          "name": "stdout",
          "output_type": "stream",
          "text": [
            "Epoch 150/200 - Train Loss: 0.4803, Train Acc: 0.9875, Test Acc: 0.8928\n"
          ]
        },
        {
          "metadata": {
            "tags": null
          },
          "name": "stderr",
          "output_type": "stream",
          "text": [
            "Epoch 151/200 [Train]: 100%|██████████| 313/313 [00:21<00:00, 14.85it/s, acc=1.97, loss=0.48]\n",
            "Epoch 151/200 [Test]: 100%|██████████| 79/79 [00:03<00:00, 23.67it/s, acc=7.06, loss=0.527]\n"
          ]
        },
        {
          "metadata": {
            "tags": null
          },
          "name": "stdout",
          "output_type": "stream",
          "text": [
            "Epoch 151/200 - Train Loss: 0.4803, Train Acc: 0.9875, Test Acc: 0.8928\n"
          ]
        },
        {
          "metadata": {
            "tags": null
          },
          "name": "stderr",
          "output_type": "stream",
          "text": [
            "Epoch 152/200 [Train]: 100%|██████████| 313/313 [00:20<00:00, 15.11it/s, acc=1.97, loss=0.48]\n",
            "Epoch 152/200 [Test]: 100%|██████████| 79/79 [00:02<00:00, 32.15it/s, acc=7.06, loss=0.529]\n"
          ]
        },
        {
          "metadata": {
            "tags": null
          },
          "name": "stdout",
          "output_type": "stream",
          "text": [
            "Epoch 152/200 - Train Loss: 0.4803, Train Acc: 0.9875, Test Acc: 0.8928\n"
          ]
        },
        {
          "metadata": {
            "tags": null
          },
          "name": "stderr",
          "output_type": "stream",
          "text": [
            "Epoch 153/200 [Train]: 100%|██████████| 313/313 [00:21<00:00, 14.68it/s, acc=1.97, loss=0.48]\n",
            "Epoch 153/200 [Test]: 100%|██████████| 79/79 [00:02<00:00, 32.05it/s, acc=7.06, loss=0.527]\n"
          ]
        },
        {
          "metadata": {
            "tags": null
          },
          "name": "stdout",
          "output_type": "stream",
          "text": [
            "Epoch 153/200 - Train Loss: 0.4803, Train Acc: 0.9875, Test Acc: 0.8928\n"
          ]
        },
        {
          "metadata": {
            "tags": null
          },
          "name": "stderr",
          "output_type": "stream",
          "text": [
            "Epoch 154/200 [Train]: 100%|██████████| 313/313 [00:21<00:00, 14.84it/s, acc=1.97, loss=0.48]\n",
            "Epoch 154/200 [Test]: 100%|██████████| 79/79 [00:02<00:00, 27.26it/s, acc=7.06, loss=0.528]\n"
          ]
        },
        {
          "metadata": {
            "tags": null
          },
          "name": "stdout",
          "output_type": "stream",
          "text": [
            "Epoch 154/200 - Train Loss: 0.4803, Train Acc: 0.9875, Test Acc: 0.8929\n"
          ]
        },
        {
          "metadata": {
            "tags": null
          },
          "name": "stderr",
          "output_type": "stream",
          "text": [
            "Epoch 155/200 [Train]: 100%|██████████| 313/313 [00:20<00:00, 15.12it/s, acc=1.97, loss=0.48]\n",
            "Epoch 155/200 [Test]: 100%|██████████| 79/79 [00:02<00:00, 29.12it/s, acc=7.06, loss=0.528]\n"
          ]
        },
        {
          "metadata": {
            "tags": null
          },
          "name": "stdout",
          "output_type": "stream",
          "text": [
            "Epoch 155/200 - Train Loss: 0.4803, Train Acc: 0.9875, Test Acc: 0.8929\n"
          ]
        },
        {
          "metadata": {
            "tags": null
          },
          "name": "stderr",
          "output_type": "stream",
          "text": [
            "Epoch 156/200 [Train]: 100%|██████████| 313/313 [00:21<00:00, 14.82it/s, acc=1.96, loss=0.483]\n",
            "Epoch 156/200 [Test]: 100%|██████████| 79/79 [00:02<00:00, 31.55it/s, acc=6.97, loss=0.533]\n"
          ]
        },
        {
          "metadata": {
            "tags": null
          },
          "name": "stdout",
          "output_type": "stream",
          "text": [
            "Epoch 156/200 - Train Loss: 0.4828, Train Acc: 0.9825, Test Acc: 0.8808\n"
          ]
        },
        {
          "metadata": {
            "tags": null
          },
          "name": "stderr",
          "output_type": "stream",
          "text": [
            "Epoch 157/200 [Train]: 100%|██████████| 313/313 [00:21<00:00, 14.35it/s, acc=1.96, loss=0.483]\n",
            "Epoch 157/200 [Test]: 100%|██████████| 79/79 [00:02<00:00, 29.05it/s, acc=7.07, loss=0.527]\n"
          ]
        },
        {
          "metadata": {
            "tags": null
          },
          "name": "stdout",
          "output_type": "stream",
          "text": [
            "Epoch 157/200 - Train Loss: 0.4830, Train Acc: 0.9821, Test Acc: 0.8934\n"
          ]
        },
        {
          "metadata": {
            "tags": null
          },
          "name": "stderr",
          "output_type": "stream",
          "text": [
            "Epoch 158/200 [Train]: 100%|██████████| 313/313 [00:21<00:00, 14.85it/s, acc=1.96, loss=0.482]\n",
            "Epoch 158/200 [Test]: 100%|██████████| 79/79 [00:02<00:00, 29.38it/s, acc=7.03, loss=0.53]\n"
          ]
        },
        {
          "metadata": {
            "tags": null
          },
          "name": "stdout",
          "output_type": "stream",
          "text": [
            "Epoch 158/200 - Train Loss: 0.4824, Train Acc: 0.9832, Test Acc: 0.8891\n"
          ]
        },
        {
          "metadata": {
            "tags": null
          },
          "name": "stderr",
          "output_type": "stream",
          "text": [
            "Epoch 159/200 [Train]: 100%|██████████| 313/313 [00:21<00:00, 14.84it/s, acc=1.97, loss=0.482]\n",
            "Epoch 159/200 [Test]: 100%|██████████| 79/79 [00:02<00:00, 34.47it/s, acc=7.08, loss=0.526]\n"
          ]
        },
        {
          "metadata": {
            "tags": null
          },
          "name": "stdout",
          "output_type": "stream",
          "text": [
            "Epoch 159/200 - Train Loss: 0.4815, Train Acc: 0.9850, Test Acc: 0.8947\n"
          ]
        },
        {
          "metadata": {
            "tags": null
          },
          "name": "stderr",
          "output_type": "stream",
          "text": [
            "Epoch 160/200 [Train]: 100%|██████████| 313/313 [00:20<00:00, 15.07it/s, acc=1.97, loss=0.481]\n",
            "Epoch 160/200 [Test]: 100%|██████████| 79/79 [00:02<00:00, 31.98it/s, acc=7.09, loss=0.527]\n"
          ]
        },
        {
          "metadata": {
            "tags": null
          },
          "name": "stdout",
          "output_type": "stream",
          "text": [
            "Epoch 160/200 - Train Loss: 0.4814, Train Acc: 0.9853, Test Acc: 0.8958\n"
          ]
        },
        {
          "metadata": {
            "tags": null
          },
          "name": "stderr",
          "output_type": "stream",
          "text": [
            "Epoch 161/200 [Train]: 100%|██████████| 313/313 [00:20<00:00, 15.27it/s, acc=1.97, loss=0.481]\n",
            "Epoch 161/200 [Test]: 100%|██████████| 79/79 [00:02<00:00, 27.50it/s, acc=7.05, loss=0.528]\n"
          ]
        },
        {
          "metadata": {
            "tags": null
          },
          "name": "stdout",
          "output_type": "stream",
          "text": [
            "Epoch 161/200 - Train Loss: 0.4810, Train Acc: 0.9861, Test Acc: 0.8917\n"
          ]
        },
        {
          "metadata": {
            "tags": null
          },
          "name": "stderr",
          "output_type": "stream",
          "text": [
            "Epoch 162/200 [Train]: 100%|██████████| 313/313 [00:20<00:00, 15.03it/s, acc=1.97, loss=0.481]\n",
            "Epoch 162/200 [Test]: 100%|██████████| 79/79 [00:02<00:00, 33.49it/s, acc=7.07, loss=0.527]\n"
          ]
        },
        {
          "metadata": {
            "tags": null
          },
          "name": "stdout",
          "output_type": "stream",
          "text": [
            "Epoch 162/200 - Train Loss: 0.4806, Train Acc: 0.9869, Test Acc: 0.8935\n"
          ]
        },
        {
          "metadata": {
            "tags": null
          },
          "name": "stderr",
          "output_type": "stream",
          "text": [
            "Epoch 163/200 [Train]: 100%|██████████| 313/313 [00:20<00:00, 14.93it/s, acc=1.97, loss=0.48]\n",
            "Epoch 163/200 [Test]: 100%|██████████| 79/79 [00:02<00:00, 31.84it/s, acc=7.07, loss=0.527]\n"
          ]
        },
        {
          "metadata": {
            "tags": null
          },
          "name": "stdout",
          "output_type": "stream",
          "text": [
            "Epoch 163/200 - Train Loss: 0.4805, Train Acc: 0.9872, Test Acc: 0.8932\n"
          ]
        },
        {
          "metadata": {
            "tags": null
          },
          "name": "stderr",
          "output_type": "stream",
          "text": [
            "Epoch 164/200 [Train]: 100%|██████████| 313/313 [00:20<00:00, 15.24it/s, acc=1.97, loss=0.481]\n",
            "Epoch 164/200 [Test]: 100%|██████████| 79/79 [00:03<00:00, 24.71it/s, acc=7.06, loss=0.528]\n"
          ]
        },
        {
          "metadata": {
            "tags": null
          },
          "name": "stdout",
          "output_type": "stream",
          "text": [
            "Epoch 164/200 - Train Loss: 0.4812, Train Acc: 0.9858, Test Acc: 0.8929\n"
          ]
        },
        {
          "metadata": {
            "tags": null
          },
          "name": "stderr",
          "output_type": "stream",
          "text": [
            "Epoch 165/200 [Train]: 100%|██████████| 313/313 [00:20<00:00, 15.05it/s, acc=1.97, loss=0.482]\n",
            "Epoch 165/200 [Test]: 100%|██████████| 79/79 [00:02<00:00, 32.81it/s, acc=6.97, loss=0.534]\n"
          ]
        },
        {
          "metadata": {
            "tags": null
          },
          "name": "stdout",
          "output_type": "stream",
          "text": [
            "Epoch 165/200 - Train Loss: 0.4817, Train Acc: 0.9847, Test Acc: 0.8805\n"
          ]
        },
        {
          "metadata": {
            "tags": null
          },
          "name": "stderr",
          "output_type": "stream",
          "text": [
            "Epoch 166/200 [Train]: 100%|██████████| 313/313 [00:20<00:00, 14.92it/s, acc=1.97, loss=0.481]\n",
            "Epoch 166/200 [Test]: 100%|██████████| 79/79 [00:02<00:00, 34.16it/s, acc=7.04, loss=0.529]\n"
          ]
        },
        {
          "metadata": {
            "tags": null
          },
          "name": "stdout",
          "output_type": "stream",
          "text": [
            "Epoch 166/200 - Train Loss: 0.4807, Train Acc: 0.9867, Test Acc: 0.8900\n"
          ]
        },
        {
          "metadata": {
            "tags": null
          },
          "name": "stderr",
          "output_type": "stream",
          "text": [
            "Epoch 167/200 [Train]: 100%|██████████| 313/313 [00:20<00:00, 15.21it/s, acc=1.97, loss=0.481]\n",
            "Epoch 167/200 [Test]: 100%|██████████| 79/79 [00:03<00:00, 24.89it/s, acc=7.02, loss=0.531]\n"
          ]
        },
        {
          "metadata": {
            "tags": null
          },
          "name": "stdout",
          "output_type": "stream",
          "text": [
            "Epoch 167/200 - Train Loss: 0.4809, Train Acc: 0.9863, Test Acc: 0.8876\n"
          ]
        },
        {
          "metadata": {
            "tags": null
          },
          "name": "stderr",
          "output_type": "stream",
          "text": [
            "Epoch 168/200 [Train]: 100%|██████████| 313/313 [00:20<00:00, 15.27it/s, acc=1.97, loss=0.481]\n",
            "Epoch 168/200 [Test]: 100%|██████████| 79/79 [00:02<00:00, 32.74it/s, acc=7.05, loss=0.528]\n"
          ]
        },
        {
          "metadata": {
            "tags": null
          },
          "name": "stdout",
          "output_type": "stream",
          "text": [
            "Epoch 168/200 - Train Loss: 0.4809, Train Acc: 0.9863, Test Acc: 0.8915\n"
          ]
        },
        {
          "metadata": {
            "tags": null
          },
          "name": "stderr",
          "output_type": "stream",
          "text": [
            "Epoch 169/200 [Train]: 100%|██████████| 313/313 [00:20<00:00, 14.96it/s, acc=1.97, loss=0.48]\n",
            "Epoch 169/200 [Test]: 100%|██████████| 79/79 [00:02<00:00, 32.72it/s, acc=7.06, loss=0.527]\n"
          ]
        },
        {
          "metadata": {
            "tags": null
          },
          "name": "stdout",
          "output_type": "stream",
          "text": [
            "Epoch 169/200 - Train Loss: 0.4802, Train Acc: 0.9878, Test Acc: 0.8920\n"
          ]
        },
        {
          "metadata": {
            "tags": null
          },
          "name": "stderr",
          "output_type": "stream",
          "text": [
            "Epoch 170/200 [Train]: 100%|██████████| 313/313 [00:20<00:00, 15.04it/s, acc=1.97, loss=0.481]\n",
            "Epoch 170/200 [Test]: 100%|██████████| 79/79 [00:03<00:00, 22.07it/s, acc=7.06, loss=0.528]\n"
          ]
        },
        {
          "metadata": {
            "tags": null
          },
          "name": "stdout",
          "output_type": "stream",
          "text": [
            "Epoch 170/200 - Train Loss: 0.4806, Train Acc: 0.9870, Test Acc: 0.8929\n"
          ]
        },
        {
          "metadata": {
            "tags": null
          },
          "name": "stderr",
          "output_type": "stream",
          "text": [
            "Epoch 171/200 [Train]: 100%|██████████| 313/313 [00:20<00:00, 15.05it/s, acc=1.97, loss=0.48]\n",
            "Epoch 171/200 [Test]: 100%|██████████| 79/79 [00:02<00:00, 33.23it/s, acc=7.06, loss=0.528]\n"
          ]
        },
        {
          "metadata": {
            "tags": null
          },
          "name": "stdout",
          "output_type": "stream",
          "text": [
            "Epoch 171/200 - Train Loss: 0.4803, Train Acc: 0.9875, Test Acc: 0.8918\n"
          ]
        },
        {
          "metadata": {
            "tags": null
          },
          "name": "stderr",
          "output_type": "stream",
          "text": [
            "Epoch 172/200 [Train]: 100%|██████████| 313/313 [00:21<00:00, 14.73it/s, acc=1.97, loss=0.48]\n",
            "Epoch 172/200 [Test]: 100%|██████████| 79/79 [00:02<00:00, 32.03it/s, acc=7.06, loss=0.527]\n"
          ]
        },
        {
          "metadata": {
            "tags": null
          },
          "name": "stdout",
          "output_type": "stream",
          "text": [
            "Epoch 172/200 - Train Loss: 0.4801, Train Acc: 0.9879, Test Acc: 0.8926\n"
          ]
        },
        {
          "output_type": "stream",
          "name": "stderr",
          "text": [
            "Epoch 173/200 [Train]: 100%|██████████| 313/313 [00:20<00:00, 15.35it/s, acc=1.97, loss=0.48]\n",
            "Epoch 173/200 [Test]: 100%|██████████| 79/79 [00:03<00:00, 23.88it/s, acc=7.07, loss=0.528]\n"
          ]
        },
        {
          "output_type": "stream",
          "name": "stdout",
          "text": [
            "Epoch 173/200 - Train Loss: 0.4800, Train Acc: 0.9882, Test Acc: 0.8935\n"
          ]
        },
        {
          "output_type": "stream",
          "name": "stderr",
          "text": [
            "Epoch 174/200 [Train]: 100%|██████████| 313/313 [00:21<00:00, 14.79it/s, acc=1.97, loss=0.48]\n",
            "Epoch 174/200 [Test]: 100%|██████████| 79/79 [00:02<00:00, 32.55it/s, acc=7.04, loss=0.529]\n"
          ]
        },
        {
          "output_type": "stream",
          "name": "stdout",
          "text": [
            "Epoch 174/200 - Train Loss: 0.4799, Train Acc: 0.9883, Test Acc: 0.8898\n"
          ]
        },
        {
          "output_type": "stream",
          "name": "stderr",
          "text": [
            "Epoch 175/200 [Train]: 100%|██████████| 313/313 [00:21<00:00, 14.61it/s, acc=1.97, loss=0.48]\n",
            "Epoch 175/200 [Test]: 100%|██████████| 79/79 [00:02<00:00, 32.02it/s, acc=7.05, loss=0.528]\n"
          ]
        },
        {
          "output_type": "stream",
          "name": "stdout",
          "text": [
            "Epoch 175/200 - Train Loss: 0.4800, Train Acc: 0.9882, Test Acc: 0.8917\n"
          ]
        },
        {
          "output_type": "stream",
          "name": "stderr",
          "text": [
            "Epoch 176/200 [Train]: 100%|██████████| 313/313 [00:21<00:00, 14.87it/s, acc=1.97, loss=0.48]\n",
            "Epoch 176/200 [Test]: 100%|██████████| 79/79 [00:03<00:00, 25.09it/s, acc=7.06, loss=0.528]\n"
          ]
        },
        {
          "output_type": "stream",
          "name": "stdout",
          "text": [
            "Epoch 176/200 - Train Loss: 0.4799, Train Acc: 0.9883, Test Acc: 0.8918\n"
          ]
        },
        {
          "output_type": "stream",
          "name": "stderr",
          "text": [
            "Epoch 177/200 [Train]: 100%|██████████| 313/313 [00:20<00:00, 14.94it/s, acc=1.97, loss=0.48]\n",
            "Epoch 177/200 [Test]: 100%|██████████| 79/79 [00:02<00:00, 30.74it/s, acc=7.06, loss=0.529]\n"
          ]
        },
        {
          "output_type": "stream",
          "name": "stdout",
          "text": [
            "Epoch 177/200 - Train Loss: 0.4799, Train Acc: 0.9883, Test Acc: 0.8918\n"
          ]
        },
        {
          "output_type": "stream",
          "name": "stderr",
          "text": [
            "Epoch 178/200 [Train]: 100%|██████████| 313/313 [00:21<00:00, 14.66it/s, acc=1.97, loss=0.48]\n",
            "Epoch 178/200 [Test]: 100%|██████████| 79/79 [00:02<00:00, 28.99it/s, acc=7.06, loss=0.528]\n"
          ]
        },
        {
          "output_type": "stream",
          "name": "stdout",
          "text": [
            "Epoch 178/200 - Train Loss: 0.4799, Train Acc: 0.9883, Test Acc: 0.8918\n"
          ]
        },
        {
          "output_type": "stream",
          "name": "stderr",
          "text": [
            "Epoch 179/200 [Train]: 100%|██████████| 313/313 [00:21<00:00, 14.63it/s, acc=1.97, loss=0.481]\n",
            "Epoch 179/200 [Test]: 100%|██████████| 79/79 [00:02<00:00, 31.14it/s, acc=7.02, loss=0.531]\n"
          ]
        },
        {
          "output_type": "stream",
          "name": "stdout",
          "text": [
            "Epoch 179/200 - Train Loss: 0.4806, Train Acc: 0.9870, Test Acc: 0.8874\n"
          ]
        },
        {
          "output_type": "stream",
          "name": "stderr",
          "text": [
            "Epoch 180/200 [Train]: 100%|██████████| 313/313 [00:20<00:00, 15.06it/s, acc=1.97, loss=0.482]\n",
            "Epoch 180/200 [Test]: 100%|██████████| 79/79 [00:02<00:00, 27.36it/s, acc=7.04, loss=0.53]\n"
          ]
        },
        {
          "output_type": "stream",
          "name": "stdout",
          "text": [
            "Epoch 180/200 - Train Loss: 0.4816, Train Acc: 0.9850, Test Acc: 0.8901\n"
          ]
        },
        {
          "output_type": "stream",
          "name": "stderr",
          "text": [
            "Epoch 181/200 [Train]: 100%|██████████| 313/313 [00:21<00:00, 14.90it/s, acc=1.97, loss=0.481]\n",
            "Epoch 181/200 [Test]: 100%|██████████| 79/79 [00:02<00:00, 31.63it/s, acc=7.04, loss=0.529]\n"
          ]
        },
        {
          "output_type": "stream",
          "name": "stdout",
          "text": [
            "Epoch 181/200 - Train Loss: 0.4808, Train Acc: 0.9866, Test Acc: 0.8893\n"
          ]
        },
        {
          "output_type": "stream",
          "name": "stderr",
          "text": [
            "Epoch 182/200 [Train]: 100%|██████████| 313/313 [00:22<00:00, 14.15it/s, acc=1.97, loss=0.481]\n",
            "Epoch 182/200 [Test]: 100%|██████████| 79/79 [00:02<00:00, 30.19it/s, acc=7.04, loss=0.53]\n"
          ]
        },
        {
          "output_type": "stream",
          "name": "stdout",
          "text": [
            "Epoch 182/200 - Train Loss: 0.4807, Train Acc: 0.9867, Test Acc: 0.8893\n"
          ]
        },
        {
          "output_type": "stream",
          "name": "stderr",
          "text": [
            "Epoch 183/200 [Train]: 100%|██████████| 313/313 [00:21<00:00, 14.89it/s, acc=1.97, loss=0.481]\n",
            "Epoch 183/200 [Test]: 100%|██████████| 79/79 [00:03<00:00, 24.09it/s, acc=7.06, loss=0.528]\n"
          ]
        },
        {
          "output_type": "stream",
          "name": "stdout",
          "text": [
            "Epoch 183/200 - Train Loss: 0.4806, Train Acc: 0.9870, Test Acc: 0.8922\n"
          ]
        },
        {
          "output_type": "stream",
          "name": "stderr",
          "text": [
            "Epoch 184/200 [Train]: 100%|██████████| 313/313 [00:21<00:00, 14.54it/s, acc=1.97, loss=0.48]\n",
            "Epoch 184/200 [Test]: 100%|██████████| 79/79 [00:02<00:00, 31.81it/s, acc=7.05, loss=0.529]\n"
          ]
        },
        {
          "output_type": "stream",
          "name": "stdout",
          "text": [
            "Epoch 184/200 - Train Loss: 0.4804, Train Acc: 0.9872, Test Acc: 0.8915\n"
          ]
        },
        {
          "output_type": "stream",
          "name": "stderr",
          "text": [
            "Epoch 185/200 [Train]: 100%|██████████| 313/313 [00:21<00:00, 14.55it/s, acc=1.97, loss=0.48]\n",
            "Epoch 185/200 [Test]: 100%|██████████| 79/79 [00:02<00:00, 29.10it/s, acc=7.05, loss=0.529]\n"
          ]
        },
        {
          "output_type": "stream",
          "name": "stdout",
          "text": [
            "Epoch 185/200 - Train Loss: 0.4802, Train Acc: 0.9878, Test Acc: 0.8914\n"
          ]
        },
        {
          "output_type": "stream",
          "name": "stderr",
          "text": [
            "Epoch 186/200 [Train]: 100%|██████████| 313/313 [00:21<00:00, 14.78it/s, acc=1.97, loss=0.48]\n",
            "Epoch 186/200 [Test]: 100%|██████████| 79/79 [00:02<00:00, 26.39it/s, acc=7.07, loss=0.527]\n"
          ]
        },
        {
          "output_type": "stream",
          "name": "stdout",
          "text": [
            "Epoch 186/200 - Train Loss: 0.4803, Train Acc: 0.9875, Test Acc: 0.8932\n"
          ]
        },
        {
          "output_type": "stream",
          "name": "stderr",
          "text": [
            "Epoch 187/200 [Train]: 100%|██████████| 313/313 [00:20<00:00, 15.03it/s, acc=1.97, loss=0.48]\n",
            "Epoch 187/200 [Test]: 100%|██████████| 79/79 [00:02<00:00, 30.09it/s, acc=7, loss=0.531]\n"
          ]
        },
        {
          "output_type": "stream",
          "name": "stdout",
          "text": [
            "Epoch 187/200 - Train Loss: 0.4803, Train Acc: 0.9876, Test Acc: 0.8852\n"
          ]
        },
        {
          "output_type": "stream",
          "name": "stderr",
          "text": [
            "Epoch 188/200 [Train]: 100%|██████████| 313/313 [00:21<00:00, 14.76it/s, acc=1.97, loss=0.48]\n",
            "Epoch 188/200 [Test]: 100%|██████████| 79/79 [00:02<00:00, 31.68it/s, acc=7.06, loss=0.527]\n"
          ]
        },
        {
          "output_type": "stream",
          "name": "stdout",
          "text": [
            "Epoch 188/200 - Train Loss: 0.4801, Train Acc: 0.9879, Test Acc: 0.8930\n"
          ]
        },
        {
          "output_type": "stream",
          "name": "stderr",
          "text": [
            "Epoch 189/200 [Train]: 100%|██████████| 313/313 [00:21<00:00, 14.65it/s, acc=1.97, loss=0.48]\n",
            "Epoch 189/200 [Test]: 100%|██████████| 79/79 [00:02<00:00, 29.83it/s, acc=7.07, loss=0.528]\n"
          ]
        },
        {
          "output_type": "stream",
          "name": "stdout",
          "text": [
            "Epoch 189/200 - Train Loss: 0.4801, Train Acc: 0.9880, Test Acc: 0.8934\n"
          ]
        },
        {
          "output_type": "stream",
          "name": "stderr",
          "text": [
            "Epoch 190/200 [Train]: 100%|██████████| 313/313 [00:20<00:00, 14.99it/s, acc=1.97, loss=0.48]\n",
            "Epoch 190/200 [Test]: 100%|██████████| 79/79 [00:03<00:00, 26.13it/s, acc=7.07, loss=0.526]\n"
          ]
        },
        {
          "output_type": "stream",
          "name": "stdout",
          "text": [
            "Epoch 190/200 - Train Loss: 0.4801, Train Acc: 0.9879, Test Acc: 0.8938\n"
          ]
        },
        {
          "output_type": "stream",
          "name": "stderr",
          "text": [
            "Epoch 191/200 [Train]: 100%|██████████| 313/313 [00:21<00:00, 14.87it/s, acc=1.97, loss=0.481]\n",
            "Epoch 191/200 [Test]: 100%|██████████| 79/79 [00:02<00:00, 30.32it/s, acc=7.07, loss=0.527]\n"
          ]
        },
        {
          "output_type": "stream",
          "name": "stdout",
          "text": [
            "Epoch 191/200 - Train Loss: 0.4806, Train Acc: 0.9869, Test Acc: 0.8939\n"
          ]
        },
        {
          "output_type": "stream",
          "name": "stderr",
          "text": [
            "Epoch 192/200 [Train]: 100%|██████████| 313/313 [00:21<00:00, 14.57it/s, acc=1.97, loss=0.48]\n",
            "Epoch 192/200 [Test]: 100%|██████████| 79/79 [00:02<00:00, 31.51it/s, acc=7.07, loss=0.527]\n"
          ]
        },
        {
          "output_type": "stream",
          "name": "stdout",
          "text": [
            "Epoch 192/200 - Train Loss: 0.4802, Train Acc: 0.9878, Test Acc: 0.8931\n"
          ]
        },
        {
          "output_type": "stream",
          "name": "stderr",
          "text": [
            "Epoch 193/200 [Train]: 100%|██████████| 313/313 [00:20<00:00, 15.02it/s, acc=1.97, loss=0.48]\n",
            "Epoch 193/200 [Test]: 100%|██████████| 79/79 [00:03<00:00, 26.02it/s, acc=7.06, loss=0.528]\n"
          ]
        },
        {
          "output_type": "stream",
          "name": "stdout",
          "text": [
            "Epoch 193/200 - Train Loss: 0.4801, Train Acc: 0.9879, Test Acc: 0.8922\n"
          ]
        },
        {
          "output_type": "stream",
          "name": "stderr",
          "text": [
            "Epoch 194/200 [Train]: 100%|██████████| 313/313 [00:21<00:00, 14.80it/s, acc=1.97, loss=0.48]\n",
            "Epoch 194/200 [Test]: 100%|██████████| 79/79 [00:02<00:00, 31.74it/s, acc=7.05, loss=0.528]\n"
          ]
        },
        {
          "output_type": "stream",
          "name": "stdout",
          "text": [
            "Epoch 194/200 - Train Loss: 0.4801, Train Acc: 0.9880, Test Acc: 0.8908\n"
          ]
        },
        {
          "output_type": "stream",
          "name": "stderr",
          "text": [
            "Epoch 195/200 [Train]: 100%|██████████| 313/313 [00:21<00:00, 14.67it/s, acc=1.97, loss=0.48]\n",
            "Epoch 195/200 [Test]: 100%|██████████| 79/79 [00:02<00:00, 31.51it/s, acc=7.06, loss=0.527]\n"
          ]
        },
        {
          "output_type": "stream",
          "name": "stdout",
          "text": [
            "Epoch 195/200 - Train Loss: 0.4804, Train Acc: 0.9873, Test Acc: 0.8926\n"
          ]
        },
        {
          "output_type": "stream",
          "name": "stderr",
          "text": [
            "Epoch 196/200 [Train]: 100%|██████████| 313/313 [00:20<00:00, 15.00it/s, acc=1.97, loss=0.48]\n",
            "Epoch 196/200 [Test]: 100%|██████████| 79/79 [00:03<00:00, 23.81it/s, acc=7.09, loss=0.527]\n"
          ]
        },
        {
          "output_type": "stream",
          "name": "stdout",
          "text": [
            "Epoch 196/200 - Train Loss: 0.4802, Train Acc: 0.9877, Test Acc: 0.8958\n"
          ]
        },
        {
          "output_type": "stream",
          "name": "stderr",
          "text": [
            "Epoch 197/200 [Train]: 100%|██████████| 313/313 [00:21<00:00, 14.50it/s, acc=1.97, loss=0.48]\n",
            "Epoch 197/200 [Test]: 100%|██████████| 79/79 [00:02<00:00, 30.15it/s, acc=7.06, loss=0.529]\n"
          ]
        },
        {
          "output_type": "stream",
          "name": "stdout",
          "text": [
            "Epoch 197/200 - Train Loss: 0.4800, Train Acc: 0.9880, Test Acc: 0.8927\n"
          ]
        },
        {
          "output_type": "stream",
          "name": "stderr",
          "text": [
            "Epoch 198/200 [Train]: 100%|██████████| 313/313 [00:21<00:00, 14.64it/s, acc=1.97, loss=0.48]\n",
            "Epoch 198/200 [Test]: 100%|██████████| 79/79 [00:02<00:00, 31.68it/s, acc=7.07, loss=0.528]\n"
          ]
        },
        {
          "output_type": "stream",
          "name": "stdout",
          "text": [
            "Epoch 198/200 - Train Loss: 0.4802, Train Acc: 0.9879, Test Acc: 0.8938\n"
          ]
        },
        {
          "output_type": "stream",
          "name": "stderr",
          "text": [
            "Epoch 199/200 [Train]: 100%|██████████| 313/313 [00:21<00:00, 14.61it/s, acc=1.97, loss=0.48]\n",
            "Epoch 199/200 [Test]: 100%|██████████| 79/79 [00:03<00:00, 25.24it/s, acc=7.09, loss=0.527]\n"
          ]
        },
        {
          "output_type": "stream",
          "name": "stdout",
          "text": [
            "Epoch 199/200 - Train Loss: 0.4799, Train Acc: 0.9884, Test Acc: 0.8961\n"
          ]
        },
        {
          "output_type": "stream",
          "name": "stderr",
          "text": [
            "Epoch 200/200 [Train]: 100%|██████████| 313/313 [00:20<00:00, 14.98it/s, acc=1.97, loss=0.48]\n",
            "Epoch 200/200 [Test]: 100%|██████████| 79/79 [00:02<00:00, 31.60it/s, acc=7.09, loss=0.526]\n"
          ]
        },
        {
          "output_type": "stream",
          "name": "stdout",
          "text": [
            "Epoch 200/200 - Train Loss: 0.4800, Train Acc: 0.9881, Test Acc: 0.8959\n"
          ]
        },
        {
          "output_type": "display_data",
          "data": {
            "text/plain": [
              "<Figure size 1200x600 with 2 Axes>"
            ],
            "image/png": "[encoded data removed]"
          },
          "metadata": {}
        }
      ]
    }
  ]
}