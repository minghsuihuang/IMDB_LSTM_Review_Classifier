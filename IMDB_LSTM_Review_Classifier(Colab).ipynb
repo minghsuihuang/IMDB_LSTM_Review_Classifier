{
  "nbformat": 4,
  "nbformat_minor": 0,
  "metadata": {
    "colab": {
      "provenance": [],
      "gpuType": "T4"
    },
    "kernelspec": {
      "name": "python3",
      "display_name": "Python 3"
    },
    "language_info": {
      "name": "python"
    },
    "accelerator": "GPU"
  },
  "cells": [
    {
      "cell_type": "code",
      "source": [
        "from google.colab import drive\n",
        "drive.mount('/content/drive')\n"
      ],
      "metadata": {
        "colab": {
          "base_uri": "https://localhost:8080/"
        },
        "id": "ZrO1Bc8ke3_p",
        "outputId": "e183d994-eab5-4615-b231-7db000a76cde"
      },
      "execution_count": 1,
      "outputs": [
        {
          "output_type": "stream",
          "name": "stdout",
          "text": [
            "Mounted at /content/drive\n"
          ]
        }
      ]
    },
    {
      "cell_type": "code",
      "source": [
        "!gdown --id 1FJ02rEvYdXqWEOx4td6iEyIwVS6dBw1J"
      ],
      "metadata": {
        "colab": {
          "base_uri": "https://localhost:8080/"
        },
        "id": "nVvLZn0NTOFh",
        "outputId": "f6dafbe2-c806-4801-bb63-c9693dc76272"
      },
      "execution_count": 4,
      "outputs": [
        {
          "output_type": "stream",
          "name": "stdout",
          "text": [
            "/usr/local/lib/python3.10/dist-packages/gdown/cli.py:121: FutureWarning: Option `--id` was deprecated in version 4.3.1 and will be removed in 5.0. You don't need to pass it anymore to use a file ID.\n",
            "  warnings.warn(\n",
            "Downloading...\n",
            "From: https://drive.google.com/uc?id=1FJ02rEvYdXqWEOx4td6iEyIwVS6dBw1J\n",
            "To: /content/IMDB Dataset.csv\n",
            "100% 66.2M/66.2M [00:00<00:00, 91.8MB/s]\n"
          ]
        }
      ]
    },
    {
      "cell_type": "code",
      "execution_count": 7,
      "metadata": {
        "colab": {
          "base_uri": "https://localhost:8080/",
          "height": 1000
        },
        "id": "cNB5ijAWR9l7",
        "outputId": "21917581-3763-45cd-8fbe-c66b248796a7"
      },
      "outputs": [
        {
          "output_type": "stream",
          "name": "stderr",
          "text": [
            "Epoch 1/60 [Train]: 100%|██████████| 313/313 [00:21<00:00, 14.45it/s, acc=0.997, loss=0.693]\n",
            "Epoch 1/60 [Test]: 100%|██████████| 79/79 [00:02<00:00, 33.21it/s, acc=3.98, loss=0.693]\n"
          ]
        },
        {
          "output_type": "stream",
          "name": "stdout",
          "text": [
            "Epoch 1/60 - Train Loss: 0.6932, Train Acc: 0.4991, Test Acc: 0.5026\n",
            "Model saved with accuracy: 0.5026\n"
          ]
        },
        {
          "output_type": "stream",
          "name": "stderr",
          "text": [
            "Epoch 2/60 [Train]: 100%|██████████| 313/313 [00:19<00:00, 15.68it/s, acc=0.997, loss=0.693]\n",
            "Epoch 2/60 [Test]: 100%|██████████| 79/79 [00:02<00:00, 26.85it/s, acc=3.98, loss=0.693]\n"
          ]
        },
        {
          "output_type": "stream",
          "name": "stdout",
          "text": [
            "Epoch 2/60 - Train Loss: 0.6931, Train Acc: 0.4994, Test Acc: 0.5026\n"
          ]
        },
        {
          "output_type": "stream",
          "name": "stderr",
          "text": [
            "Epoch 3/60 [Train]: 100%|██████████| 313/313 [00:19<00:00, 15.72it/s, acc=1.11, loss=0.678]\n",
            "Epoch 3/60 [Test]: 100%|██████████| 79/79 [00:02<00:00, 34.16it/s, acc=4.6, loss=0.678]\n"
          ]
        },
        {
          "output_type": "stream",
          "name": "stdout",
          "text": [
            "Epoch 3/60 - Train Loss: 0.6776, Train Acc: 0.5572, Test Acc: 0.5814\n",
            "Model saved with accuracy: 0.5814\n"
          ]
        },
        {
          "output_type": "stream",
          "name": "stderr",
          "text": [
            "Epoch 4/60 [Train]: 100%|██████████| 313/313 [00:21<00:00, 14.83it/s, acc=1.5, loss=0.597]\n",
            "Epoch 4/60 [Test]: 100%|██████████| 79/79 [00:02<00:00, 33.97it/s, acc=6.43, loss=0.567]\n"
          ]
        },
        {
          "output_type": "stream",
          "name": "stdout",
          "text": [
            "Epoch 4/60 - Train Loss: 0.5967, Train Acc: 0.7516, Test Acc: 0.8129\n",
            "Model saved with accuracy: 0.8129\n"
          ]
        },
        {
          "output_type": "stream",
          "name": "stderr",
          "text": [
            "Epoch 5/60 [Train]: 100%|██████████| 313/313 [00:21<00:00, 14.27it/s, acc=1.65, loss=0.56]\n",
            "Epoch 5/60 [Test]: 100%|██████████| 79/79 [00:02<00:00, 26.90it/s, acc=6.19, loss=0.582]\n"
          ]
        },
        {
          "output_type": "stream",
          "name": "stdout",
          "text": [
            "Epoch 5/60 - Train Loss: 0.5596, Train Acc: 0.8272, Test Acc: 0.7829\n"
          ]
        },
        {
          "output_type": "stream",
          "name": "stderr",
          "text": [
            "Epoch 6/60 [Train]: 100%|██████████| 313/313 [00:20<00:00, 15.02it/s, acc=1.72, loss=0.544]\n",
            "Epoch 6/60 [Test]: 100%|██████████| 79/79 [00:02<00:00, 34.79it/s, acc=6.75, loss=0.548]\n"
          ]
        },
        {
          "output_type": "stream",
          "name": "stdout",
          "text": [
            "Epoch 6/60 - Train Loss: 0.5436, Train Acc: 0.8601, Test Acc: 0.8532\n",
            "Model saved with accuracy: 0.8532\n"
          ]
        },
        {
          "output_type": "stream",
          "name": "stderr",
          "text": [
            "Epoch 7/60 [Train]: 100%|██████████| 313/313 [00:20<00:00, 15.05it/s, acc=1.76, loss=0.534]\n",
            "Epoch 7/60 [Test]: 100%|██████████| 79/79 [00:03<00:00, 26.32it/s, acc=6.69, loss=0.55]\n"
          ]
        },
        {
          "output_type": "stream",
          "name": "stdout",
          "text": [
            "Epoch 7/60 - Train Loss: 0.5340, Train Acc: 0.8798, Test Acc: 0.8450\n"
          ]
        },
        {
          "output_type": "stream",
          "name": "stderr",
          "text": [
            "Epoch 8/60 [Train]: 100%|██████████| 313/313 [00:20<00:00, 15.25it/s, acc=1.76, loss=0.532]\n",
            "Epoch 8/60 [Test]: 100%|██████████| 79/79 [00:02<00:00, 35.33it/s, acc=6.84, loss=0.541]\n"
          ]
        },
        {
          "output_type": "stream",
          "name": "stdout",
          "text": [
            "Epoch 8/60 - Train Loss: 0.5321, Train Acc: 0.8838, Test Acc: 0.8644\n",
            "Model saved with accuracy: 0.8644\n"
          ]
        },
        {
          "output_type": "stream",
          "name": "stderr",
          "text": [
            "Epoch 9/60 [Train]: 100%|██████████| 313/313 [00:21<00:00, 14.71it/s, acc=1.8, loss=0.523]\n",
            "Epoch 9/60 [Test]: 100%|██████████| 79/79 [00:02<00:00, 35.38it/s, acc=6.89, loss=0.538]\n"
          ]
        },
        {
          "output_type": "stream",
          "name": "stdout",
          "text": [
            "Epoch 9/60 - Train Loss: 0.5235, Train Acc: 0.9012, Test Acc: 0.8708\n",
            "Model saved with accuracy: 0.8708\n"
          ]
        },
        {
          "output_type": "stream",
          "name": "stderr",
          "text": [
            "Epoch 10/60 [Train]: 100%|██████████| 313/313 [00:20<00:00, 15.42it/s, acc=1.82, loss=0.518]\n",
            "Epoch 10/60 [Test]: 100%|██████████| 79/79 [00:02<00:00, 32.74it/s, acc=6.9, loss=0.539]\n"
          ]
        },
        {
          "output_type": "stream",
          "name": "stdout",
          "text": [
            "Epoch 10/60 - Train Loss: 0.5176, Train Acc: 0.9132, Test Acc: 0.8716\n",
            "Model saved with accuracy: 0.8716\n"
          ]
        },
        {
          "output_type": "stream",
          "name": "stderr",
          "text": [
            "Epoch 11/60 [Train]: 100%|██████████| 313/313 [00:20<00:00, 14.99it/s, acc=1.82, loss=0.517]\n",
            "Epoch 11/60 [Test]: 100%|██████████| 79/79 [00:02<00:00, 35.42it/s, acc=6.92, loss=0.537]\n"
          ]
        },
        {
          "output_type": "stream",
          "name": "stdout",
          "text": [
            "Epoch 11/60 - Train Loss: 0.5174, Train Acc: 0.9128, Test Acc: 0.8742\n",
            "Model saved with accuracy: 0.8742\n"
          ]
        },
        {
          "output_type": "stream",
          "name": "stderr",
          "text": [
            "Epoch 12/60 [Train]: 100%|██████████| 313/313 [00:20<00:00, 15.02it/s, acc=1.83, loss=0.515]\n",
            "Epoch 12/60 [Test]: 100%|██████████| 79/79 [00:03<00:00, 25.31it/s, acc=6.89, loss=0.539]\n"
          ]
        },
        {
          "output_type": "stream",
          "name": "stdout",
          "text": [
            "Epoch 12/60 - Train Loss: 0.5152, Train Acc: 0.9177, Test Acc: 0.8707\n"
          ]
        },
        {
          "output_type": "stream",
          "name": "stderr",
          "text": [
            "Epoch 13/60 [Train]: 100%|██████████| 313/313 [00:20<00:00, 15.14it/s, acc=1.83, loss=0.515]\n",
            "Epoch 13/60 [Test]: 100%|██████████| 79/79 [00:02<00:00, 34.75it/s, acc=6.9, loss=0.537]\n"
          ]
        },
        {
          "output_type": "stream",
          "name": "stdout",
          "text": [
            "Epoch 13/60 - Train Loss: 0.5151, Train Acc: 0.9174, Test Acc: 0.8717\n"
          ]
        },
        {
          "output_type": "stream",
          "name": "stderr",
          "text": [
            "Epoch 14/60 [Train]: 100%|██████████| 313/313 [00:20<00:00, 15.06it/s, acc=1.84, loss=0.512]\n",
            "Epoch 14/60 [Test]: 100%|██████████| 79/79 [00:02<00:00, 30.31it/s, acc=6.93, loss=0.536]\n"
          ]
        },
        {
          "output_type": "stream",
          "name": "stdout",
          "text": [
            "Epoch 14/60 - Train Loss: 0.5121, Train Acc: 0.9234, Test Acc: 0.8757\n",
            "Model saved with accuracy: 0.8757\n"
          ]
        },
        {
          "output_type": "stream",
          "name": "stderr",
          "text": [
            "Epoch 15/60 [Train]: 100%|██████████| 313/313 [00:20<00:00, 15.19it/s, acc=1.87, loss=0.506]\n",
            "Epoch 15/60 [Test]: 100%|██████████| 79/79 [00:02<00:00, 35.35it/s, acc=6.98, loss=0.531]\n"
          ]
        },
        {
          "output_type": "stream",
          "name": "stdout",
          "text": [
            "Epoch 15/60 - Train Loss: 0.5062, Train Acc: 0.9356, Test Acc: 0.8826\n",
            "Model saved with accuracy: 0.8826\n"
          ]
        },
        {
          "output_type": "stream",
          "name": "stderr",
          "text": [
            "Epoch 16/60 [Train]: 100%|██████████| 313/313 [00:21<00:00, 14.54it/s, acc=1.88, loss=0.504]\n",
            "Epoch 16/60 [Test]: 100%|██████████| 79/79 [00:02<00:00, 32.76it/s, acc=6.98, loss=0.532]\n"
          ]
        },
        {
          "output_type": "stream",
          "name": "stdout",
          "text": [
            "Epoch 16/60 - Train Loss: 0.5041, Train Acc: 0.9396, Test Acc: 0.8828\n",
            "Model saved with accuracy: 0.8828\n"
          ]
        },
        {
          "output_type": "stream",
          "name": "stderr",
          "text": [
            "Epoch 17/60 [Train]: 100%|██████████| 313/313 [00:20<00:00, 15.34it/s, acc=1.88, loss=0.502]\n",
            "Epoch 17/60 [Test]: 100%|██████████| 79/79 [00:02<00:00, 35.46it/s, acc=6.92, loss=0.536]\n"
          ]
        },
        {
          "output_type": "stream",
          "name": "stdout",
          "text": [
            "Epoch 17/60 - Train Loss: 0.5024, Train Acc: 0.9432, Test Acc: 0.8749\n"
          ]
        },
        {
          "output_type": "stream",
          "name": "stderr",
          "text": [
            "Epoch 18/60 [Train]: 100%|██████████| 313/313 [00:20<00:00, 14.93it/s, acc=1.89, loss=0.501]\n",
            "Epoch 18/60 [Test]: 100%|██████████| 79/79 [00:02<00:00, 34.93it/s, acc=6.99, loss=0.532]\n"
          ]
        },
        {
          "output_type": "stream",
          "name": "stdout",
          "text": [
            "Epoch 18/60 - Train Loss: 0.5010, Train Acc: 0.9459, Test Acc: 0.8830\n",
            "Model saved with accuracy: 0.8830\n"
          ]
        },
        {
          "output_type": "stream",
          "name": "stderr",
          "text": [
            "Epoch 19/60 [Train]: 100%|██████████| 313/313 [00:20<00:00, 15.47it/s, acc=1.9, loss=0.499]\n",
            "Epoch 19/60 [Test]: 100%|██████████| 79/79 [00:02<00:00, 30.03it/s, acc=6.96, loss=0.535]\n"
          ]
        },
        {
          "output_type": "stream",
          "name": "stdout",
          "text": [
            "Epoch 19/60 - Train Loss: 0.4989, Train Acc: 0.9501, Test Acc: 0.8795\n"
          ]
        },
        {
          "output_type": "stream",
          "name": "stderr",
          "text": [
            "Epoch 20/60 [Train]: 100%|██████████| 313/313 [00:20<00:00, 15.30it/s, acc=1.9, loss=0.498]\n",
            "Epoch 20/60 [Test]: 100%|██████████| 79/79 [00:02<00:00, 35.57it/s, acc=6.97, loss=0.532]\n"
          ]
        },
        {
          "output_type": "stream",
          "name": "stdout",
          "text": [
            "Epoch 20/60 - Train Loss: 0.4983, Train Acc: 0.9515, Test Acc: 0.8816\n"
          ]
        },
        {
          "output_type": "stream",
          "name": "stderr",
          "text": [
            "Epoch 21/60 [Train]: 100%|██████████| 313/313 [00:19<00:00, 15.68it/s, acc=1.88, loss=0.502]\n",
            "Epoch 21/60 [Test]: 100%|██████████| 79/79 [00:03<00:00, 25.45it/s, acc=6.95, loss=0.534]\n"
          ]
        },
        {
          "output_type": "stream",
          "name": "stdout",
          "text": [
            "Epoch 21/60 - Train Loss: 0.5019, Train Acc: 0.9438, Test Acc: 0.8788\n"
          ]
        },
        {
          "output_type": "stream",
          "name": "stderr",
          "text": [
            "Epoch 22/60 [Train]: 100%|██████████| 313/313 [00:20<00:00, 15.44it/s, acc=1.9, loss=0.498]\n",
            "Epoch 22/60 [Test]: 100%|██████████| 79/79 [00:02<00:00, 35.22it/s, acc=7.01, loss=0.531]\n"
          ]
        },
        {
          "output_type": "stream",
          "name": "stdout",
          "text": [
            "Epoch 22/60 - Train Loss: 0.4980, Train Acc: 0.9521, Test Acc: 0.8857\n",
            "Model saved with accuracy: 0.8857\n"
          ]
        },
        {
          "output_type": "stream",
          "name": "stderr",
          "text": [
            "Epoch 23/60 [Train]: 100%|██████████| 313/313 [00:20<00:00, 15.39it/s, acc=1.91, loss=0.496]\n",
            "Epoch 23/60 [Test]: 100%|██████████| 79/79 [00:03<00:00, 26.30it/s, acc=6.96, loss=0.533]\n"
          ]
        },
        {
          "output_type": "stream",
          "name": "stdout",
          "text": [
            "Epoch 23/60 - Train Loss: 0.4962, Train Acc: 0.9557, Test Acc: 0.8793\n"
          ]
        },
        {
          "output_type": "stream",
          "name": "stderr",
          "text": [
            "Epoch 24/60 [Train]: 100%|██████████| 313/313 [00:19<00:00, 15.78it/s, acc=1.91, loss=0.496]\n",
            "Epoch 24/60 [Test]: 100%|██████████| 79/79 [00:02<00:00, 35.75it/s, acc=7, loss=0.532]\n"
          ]
        },
        {
          "output_type": "stream",
          "name": "stdout",
          "text": [
            "Epoch 24/60 - Train Loss: 0.4957, Train Acc: 0.9564, Test Acc: 0.8851\n"
          ]
        },
        {
          "output_type": "stream",
          "name": "stderr",
          "text": [
            "Epoch 25/60 [Train]: 100%|██████████| 313/313 [00:20<00:00, 15.09it/s, acc=1.91, loss=0.495]\n",
            "Epoch 25/60 [Test]: 100%|██████████| 79/79 [00:02<00:00, 31.28it/s, acc=6.97, loss=0.532]\n"
          ]
        },
        {
          "output_type": "stream",
          "name": "stdout",
          "text": [
            "Epoch 25/60 - Train Loss: 0.4947, Train Acc: 0.9588, Test Acc: 0.8814\n"
          ]
        },
        {
          "output_type": "stream",
          "name": "stderr",
          "text": [
            "Epoch 26/60 [Train]: 100%|██████████| 313/313 [00:19<00:00, 15.66it/s, acc=1.91, loss=0.496]\n",
            "Epoch 26/60 [Test]: 100%|██████████| 79/79 [00:02<00:00, 35.78it/s, acc=6.97, loss=0.533]\n"
          ]
        },
        {
          "output_type": "stream",
          "name": "stdout",
          "text": [
            "Epoch 26/60 - Train Loss: 0.4963, Train Acc: 0.9554, Test Acc: 0.8807\n"
          ]
        },
        {
          "output_type": "stream",
          "name": "stderr",
          "text": [
            "Epoch 27/60 [Train]: 100%|██████████| 313/313 [00:21<00:00, 14.69it/s, acc=1.91, loss=0.496]\n",
            "Epoch 27/60 [Test]: 100%|██████████| 79/79 [00:02<00:00, 35.35it/s, acc=7.02, loss=0.53]\n"
          ]
        },
        {
          "output_type": "stream",
          "name": "stdout",
          "text": [
            "Epoch 27/60 - Train Loss: 0.4958, Train Acc: 0.9564, Test Acc: 0.8870\n",
            "Model saved with accuracy: 0.8870\n"
          ]
        },
        {
          "output_type": "stream",
          "name": "stderr",
          "text": [
            "Epoch 28/60 [Train]: 100%|██████████| 313/313 [00:20<00:00, 15.56it/s, acc=1.92, loss=0.493]\n",
            "Epoch 28/60 [Test]: 100%|██████████| 79/79 [00:02<00:00, 29.06it/s, acc=7.01, loss=0.531]\n"
          ]
        },
        {
          "output_type": "stream",
          "name": "stdout",
          "text": [
            "Epoch 28/60 - Train Loss: 0.4931, Train Acc: 0.9617, Test Acc: 0.8857\n"
          ]
        },
        {
          "output_type": "stream",
          "name": "stderr",
          "text": [
            "Epoch 29/60 [Train]: 100%|██████████| 313/313 [00:20<00:00, 15.39it/s, acc=1.93, loss=0.491]\n",
            "Epoch 29/60 [Test]: 100%|██████████| 79/79 [00:02<00:00, 35.91it/s, acc=7.02, loss=0.53]\n"
          ]
        },
        {
          "output_type": "stream",
          "name": "stdout",
          "text": [
            "Epoch 29/60 - Train Loss: 0.4912, Train Acc: 0.9657, Test Acc: 0.8876\n",
            "Model saved with accuracy: 0.8876\n"
          ]
        },
        {
          "output_type": "stream",
          "name": "stderr",
          "text": [
            "Epoch 30/60 [Train]: 100%|██████████| 313/313 [00:20<00:00, 15.52it/s, acc=1.93, loss=0.491]\n",
            "Epoch 30/60 [Test]: 100%|██████████| 79/79 [00:03<00:00, 24.55it/s, acc=7.03, loss=0.53]\n"
          ]
        },
        {
          "output_type": "stream",
          "name": "stdout",
          "text": [
            "Epoch 30/60 - Train Loss: 0.4910, Train Acc: 0.9661, Test Acc: 0.8887\n",
            "Model saved with accuracy: 0.8887\n"
          ]
        },
        {
          "output_type": "stream",
          "name": "stderr",
          "text": [
            "Epoch 31/60 [Train]: 100%|██████████| 313/313 [00:20<00:00, 15.45it/s, acc=1.93, loss=0.491]\n",
            "Epoch 31/60 [Test]: 100%|██████████| 79/79 [00:02<00:00, 35.46it/s, acc=7.02, loss=0.53]\n"
          ]
        },
        {
          "output_type": "stream",
          "name": "stdout",
          "text": [
            "Epoch 31/60 - Train Loss: 0.4906, Train Acc: 0.9669, Test Acc: 0.8878\n"
          ]
        },
        {
          "output_type": "stream",
          "name": "stderr",
          "text": [
            "Epoch 32/60 [Train]: 100%|██████████| 313/313 [00:20<00:00, 15.44it/s, acc=1.93, loss=0.491]\n",
            "Epoch 32/60 [Test]: 100%|██████████| 79/79 [00:02<00:00, 26.69it/s, acc=7, loss=0.532]\n"
          ]
        },
        {
          "output_type": "stream",
          "name": "stdout",
          "text": [
            "Epoch 32/60 - Train Loss: 0.4914, Train Acc: 0.9652, Test Acc: 0.8844\n"
          ]
        },
        {
          "output_type": "stream",
          "name": "stderr",
          "text": [
            "Epoch 33/60 [Train]: 100%|██████████| 313/313 [00:19<00:00, 15.77it/s, acc=1.93, loss=0.491]\n",
            "Epoch 33/60 [Test]: 100%|██████████| 79/79 [00:02<00:00, 34.69it/s, acc=7.03, loss=0.53]\n"
          ]
        },
        {
          "output_type": "stream",
          "name": "stdout",
          "text": [
            "Epoch 33/60 - Train Loss: 0.4912, Train Acc: 0.9657, Test Acc: 0.8888\n",
            "Model saved with accuracy: 0.8888\n"
          ]
        },
        {
          "output_type": "stream",
          "name": "stderr",
          "text": [
            "Epoch 34/60 [Train]: 100%|██████████| 313/313 [00:20<00:00, 15.25it/s, acc=1.93, loss=0.491]\n",
            "Epoch 34/60 [Test]: 100%|██████████| 79/79 [00:02<00:00, 32.58it/s, acc=7.01, loss=0.53]\n"
          ]
        },
        {
          "output_type": "stream",
          "name": "stdout",
          "text": [
            "Epoch 34/60 - Train Loss: 0.4913, Train Acc: 0.9656, Test Acc: 0.8864\n"
          ]
        },
        {
          "output_type": "stream",
          "name": "stderr",
          "text": [
            "Epoch 35/60 [Train]: 100%|██████████| 313/313 [00:19<00:00, 15.74it/s, acc=1.93, loss=0.49]\n",
            "Epoch 35/60 [Test]: 100%|██████████| 79/79 [00:02<00:00, 35.53it/s, acc=7.01, loss=0.53]\n"
          ]
        },
        {
          "output_type": "stream",
          "name": "stdout",
          "text": [
            "Epoch 35/60 - Train Loss: 0.4904, Train Acc: 0.9673, Test Acc: 0.8865\n"
          ]
        },
        {
          "output_type": "stream",
          "name": "stderr",
          "text": [
            "Epoch 36/60 [Train]: 100%|██████████| 313/313 [00:20<00:00, 15.19it/s, acc=1.93, loss=0.491]\n",
            "Epoch 36/60 [Test]: 100%|██████████| 79/79 [00:02<00:00, 35.70it/s, acc=6.99, loss=0.532]\n"
          ]
        },
        {
          "output_type": "stream",
          "name": "stdout",
          "text": [
            "Epoch 36/60 - Train Loss: 0.4915, Train Acc: 0.9650, Test Acc: 0.8833\n"
          ]
        },
        {
          "output_type": "stream",
          "name": "stderr",
          "text": [
            "Epoch 37/60 [Train]: 100%|██████████| 313/313 [00:19<00:00, 15.77it/s, acc=1.93, loss=0.49]\n",
            "Epoch 37/60 [Test]: 100%|██████████| 79/79 [00:02<00:00, 35.69it/s, acc=7.01, loss=0.532]\n"
          ]
        },
        {
          "output_type": "stream",
          "name": "stdout",
          "text": [
            "Epoch 37/60 - Train Loss: 0.4902, Train Acc: 0.9676, Test Acc: 0.8857\n"
          ]
        },
        {
          "output_type": "stream",
          "name": "stderr",
          "text": [
            "Epoch 38/60 [Train]: 100%|██████████| 313/313 [00:21<00:00, 14.61it/s, acc=1.93, loss=0.49]\n",
            "Epoch 38/60 [Test]: 100%|██████████| 79/79 [00:02<00:00, 35.21it/s, acc=7.03, loss=0.53]\n"
          ]
        },
        {
          "output_type": "stream",
          "name": "stdout",
          "text": [
            "Epoch 38/60 - Train Loss: 0.4897, Train Acc: 0.9688, Test Acc: 0.8881\n"
          ]
        },
        {
          "output_type": "stream",
          "name": "stderr",
          "text": [
            "Epoch 39/60 [Train]: 100%|██████████| 313/313 [00:20<00:00, 15.59it/s, acc=1.93, loss=0.49]\n",
            "Epoch 39/60 [Test]: 100%|██████████| 79/79 [00:02<00:00, 27.74it/s, acc=7.03, loss=0.529]\n"
          ]
        },
        {
          "output_type": "stream",
          "name": "stdout",
          "text": [
            "Epoch 39/60 - Train Loss: 0.4896, Train Acc: 0.9688, Test Acc: 0.8886\n"
          ]
        },
        {
          "output_type": "stream",
          "name": "stderr",
          "text": [
            "Epoch 40/60 [Train]: 100%|██████████| 313/313 [00:20<00:00, 15.53it/s, acc=1.94, loss=0.489]\n",
            "Epoch 40/60 [Test]: 100%|██████████| 79/79 [00:02<00:00, 35.33it/s, acc=7.04, loss=0.529]\n"
          ]
        },
        {
          "output_type": "stream",
          "name": "stdout",
          "text": [
            "Epoch 40/60 - Train Loss: 0.4889, Train Acc: 0.9705, Test Acc: 0.8903\n",
            "Model saved with accuracy: 0.8903\n"
          ]
        },
        {
          "output_type": "stream",
          "name": "stderr",
          "text": [
            "Epoch 41/60 [Train]: 100%|██████████| 313/313 [00:19<00:00, 15.66it/s, acc=1.94, loss=0.488]\n",
            "Epoch 41/60 [Test]: 100%|██████████| 79/79 [00:02<00:00, 26.39it/s, acc=7.07, loss=0.527]\n"
          ]
        },
        {
          "output_type": "stream",
          "name": "stdout",
          "text": [
            "Epoch 41/60 - Train Loss: 0.4885, Train Acc: 0.9710, Test Acc: 0.8934\n",
            "Model saved with accuracy: 0.8934\n"
          ]
        },
        {
          "output_type": "stream",
          "name": "stderr",
          "text": [
            "Epoch 42/60 [Train]: 100%|██████████| 313/313 [00:20<00:00, 15.39it/s, acc=1.94, loss=0.489]\n",
            "Epoch 42/60 [Test]: 100%|██████████| 79/79 [00:02<00:00, 35.50it/s, acc=7.04, loss=0.529]\n"
          ]
        },
        {
          "output_type": "stream",
          "name": "stdout",
          "text": [
            "Epoch 42/60 - Train Loss: 0.4892, Train Acc: 0.9695, Test Acc: 0.8903\n"
          ]
        },
        {
          "output_type": "stream",
          "name": "stderr",
          "text": [
            "Epoch 43/60 [Train]: 100%|██████████| 313/313 [00:20<00:00, 15.53it/s, acc=1.94, loss=0.489]\n",
            "Epoch 43/60 [Test]: 100%|██████████| 79/79 [00:02<00:00, 27.66it/s, acc=7.02, loss=0.53]\n"
          ]
        },
        {
          "output_type": "stream",
          "name": "stdout",
          "text": [
            "Epoch 43/60 - Train Loss: 0.4894, Train Acc: 0.9692, Test Acc: 0.8878\n"
          ]
        },
        {
          "output_type": "stream",
          "name": "stderr",
          "text": [
            "Epoch 44/60 [Train]: 100%|██████████| 313/313 [00:19<00:00, 15.81it/s, acc=1.94, loss=0.489]\n",
            "Epoch 44/60 [Test]: 100%|██████████| 79/79 [00:02<00:00, 36.16it/s, acc=7.03, loss=0.53]\n"
          ]
        },
        {
          "output_type": "stream",
          "name": "stdout",
          "text": [
            "Epoch 44/60 - Train Loss: 0.4887, Train Acc: 0.9705, Test Acc: 0.8885\n"
          ]
        },
        {
          "output_type": "stream",
          "name": "stderr",
          "text": [
            "Epoch 45/60 [Train]: 100%|██████████| 313/313 [00:20<00:00, 15.45it/s, acc=1.94, loss=0.488]\n",
            "Epoch 45/60 [Test]: 100%|██████████| 79/79 [00:02<00:00, 29.86it/s, acc=6.95, loss=0.535]\n"
          ]
        },
        {
          "output_type": "stream",
          "name": "stdout",
          "text": [
            "Epoch 45/60 - Train Loss: 0.4885, Train Acc: 0.9712, Test Acc: 0.8780\n"
          ]
        },
        {
          "output_type": "stream",
          "name": "stderr",
          "text": [
            "Epoch 46/60 [Train]: 100%|██████████| 313/313 [00:19<00:00, 15.82it/s, acc=1.94, loss=0.488]\n",
            "Epoch 46/60 [Test]: 100%|██████████| 79/79 [00:02<00:00, 36.01it/s, acc=7.04, loss=0.529]\n"
          ]
        },
        {
          "output_type": "stream",
          "name": "stdout",
          "text": [
            "Epoch 46/60 - Train Loss: 0.4877, Train Acc: 0.9726, Test Acc: 0.8897\n"
          ]
        },
        {
          "output_type": "stream",
          "name": "stderr",
          "text": [
            "Epoch 47/60 [Train]: 100%|██████████| 313/313 [00:22<00:00, 14.15it/s, acc=1.94, loss=0.488]\n",
            "Epoch 47/60 [Test]: 100%|██████████| 79/79 [00:02<00:00, 34.91it/s, acc=7.03, loss=0.529]\n"
          ]
        },
        {
          "output_type": "stream",
          "name": "stdout",
          "text": [
            "Epoch 47/60 - Train Loss: 0.4876, Train Acc: 0.9729, Test Acc: 0.8890\n"
          ]
        },
        {
          "output_type": "stream",
          "name": "stderr",
          "text": [
            "Epoch 48/60 [Train]: 100%|██████████| 313/313 [00:19<00:00, 15.77it/s, acc=1.95, loss=0.487]\n",
            "Epoch 48/60 [Test]: 100%|██████████| 79/79 [00:02<00:00, 35.56it/s, acc=7.03, loss=0.529]\n"
          ]
        },
        {
          "output_type": "stream",
          "name": "stdout",
          "text": [
            "Epoch 48/60 - Train Loss: 0.4869, Train Acc: 0.9742, Test Acc: 0.8890\n"
          ]
        },
        {
          "output_type": "stream",
          "name": "stderr",
          "text": [
            "Epoch 49/60 [Train]: 100%|██████████| 313/313 [00:21<00:00, 14.67it/s, acc=1.94, loss=0.488]\n",
            "Epoch 49/60 [Test]: 100%|██████████| 79/79 [00:02<00:00, 35.80it/s, acc=6.99, loss=0.532]\n"
          ]
        },
        {
          "output_type": "stream",
          "name": "stdout",
          "text": [
            "Epoch 49/60 - Train Loss: 0.4880, Train Acc: 0.9721, Test Acc: 0.8836\n"
          ]
        },
        {
          "output_type": "stream",
          "name": "stderr",
          "text": [
            "Epoch 50/60 [Train]: 100%|██████████| 313/313 [00:19<00:00, 15.82it/s, acc=1.94, loss=0.488]\n",
            "Epoch 50/60 [Test]: 100%|██████████| 79/79 [00:02<00:00, 30.99it/s, acc=7.03, loss=0.53]\n"
          ]
        },
        {
          "output_type": "stream",
          "name": "stdout",
          "text": [
            "Epoch 50/60 - Train Loss: 0.4879, Train Acc: 0.9722, Test Acc: 0.8889\n"
          ]
        },
        {
          "output_type": "stream",
          "name": "stderr",
          "text": [
            "Epoch 51/60 [Train]: 100%|██████████| 313/313 [00:20<00:00, 15.37it/s, acc=1.94, loss=0.487]\n",
            "Epoch 51/60 [Test]: 100%|██████████| 79/79 [00:02<00:00, 34.61it/s, acc=7.02, loss=0.53]\n"
          ]
        },
        {
          "output_type": "stream",
          "name": "stdout",
          "text": [
            "Epoch 51/60 - Train Loss: 0.4871, Train Acc: 0.9740, Test Acc: 0.8874\n"
          ]
        },
        {
          "output_type": "stream",
          "name": "stderr",
          "text": [
            "Epoch 52/60 [Train]: 100%|██████████| 313/313 [00:19<00:00, 15.73it/s, acc=1.94, loss=0.488]\n",
            "Epoch 52/60 [Test]: 100%|██████████| 79/79 [00:02<00:00, 26.86it/s, acc=6.98, loss=0.532]\n"
          ]
        },
        {
          "output_type": "stream",
          "name": "stdout",
          "text": [
            "Epoch 52/60 - Train Loss: 0.4882, Train Acc: 0.9717, Test Acc: 0.8822\n"
          ]
        },
        {
          "output_type": "stream",
          "name": "stderr",
          "text": [
            "Epoch 53/60 [Train]: 100%|██████████| 313/313 [00:20<00:00, 15.39it/s, acc=1.95, loss=0.487]\n",
            "Epoch 53/60 [Test]: 100%|██████████| 79/79 [00:02<00:00, 35.58it/s, acc=7.04, loss=0.529]\n"
          ]
        },
        {
          "output_type": "stream",
          "name": "stdout",
          "text": [
            "Epoch 53/60 - Train Loss: 0.4869, Train Acc: 0.9742, Test Acc: 0.8900\n"
          ]
        },
        {
          "output_type": "stream",
          "name": "stderr",
          "text": [
            "Epoch 54/60 [Train]: 100%|██████████| 313/313 [00:19<00:00, 15.82it/s, acc=1.95, loss=0.487]\n",
            "Epoch 54/60 [Test]: 100%|██████████| 79/79 [00:02<00:00, 27.34it/s, acc=7.01, loss=0.53]\n"
          ]
        },
        {
          "output_type": "stream",
          "name": "stdout",
          "text": [
            "Epoch 54/60 - Train Loss: 0.4868, Train Acc: 0.9747, Test Acc: 0.8857\n"
          ]
        },
        {
          "output_type": "stream",
          "name": "stderr",
          "text": [
            "Epoch 55/60 [Train]: 100%|██████████| 313/313 [00:20<00:00, 15.51it/s, acc=1.95, loss=0.486]\n",
            "Epoch 55/60 [Test]: 100%|██████████| 79/79 [00:02<00:00, 35.87it/s, acc=7.05, loss=0.528]\n"
          ]
        },
        {
          "output_type": "stream",
          "name": "stdout",
          "text": [
            "Epoch 55/60 - Train Loss: 0.4860, Train Acc: 0.9762, Test Acc: 0.8907\n"
          ]
        },
        {
          "output_type": "stream",
          "name": "stderr",
          "text": [
            "Epoch 56/60 [Train]: 100%|██████████| 313/313 [00:19<00:00, 15.88it/s, acc=1.95, loss=0.486]\n",
            "Epoch 56/60 [Test]: 100%|██████████| 79/79 [00:02<00:00, 26.42it/s, acc=7.05, loss=0.528]\n"
          ]
        },
        {
          "output_type": "stream",
          "name": "stdout",
          "text": [
            "Epoch 56/60 - Train Loss: 0.4856, Train Acc: 0.9769, Test Acc: 0.8914\n"
          ]
        },
        {
          "output_type": "stream",
          "name": "stderr",
          "text": [
            "Epoch 57/60 [Train]: 100%|██████████| 313/313 [00:20<00:00, 15.57it/s, acc=1.95, loss=0.486]\n",
            "Epoch 57/60 [Test]: 100%|██████████| 79/79 [00:02<00:00, 35.95it/s, acc=7.02, loss=0.53]\n"
          ]
        },
        {
          "output_type": "stream",
          "name": "stdout",
          "text": [
            "Epoch 57/60 - Train Loss: 0.4859, Train Acc: 0.9764, Test Acc: 0.8869\n"
          ]
        },
        {
          "output_type": "stream",
          "name": "stderr",
          "text": [
            "Epoch 58/60 [Train]: 100%|██████████| 313/313 [00:20<00:00, 15.64it/s, acc=1.95, loss=0.486]\n",
            "Epoch 58/60 [Test]: 100%|██████████| 79/79 [00:03<00:00, 25.35it/s, acc=7.05, loss=0.528]\n"
          ]
        },
        {
          "output_type": "stream",
          "name": "stdout",
          "text": [
            "Epoch 58/60 - Train Loss: 0.4860, Train Acc: 0.9760, Test Acc: 0.8907\n"
          ]
        },
        {
          "output_type": "stream",
          "name": "stderr",
          "text": [
            "Epoch 59/60 [Train]: 100%|██████████| 313/313 [00:20<00:00, 15.63it/s, acc=1.95, loss=0.485]\n",
            "Epoch 59/60 [Test]: 100%|██████████| 79/79 [00:02<00:00, 36.22it/s, acc=6.98, loss=0.533]\n"
          ]
        },
        {
          "output_type": "stream",
          "name": "stdout",
          "text": [
            "Epoch 59/60 - Train Loss: 0.4854, Train Acc: 0.9774, Test Acc: 0.8829\n"
          ]
        },
        {
          "output_type": "stream",
          "name": "stderr",
          "text": [
            "Epoch 60/60 [Train]: 100%|██████████| 313/313 [00:22<00:00, 13.62it/s, acc=1.95, loss=0.486]\n",
            "Epoch 60/60 [Test]: 100%|██████████| 79/79 [00:02<00:00, 27.92it/s, acc=7.05, loss=0.528]\n"
          ]
        },
        {
          "output_type": "stream",
          "name": "stdout",
          "text": [
            "Epoch 60/60 - Train Loss: 0.4857, Train Acc: 0.9766, Test Acc: 0.8915\n"
          ]
        },
        {
          "output_type": "display_data",
          "data": {
            "text/plain": [
              "<Figure size 1200x600 with 2 Axes>"
            ],
            "image/png": "[encoded data removed]"
          },
          "metadata": {}
        }
      ],
      "source": [
        "# 正常的\n",
        "import torch\n",
        "import torch.nn as nn\n",
        "import torch.optim as opt\n",
        "import torch.nn.functional as F\n",
        "from torch.utils.data import Dataset, DataLoader\n",
        "import os\n",
        "import re\n",
        "import numpy as np\n",
        "from tqdm import tqdm\n",
        "import torch.utils.data as data\n",
        "import pandas as pd\n",
        "import matplotlib.pyplot as plt\n",
        "import pickle\n",
        "\n",
        "\n",
        "# 檢查是否有可用的GPU，否則使用CPU\n",
        "device = torch.device(\"cuda\" if torch.cuda.is_available() else \"cpu\")\n",
        "\n",
        "class IMDB(Dataset):\n",
        "    def __init__(self, data, max_len=500):\n",
        "        self.data = []\n",
        "        reviews = data['review'].tolist()\n",
        "        sentiments = data['sentiment'].tolist()\n",
        "        reviews, max_len, self.token_to_num = self.get_token2num_maxlen(reviews)\n",
        "        max_len = 500\n",
        "\n",
        "        for review, sentiment in zip(reviews, sentiments):\n",
        "            if max_len > len(review):\n",
        "                padding_cnt = max_len - len(review)\n",
        "                review += padding_cnt * [0]\n",
        "            else:\n",
        "                review = review[:max_len]\n",
        "\n",
        "            if sentiment == 'positive':\n",
        "                label = 1\n",
        "            else:\n",
        "                label = 0\n",
        "\n",
        "            self.data.append([review, label])\n",
        "\n",
        "    def __getitem__(self, index):\n",
        "        datas = torch.tensor(self.data[index][0])\n",
        "        labels = torch.tensor(self.data[index][1])\n",
        "\n",
        "        return datas, labels\n",
        "\n",
        "    def __len__(self):\n",
        "        return len(self.data)\n",
        "\n",
        "    def preprocess_text(self, sentence):\n",
        "        sentence = re.sub(r'<[^>]+>', ' ', sentence)\n",
        "        sentence = re.sub('[^a-zA-Z]', ' ', sentence)\n",
        "        sentence = re.sub(r\"\\s+[a-zA-Z]\\s+\", ' ', sentence)\n",
        "        sentence = re.sub(r'\\s+', ' ', sentence)\n",
        "\n",
        "        return sentence.lower()\n",
        "\n",
        "\n",
        "    def get_token2num_maxlen(self, reviews, enable=True):\n",
        "        token = []\n",
        "        for review in reviews:\n",
        "            review = self.preprocess_text(review)\n",
        "            token += review.split(' ')\n",
        "\n",
        "        token_to_num = {data: cnt for cnt, data in enumerate(list(set(token)), 1)}\n",
        "\n",
        "        num = []\n",
        "        max_len = 0\n",
        "        for review in reviews:\n",
        "            review = self.preprocess_text(review)\n",
        "            tmp = []\n",
        "            for token in review.split(' '):\n",
        "                tmp.append(token_to_num[token])\n",
        "\n",
        "            if len(tmp) > max_len:\n",
        "                max_len = len(tmp)\n",
        "            num.append(tmp)\n",
        "\n",
        "        return num, max_len, token_to_num  # 返回 token_to_num\n",
        "\n",
        "class RNN(nn.Module):\n",
        "    def __init__(self, embedding_dim, hidden_size, num_layer, token_to_num):\n",
        "        super().__init__()\n",
        "        self.embedding_dim = embedding_dim\n",
        "        self.hidden_size = hidden_size\n",
        "        self.num_layer = num_layer\n",
        "        self.token_to_num = token_to_num  # 新增\n",
        "\n",
        "        self.embedding = nn.Embedding(127561, self.embedding_dim)\n",
        "        self.lstm = nn.LSTM(self.embedding_dim, self.hidden_size, self.num_layer, bidirectional=True)\n",
        "        self.fc = nn.Linear(hidden_size * 4, 20)\n",
        "        self.fc1 = nn.Linear(20, 2)\n",
        "\n",
        "    def preprocess_text(self, sentence):\n",
        "        sentence = re.sub(r'<[^>]+>', ' ', sentence)\n",
        "        sentence = re.sub('[^a-zA-Z]', ' ', sentence)\n",
        "        sentence = re.sub(r\"\\s+[a-zA-Z]\\s+\", ' ', sentence)\n",
        "        sentence = re.sub(r'\\s+', ' ', sentence)\n",
        "\n",
        "        return sentence.lower()\n",
        "\n",
        "    def forward(self, x):\n",
        "        x = self.embedding(x)\n",
        "        states, hidden = self.lstm(x.permute([1,0,2]), None)\n",
        "        x = torch.cat((states[0], states[-1]), 1)\n",
        "        x = F.relu(self.fc(x))\n",
        "        x = F.relu(self.fc1(x))\n",
        "        x = torch.sigmoid(x)\n",
        "        return x\n",
        "\n",
        "    def predict(self, review, max_len=500):\n",
        "        # 處理文本\n",
        "        processed_review = self.preprocess_text(review)\n",
        "\n",
        "        # 轉換為數字表示\n",
        "        num_review = [self.token_to_num.get(word, 0) for word in processed_review.split()]\n",
        "\n",
        "        # 添加填充或截斷\n",
        "        if len(num_review) < max_len:\n",
        "            num_review += [0] * (max_len - len(num_review))\n",
        "        else:\n",
        "            num_review = num_review[:max_len]\n",
        "\n",
        "        # 做出預測\n",
        "        with torch.no_grad():\n",
        "            data = torch.tensor([num_review]).to(device)\n",
        "            output = self(data)\n",
        "            prediction = torch.argmax(output, dim=1)\n",
        "        return prediction.item()\n",
        "\n",
        "def train(train_loader, test_loader, model, optimizer, criterion, model_save_path):\n",
        "    epochs = 60\n",
        "    train_losses, train_accs, test_accs = [], [], []\n",
        "    best_acc = 0.0  # 初始化最佳準確率\n",
        "\n",
        "    for epoch in range(epochs):\n",
        "        train_loss = 0\n",
        "        train_acc = 0\n",
        "        train_iter = tqdm(train_loader, desc=f'Epoch {epoch+1}/{epochs} [Train]')\n",
        "\n",
        "        model.train()\n",
        "        for cnt, (data, label) in enumerate(train_iter, 1):\n",
        "            data, label = data.to(device), label.to(device)\n",
        "            outputs = model(data)\n",
        "            loss = criterion(outputs, label)\n",
        "            _, predict_label = torch.max(outputs, 1)\n",
        "\n",
        "            optimizer.zero_grad()\n",
        "            loss.backward()\n",
        "            optimizer.step()\n",
        "\n",
        "            train_loss += loss.item()\n",
        "            train_acc += (predict_label == label).sum().item()\n",
        "\n",
        "            # 更新進度條的描述和後綴\n",
        "            train_iter.set_postfix(loss=train_loss / cnt, acc=train_acc / (cnt * data.size(0)))\n",
        "\n",
        "        avg_train_loss = train_loss / len(train_loader)\n",
        "        avg_train_acc = train_acc / len(train_loader.dataset)\n",
        "        train_losses.append(avg_train_loss)\n",
        "        train_accs.append(avg_train_acc)\n",
        "\n",
        "        test_loss = 0\n",
        "        test_acc = 0\n",
        "        test_iter = tqdm(test_loader, desc=f'Epoch {epoch+1}/{epochs} [Test]')\n",
        "        model.eval()\n",
        "        with torch.no_grad():\n",
        "            for cnt, (data, label) in enumerate(test_iter, 1):\n",
        "                data, label = data.to(device), label.to(device)\n",
        "                outputs = model(data)\n",
        "                loss = criterion(outputs, label)\n",
        "                _, predict_label = torch.max(outputs, 1)\n",
        "                test_loss += loss.item()\n",
        "                test_acc += (predict_label == label).sum().item()\n",
        "\n",
        "                # 更新進度條的描述和後綴\n",
        "                test_iter.set_postfix(loss=test_loss / cnt, acc=test_acc / (cnt * data.size(0)))\n",
        "\n",
        "        avg_test_acc = test_acc / len(test_loader.dataset)\n",
        "        test_accs.append(avg_test_acc)\n",
        "\n",
        "        print(f'Epoch {epoch+1}/{epochs} - Train Loss: {avg_train_loss:.4f}, Train Acc: {avg_train_acc:.4f}, Test Acc: {avg_test_acc:.4f}')\n",
        "\n",
        "        if avg_test_acc > best_acc:\n",
        "            best_acc = avg_test_acc\n",
        "            torch.save(model.state_dict(), model_save_path)\n",
        "            print(f'Model saved with accuracy: {best_acc:.4f}')\n",
        "\n",
        "    return train_losses, train_accs, test_accs\n",
        "\n",
        "\n",
        "# 讀取數據\n",
        "df = pd.read_csv('/content/IMDB_Dataset.csv')\n",
        "\n",
        "# 數據處理\n",
        "dataset = IMDB(df)\n",
        "_, _, token_to_num = dataset.get_token2num_maxlen(df['review'].tolist())\n",
        "with open('token_to_num.pkl', 'wb') as f:\n",
        "    pickle.dump(token_to_num, f)\n",
        "train_set_size = int(len(dataset) * 0.8)\n",
        "test_set_size = len(dataset) - train_set_size\n",
        "train_set, test_set = data.random_split(dataset, [train_set_size, test_set_size])\n",
        "\n",
        "# DataLoader\n",
        "train_loader = DataLoader(train_set, batch_size=128, shuffle=True, num_workers=0)\n",
        "test_loader = DataLoader(test_set, batch_size=128, shuffle=True, num_workers=0)\n",
        "\n",
        "# 加載 token_to_num 字典\n",
        "with open('token_to_num.pkl', 'rb') as f:\n",
        "    token_to_num = pickle.load(f)\n",
        "\n",
        "# 創建模型實例\n",
        "model = RNN(embedding_dim=256, hidden_size=64, num_layer=2, token_to_num=token_to_num).to(device)\n",
        "optimizer = opt.Adam(model.parameters())\n",
        "criterion = nn.CrossEntropyLoss()\n",
        "\n",
        "model_save_path = '/content/drive/MyDrive/best_model.pt'\n",
        "train_losses, train_accs, test_accs = train(train_loader, test_loader, model, optimizer, criterion, model_save_path)\n",
        "\n",
        "\n",
        "# 繪製訓練過程中的損失和準確率圖\n",
        "plt.figure(figsize=(12, 6))\n",
        "plt.subplot(1, 2, 1)\n",
        "plt.plot(train_losses, label='Train Loss')\n",
        "plt.title('Training Loss')\n",
        "plt.xlabel('Epoch')\n",
        "plt.ylabel('Loss')\n",
        "plt.legend()\n",
        "\n",
        "plt.subplot(1, 2, 2)\n",
        "plt.plot(train_accs, label='Train Accuracy')\n",
        "plt.plot(test_accs, label='Test Accuracy')\n",
        "plt.title('Accuracy')\n",
        "plt.xlabel('Epoch')\n",
        "plt.ylabel('Accuracy')\n",
        "plt.legend()\n",
        "\n",
        "plt.show()\n",
        "\n",
        "# 保存模型\n",
        "# torch.save(model.state_dict(), 'model.pt')\n",
        "\n",
        "model_save_path = '/content/drive/MyDrive/final_model.pt'\n",
        "torch.save(model.state_dict(), model_save_path)\n",
        "\n"
      ]
    }
  ]
}